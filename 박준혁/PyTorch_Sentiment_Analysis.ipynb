{
  "cells": [
    {
      "cell_type": "markdown",
      "metadata": {
        "id": "scdtn-ffC1p3"
      },
      "source": [
        "#데이터셋, 데이터로더에서 난항 겪음 -> 일단은 keras에서 데이터 불러와서 numpy 거쳐서 데이터셋으로 만듦"
      ]
    },
    {
      "cell_type": "code",
      "execution_count": 1,
      "metadata": {
        "id": "WaHFMmpGGw_3"
      },
      "outputs": [],
      "source": [
        "import numpy as np\n",
        "from tensorflow.keras.datasets import imdb\n",
        "from tensorflow.keras.preprocessing.sequence import pad_sequences\n",
        "from torch.autograd import Variable\n",
        "import torch\n",
        "from torch import nn\n",
        "from torch.utils.data import DataLoader, Dataset"
      ]
    },
    {
      "cell_type": "markdown",
      "source": [
        "# 데이터 확인"
      ],
      "metadata": {
        "id": "-E83azR9AFS6"
      }
    },
    {
      "cell_type": "code",
      "execution_count": 2,
      "metadata": {
        "colab": {
          "base_uri": "https://localhost:8080/"
        },
        "id": "p97dr7J2_6l9",
        "outputId": "d3edbbdf-40d5-473b-a387-8d876cca11da"
      },
      "outputs": [
        {
          "output_type": "stream",
          "name": "stdout",
          "text": [
            "Downloading data from https://storage.googleapis.com/tensorflow/tf-keras-datasets/imdb.npz\n",
            "17464789/17464789 [==============================] - 2s 0us/step\n",
            "훈련용 리뷰 개수 : 25000\n",
            "테스트용 리뷰 개수 : 25000\n",
            "카테고리 : 2\n"
          ]
        }
      ],
      "source": [
        "vocab_size = 10000\n",
        "(X_train, y_train), (X_test, y_test) = imdb.load_data(num_words = vocab_size)\n",
        "\n",
        "print('훈련용 리뷰 개수 : {}'.format(len(X_train)))\n",
        "print('테스트용 리뷰 개수 : {}'.format(len(X_test)))\n",
        "num_classes = len(set(y_train))\n",
        "print('카테고리 : {}'.format(num_classes))\n"
      ]
    },
    {
      "cell_type": "code",
      "execution_count": 3,
      "metadata": {
        "colab": {
          "base_uri": "https://localhost:8080/"
        },
        "id": "EnSQg2wfACAc",
        "outputId": "6d91a3d8-b1a8-4cde-ce20-dce6ab511634"
      },
      "outputs": [
        {
          "output_type": "stream",
          "name": "stdout",
          "text": [
            "<class 'numpy.ndarray'> <class 'numpy.ndarray'> <class 'numpy.ndarray'> <class 'numpy.ndarray'>\n"
          ]
        }
      ],
      "source": [
        "print(type(X_train), type(y_train), type(X_test), type(y_test))"
      ]
    },
    {
      "cell_type": "code",
      "execution_count": 4,
      "metadata": {
        "colab": {
          "base_uri": "https://localhost:8080/"
        },
        "id": "N9T6-ldZAkai",
        "outputId": "5d827a5f-9951-4788-ae9e-d4f5655b6c56"
      },
      "outputs": [
        {
          "output_type": "stream",
          "name": "stdout",
          "text": [
            "(25000,) (25000,) (25000,) (25000,)\n"
          ]
        }
      ],
      "source": [
        "print(X_train.shape, y_train.shape, X_test.shape, y_test.shape)"
      ]
    },
    {
      "cell_type": "code",
      "execution_count": 5,
      "metadata": {
        "colab": {
          "base_uri": "https://localhost:8080/"
        },
        "id": "z8bS___VBGS8",
        "outputId": "67671551-2bfc-46a8-964e-702f33fbe2e6"
      },
      "outputs": [
        {
          "output_type": "stream",
          "name": "stdout",
          "text": [
            "X_train: [list([1, 14, 22, 16, 43, 530, 973, 1622, 1385, 65, 458, 4468, 66, 3941, 4, 173, 36, 256, 5, 25, 100, 43, 838, 112, 50, 670, 2, 9, 35, 480, 284, 5, 150, 4, 172, 112, 167, 2, 336, 385, 39, 4, 172, 4536, 1111, 17, 546, 38, 13, 447, 4, 192, 50, 16, 6, 147, 2025, 19, 14, 22, 4, 1920, 4613, 469, 4, 22, 71, 87, 12, 16, 43, 530, 38, 76, 15, 13, 1247, 4, 22, 17, 515, 17, 12, 16, 626, 18, 2, 5, 62, 386, 12, 8, 316, 8, 106, 5, 4, 2223, 5244, 16, 480, 66, 3785, 33, 4, 130, 12, 16, 38, 619, 5, 25, 124, 51, 36, 135, 48, 25, 1415, 33, 6, 22, 12, 215, 28, 77, 52, 5, 14, 407, 16, 82, 2, 8, 4, 107, 117, 5952, 15, 256, 4, 2, 7, 3766, 5, 723, 36, 71, 43, 530, 476, 26, 400, 317, 46, 7, 4, 2, 1029, 13, 104, 88, 4, 381, 15, 297, 98, 32, 2071, 56, 26, 141, 6, 194, 7486, 18, 4, 226, 22, 21, 134, 476, 26, 480, 5, 144, 30, 5535, 18, 51, 36, 28, 224, 92, 25, 104, 4, 226, 65, 16, 38, 1334, 88, 12, 16, 283, 5, 16, 4472, 113, 103, 32, 15, 16, 5345, 19, 178, 32])\n",
            " list([1, 194, 1153, 194, 8255, 78, 228, 5, 6, 1463, 4369, 5012, 134, 26, 4, 715, 8, 118, 1634, 14, 394, 20, 13, 119, 954, 189, 102, 5, 207, 110, 3103, 21, 14, 69, 188, 8, 30, 23, 7, 4, 249, 126, 93, 4, 114, 9, 2300, 1523, 5, 647, 4, 116, 9, 35, 8163, 4, 229, 9, 340, 1322, 4, 118, 9, 4, 130, 4901, 19, 4, 1002, 5, 89, 29, 952, 46, 37, 4, 455, 9, 45, 43, 38, 1543, 1905, 398, 4, 1649, 26, 6853, 5, 163, 11, 3215, 2, 4, 1153, 9, 194, 775, 7, 8255, 2, 349, 2637, 148, 605, 2, 8003, 15, 123, 125, 68, 2, 6853, 15, 349, 165, 4362, 98, 5, 4, 228, 9, 43, 2, 1157, 15, 299, 120, 5, 120, 174, 11, 220, 175, 136, 50, 9, 4373, 228, 8255, 5, 2, 656, 245, 2350, 5, 4, 9837, 131, 152, 491, 18, 2, 32, 7464, 1212, 14, 9, 6, 371, 78, 22, 625, 64, 1382, 9, 8, 168, 145, 23, 4, 1690, 15, 16, 4, 1355, 5, 28, 6, 52, 154, 462, 33, 89, 78, 285, 16, 145, 95])\n",
            " list([1, 14, 47, 8, 30, 31, 7, 4, 249, 108, 7, 4, 5974, 54, 61, 369, 13, 71, 149, 14, 22, 112, 4, 2401, 311, 12, 16, 3711, 33, 75, 43, 1829, 296, 4, 86, 320, 35, 534, 19, 263, 4821, 1301, 4, 1873, 33, 89, 78, 12, 66, 16, 4, 360, 7, 4, 58, 316, 334, 11, 4, 1716, 43, 645, 662, 8, 257, 85, 1200, 42, 1228, 2578, 83, 68, 3912, 15, 36, 165, 1539, 278, 36, 69, 2, 780, 8, 106, 14, 6905, 1338, 18, 6, 22, 12, 215, 28, 610, 40, 6, 87, 326, 23, 2300, 21, 23, 22, 12, 272, 40, 57, 31, 11, 4, 22, 47, 6, 2307, 51, 9, 170, 23, 595, 116, 595, 1352, 13, 191, 79, 638, 89, 2, 14, 9, 8, 106, 607, 624, 35, 534, 6, 227, 7, 129, 113])\n",
            " ...\n",
            " list([1, 11, 6, 230, 245, 6401, 9, 6, 1225, 446, 2, 45, 2174, 84, 8322, 4007, 21, 4, 912, 84, 2, 325, 725, 134, 2, 1715, 84, 5, 36, 28, 57, 1099, 21, 8, 140, 8, 703, 5, 2, 84, 56, 18, 1644, 14, 9, 31, 7, 4, 9406, 1209, 2295, 2, 1008, 18, 6, 20, 207, 110, 563, 12, 8, 2901, 2, 8, 97, 6, 20, 53, 4767, 74, 4, 460, 364, 1273, 29, 270, 11, 960, 108, 45, 40, 29, 2961, 395, 11, 6, 4065, 500, 7, 2, 89, 364, 70, 29, 140, 4, 64, 4780, 11, 4, 2678, 26, 178, 4, 529, 443, 2, 5, 27, 710, 117, 2, 8123, 165, 47, 84, 37, 131, 818, 14, 595, 10, 10, 61, 1242, 1209, 10, 10, 288, 2260, 1702, 34, 2901, 2, 4, 65, 496, 4, 231, 7, 790, 5, 6, 320, 234, 2766, 234, 1119, 1574, 7, 496, 4, 139, 929, 2901, 2, 7750, 5, 4241, 18, 4, 8497, 2, 250, 11, 1818, 7561, 4, 4217, 5408, 747, 1115, 372, 1890, 1006, 541, 9303, 7, 4, 59, 2, 4, 3586, 2])\n",
            " list([1, 1446, 7079, 69, 72, 3305, 13, 610, 930, 8, 12, 582, 23, 5, 16, 484, 685, 54, 349, 11, 4120, 2959, 45, 58, 1466, 13, 197, 12, 16, 43, 23, 2, 5, 62, 30, 145, 402, 11, 4131, 51, 575, 32, 61, 369, 71, 66, 770, 12, 1054, 75, 100, 2198, 8, 4, 105, 37, 69, 147, 712, 75, 3543, 44, 257, 390, 5, 69, 263, 514, 105, 50, 286, 1814, 23, 4, 123, 13, 161, 40, 5, 421, 4, 116, 16, 897, 13, 2, 40, 319, 5872, 112, 6700, 11, 4803, 121, 25, 70, 3468, 4, 719, 3798, 13, 18, 31, 62, 40, 8, 7200, 4, 2, 7, 14, 123, 5, 942, 25, 8, 721, 12, 145, 5, 202, 12, 160, 580, 202, 12, 6, 52, 58, 2, 92, 401, 728, 12, 39, 14, 251, 8, 15, 251, 5, 2, 12, 38, 84, 80, 124, 12, 9, 23])\n",
            " list([1, 17, 6, 194, 337, 7, 4, 204, 22, 45, 254, 8, 106, 14, 123, 4, 2, 270, 2, 5, 2, 2, 732, 2098, 101, 405, 39, 14, 1034, 4, 1310, 9, 115, 50, 305, 12, 47, 4, 168, 5, 235, 7, 38, 111, 699, 102, 7, 4, 4039, 9245, 9, 24, 6, 78, 1099, 17, 2345, 2, 21, 27, 9685, 6139, 5, 2, 1603, 92, 1183, 4, 1310, 7, 4, 204, 42, 97, 90, 35, 221, 109, 29, 127, 27, 118, 8, 97, 12, 157, 21, 6789, 2, 9, 6, 66, 78, 1099, 4, 631, 1191, 5, 2642, 272, 191, 1070, 6, 7585, 8, 2197, 2, 2, 544, 5, 383, 1271, 848, 1468, 2, 497, 2, 8, 1597, 8778, 2, 21, 60, 27, 239, 9, 43, 8368, 209, 405, 10, 10, 12, 764, 40, 4, 248, 20, 12, 16, 5, 174, 1791, 72, 7, 51, 6, 1739, 22, 4, 204, 131, 9])]\n",
            "\n",
            "y_train: [1 0 0 ... 0 1 0]\n"
          ]
        }
      ],
      "source": [
        "print(f\"X_train: {X_train}\\n\")\n",
        "print(f\"y_train: {y_train}\")"
      ]
    },
    {
      "cell_type": "markdown",
      "source": [
        "#데이터 전처리"
      ],
      "metadata": {
        "id": "r5YIAX3WAVQr"
      }
    },
    {
      "cell_type": "markdown",
      "source": [
        "패딩"
      ],
      "metadata": {
        "id": "tNjGrfHUBMv3"
      }
    },
    {
      "cell_type": "code",
      "execution_count": 6,
      "metadata": {
        "id": "KbldWVOd3ZYd"
      },
      "outputs": [],
      "source": [
        "max_len = 500\n",
        "X_train = pad_sequences(X_train, maxlen=max_len)\n",
        "X_test = pad_sequences(X_test, maxlen=max_len)"
      ]
    },
    {
      "cell_type": "markdown",
      "source": [
        "텐서로 변환"
      ],
      "metadata": {
        "id": "ocT_BGlzBN-y"
      }
    },
    {
      "cell_type": "code",
      "execution_count": 7,
      "metadata": {
        "id": "ZRTFF6gr9s4L"
      },
      "outputs": [],
      "source": [
        "X_train = torch.from_numpy(X_train)\n",
        "y_train = torch.from_numpy(y_train)\n",
        "X_test = torch.from_numpy(X_test)\n",
        "y_test = torch.from_numpy(y_test)"
      ]
    },
    {
      "cell_type": "markdown",
      "source": [
        "데이터셋으로 변환"
      ],
      "metadata": {
        "id": "xG6FTO0pBQGn"
      }
    },
    {
      "cell_type": "code",
      "execution_count": 8,
      "metadata": {
        "id": "9eLqi9uL_ZGV"
      },
      "outputs": [],
      "source": [
        "class CustomDataset(Dataset):\n",
        "    def __init__(self, x_data, y_data):\n",
        "        self.x_data = x_data\n",
        "        self.y_data = y_data\n",
        "\n",
        "    def __getitem__(self, index):\n",
        "        return self.x_data[index], self.y_data[index]\n",
        "\n",
        "    def __len__(self):\n",
        "        return self.x_data.shape[0]"
      ]
    },
    {
      "cell_type": "code",
      "execution_count": 9,
      "metadata": {
        "id": "ESqDq4kHBmES"
      },
      "outputs": [],
      "source": [
        "train_dataset = CustomDataset(X_train, y_train)\n",
        "test_dataset = CustomDataset(X_test, y_test)"
      ]
    },
    {
      "cell_type": "markdown",
      "source": [
        "데이터 형태 확인"
      ],
      "metadata": {
        "id": "5YXVB0GgBSY2"
      }
    },
    {
      "cell_type": "code",
      "execution_count": 10,
      "metadata": {
        "colab": {
          "base_uri": "https://localhost:8080/"
        },
        "id": "jGOKnzudFHzq",
        "outputId": "a7cf3e25-1baf-4c49-d649-0832ceba1598"
      },
      "outputs": [
        {
          "output_type": "execute_result",
          "data": {
            "text/plain": [
              "torch.Size([500])"
            ]
          },
          "metadata": {},
          "execution_count": 10
        }
      ],
      "source": [
        "train_dataset[0][0].shape"
      ]
    },
    {
      "cell_type": "code",
      "execution_count": 11,
      "metadata": {
        "colab": {
          "base_uri": "https://localhost:8080/"
        },
        "id": "mCr8uA0MIM_3",
        "outputId": "d866515f-9c8d-4fa1-e11e-f8d49dc9af5d"
      },
      "outputs": [
        {
          "output_type": "execute_result",
          "data": {
            "text/plain": [
              "tensor(1)"
            ]
          },
          "metadata": {},
          "execution_count": 11
        }
      ],
      "source": [
        "(train_dataset[0][1])"
      ]
    },
    {
      "cell_type": "markdown",
      "source": [
        "데이터로더로 변환"
      ],
      "metadata": {
        "id": "24WaqlDbBU_3"
      }
    },
    {
      "cell_type": "code",
      "execution_count": 12,
      "metadata": {
        "id": "PBugqUEgB40O"
      },
      "outputs": [],
      "source": [
        "batch_size = 64\n",
        "train_dataloader = DataLoader(train_dataset, batch_size = batch_size)\n",
        "test_dataloader = DataLoader(test_dataset, batch_size = batch_size)"
      ]
    },
    {
      "cell_type": "code",
      "execution_count": 13,
      "metadata": {
        "colab": {
          "base_uri": "https://localhost:8080/"
        },
        "id": "JVulik6nJBI4",
        "outputId": "6e7ab6e0-f55a-426d-a437-69dbe2bb1a88"
      },
      "outputs": [
        {
          "output_type": "stream",
          "name": "stdout",
          "text": [
            "torch.Size([64, 500])\n",
            "64\n"
          ]
        }
      ],
      "source": [
        "for (X, y) in train_dataloader:\n",
        "  print(X.shape)\n",
        "  print(len(y))\n",
        "  break"
      ]
    },
    {
      "cell_type": "markdown",
      "source": [
        "#모델 만들기"
      ],
      "metadata": {
        "id": "Wecy-lvBAc1X"
      }
    },
    {
      "cell_type": "markdown",
      "source": [
        "GPU 사용"
      ],
      "metadata": {
        "id": "ohijgfoEBX6s"
      }
    },
    {
      "cell_type": "code",
      "execution_count": 20,
      "metadata": {
        "colab": {
          "base_uri": "https://localhost:8080/"
        },
        "id": "ofDuh7eu4pY5",
        "outputId": "2794df93-6227-43be-f8ac-f01a06b1f56d"
      },
      "outputs": [
        {
          "output_type": "stream",
          "name": "stdout",
          "text": [
            "Using cuda device\n"
          ]
        }
      ],
      "source": [
        "device = (\n",
        "    \"cuda\"\n",
        "    if torch.cuda.is_available()\n",
        "    else \"mps\"\n",
        "    if torch.backends.mps.is_available()\n",
        "    else \"cpu\"\n",
        ")\n",
        "print(f\"Using {device} device\")"
      ]
    },
    {
      "cell_type": "markdown",
      "source": [
        "임베딩레이어, GRU, 손실함수, 옵티마이저 정의"
      ],
      "metadata": {
        "id": "GTCXFj9ABePY"
      }
    },
    {
      "cell_type": "code",
      "execution_count": 21,
      "metadata": {
        "id": "FpWG-6MvjI2K"
      },
      "outputs": [],
      "source": [
        "embedding_dim = 100\n",
        "embedding = nn.Embedding(vocab_size, embedding_dim, padding_idx = 0)"
      ]
    },
    {
      "cell_type": "code",
      "execution_count": 22,
      "metadata": {
        "id": "Mq78t05iosPP"
      },
      "outputs": [],
      "source": [
        "class GRUModel(nn.Module) :\n",
        "    def __init__(self, input_dim, hidden_dim, layer_dim, output_dim, bias=True) :\n",
        "        super(GRUModel, self).__init__()\n",
        "        self.hidden_dim = hidden_dim\n",
        "        self.layer_dim = layer_dim\n",
        "        self.embedding = nn.Embedding(vocab_size, embedding_dim)\n",
        "        self.gru = nn.GRU(input_size=input_dim, hidden_size=hidden_dim, num_layers=layer_dim, bidirectional=False, batch_first = True)\n",
        "        self.fc = nn.Linear(hidden_dim, output_dim)\n",
        "        self.sig = nn.Sigmoid()\n",
        "\n",
        "    def forward(self, x) :\n",
        "      embedded = self.embedding(x)\n",
        "      out, hidden = self.gru(embedded)\n",
        "      last_hidden = hidden.squeeze(0)\n",
        "      out = self.fc(last_hidden)\n",
        "      out = torch.flatten(out)\n",
        "      out = self.sig(out)\n",
        "      return out"
      ]
    },
    {
      "cell_type": "code",
      "execution_count": 56,
      "metadata": {
        "id": "2jyhS30ysgwl"
      },
      "outputs": [],
      "source": [
        "input_dim = 100\n",
        "hidden_dim = 128\n",
        "layer_dim = 1\n",
        "output_dim = 1\n",
        "learning_rate = 1e-3\n",
        "\n",
        "model = GRUModel(input_dim, hidden_dim, layer_dim, output_dim)\n",
        "loss_fn = nn.BCELoss()\n",
        "optimizer = torch.optim.RMSprop(model.parameters(), lr=learning_rate)"
      ]
    },
    {
      "cell_type": "code",
      "execution_count": 57,
      "metadata": {
        "id": "7plIehZL2qrj"
      },
      "outputs": [],
      "source": [
        "model = model.to(device)\n",
        "loss_fn = loss_fn.to(device)"
      ]
    },
    {
      "cell_type": "markdown",
      "metadata": {
        "id": "6A4bot2Kmf5d"
      },
      "source": [
        "차원 맞추기가 힘들다..... GRU에서 마지막 step 출력값 모아서 pred에 넣고 싶음 / 해결\n",
        "\n",
        "속도 너무 느리다 / 해결\n",
        "\n",
        "accuracy 평가 어떻게 하지? / 해결"
      ]
    },
    {
      "cell_type": "markdown",
      "source": [
        "#학습"
      ],
      "metadata": {
        "id": "z8lV0c_CBDuC"
      }
    },
    {
      "cell_type": "code",
      "execution_count": 58,
      "metadata": {
        "id": "__lnQ92kvQpH"
      },
      "outputs": [],
      "source": [
        "def train_loop(dataloader, model, loss_fn, optimizer):\n",
        "\n",
        "    size = len(dataloader.dataset)\n",
        "    model.train()\n",
        "    for batch, (X, y) in enumerate(dataloader):\n",
        "        X = X.to(device)\n",
        "        y = y.to(device)\n",
        "        pred = model(X)\n",
        "        loss = loss_fn(pred.to(torch.float), y.to(torch.float))\n",
        "\n",
        "        # Backpropagation\n",
        "        loss.backward()\n",
        "        optimizer.step()\n",
        "        optimizer.zero_grad()\n",
        "\n",
        "        if batch % 100 == 0:\n",
        "            loss, current = loss.item(), batch * batch_size + len(X)\n",
        "            print(f\"loss: {loss:>7f}  [{current:>5d}/{size:>5d}]\")\n",
        "\n",
        "\n",
        "def test_loop(dataloader, model, loss_fn):\n",
        "    # Set the model to evaluation mode - important for batch normalization and dropout layers\n",
        "    # Unnecessary in this situation but added for best practices\n",
        "    model.eval()\n",
        "    size = len(dataloader.dataset)\n",
        "    num_batches = len(dataloader)\n",
        "    test_loss, correct = 0, 0\n",
        "\n",
        "    # Evaluating the model with torch.no_grad() ensures that no gradients are computed during test mode\n",
        "    # also serves to reduce unnecessary gradient computations and memory usage for tensors with requires_grad=True\n",
        "    with torch.no_grad():\n",
        "        for X, y in dataloader:\n",
        "            X = X.to(device)\n",
        "            y = y.to(device)\n",
        "            pred = model(X)\n",
        "            test_loss += loss_fn(pred.to(torch.float), y.to(torch.float)).item()\n",
        "            pred = pred - 0.5\n",
        "            value = torch.Tensor([0])\n",
        "            value = value.to(device)\n",
        "            torch.heaviside(pred, value)\n",
        "            correct += (pred == y).sum()\n",
        "\n",
        "    test_loss /= num_batches\n",
        "    #correct /= size\n",
        "    print(f\"Test Error: \\n Accuracy: {correct}%, Avg loss: {test_loss:>8f} \\n\")"
      ]
    },
    {
      "cell_type": "code",
      "execution_count": 62,
      "metadata": {
        "colab": {
          "base_uri": "https://localhost:8080/"
        },
        "id": "i5BnbDmewreO",
        "outputId": "380c1105-6deb-465c-a02d-7be8323f35e2"
      },
      "outputs": [
        {
          "output_type": "stream",
          "name": "stdout",
          "text": [
            "Epoch 1\n",
            "-------------------------------\n",
            "loss: 0.003647  [   64/25000]\n",
            "loss: 0.072072  [ 6464/25000]\n",
            "loss: 0.005876  [12864/25000]\n",
            "loss: 0.034583  [19264/25000]\n",
            "Test Error: \n",
            " Accuracy: 0%, Avg loss: 0.627782 \n",
            "\n",
            "Epoch 2\n",
            "-------------------------------\n",
            "loss: 0.001773  [   64/25000]\n",
            "loss: 0.001854  [ 6464/25000]\n",
            "loss: 0.014828  [12864/25000]\n",
            "loss: 0.002329  [19264/25000]\n",
            "Test Error: \n",
            " Accuracy: 0%, Avg loss: 0.650301 \n",
            "\n",
            "Epoch 3\n",
            "-------------------------------\n",
            "loss: 0.002286  [   64/25000]\n",
            "loss: 0.000617  [ 6464/25000]\n",
            "loss: 0.003852  [12864/25000]\n",
            "loss: 0.000155  [19264/25000]\n",
            "Test Error: \n",
            " Accuracy: 0%, Avg loss: 0.610878 \n",
            "\n",
            "Epoch 4\n",
            "-------------------------------\n",
            "loss: 0.001282  [   64/25000]\n",
            "loss: 0.037804  [ 6464/25000]\n",
            "loss: 0.001982  [12864/25000]\n",
            "loss: 0.000601  [19264/25000]\n",
            "Test Error: \n",
            " Accuracy: 0%, Avg loss: 0.654265 \n",
            "\n",
            "Epoch 5\n",
            "-------------------------------\n",
            "loss: 0.005236  [   64/25000]\n",
            "loss: 0.002296  [ 6464/25000]\n",
            "loss: 0.002478  [12864/25000]\n",
            "loss: 0.000706  [19264/25000]\n",
            "Test Error: \n",
            " Accuracy: 0%, Avg loss: 0.692062 \n",
            "\n",
            "Epoch 6\n",
            "-------------------------------\n",
            "loss: 0.001051  [   64/25000]\n",
            "loss: 0.000294  [ 6464/25000]\n",
            "loss: 0.001141  [12864/25000]\n",
            "loss: 0.004627  [19264/25000]\n",
            "Test Error: \n",
            " Accuracy: 0%, Avg loss: 0.706984 \n",
            "\n",
            "Epoch 7\n",
            "-------------------------------\n",
            "loss: 0.002716  [   64/25000]\n",
            "loss: 0.000449  [ 6464/25000]\n",
            "loss: 0.000978  [12864/25000]\n",
            "loss: 0.000184  [19264/25000]\n",
            "Test Error: \n",
            " Accuracy: 0%, Avg loss: 0.789568 \n",
            "\n",
            "Done!\n"
          ]
        }
      ],
      "source": [
        "epochs = 7\n",
        "for t in range(epochs):\n",
        "    print(f\"Epoch {t+1}\\n-------------------------------\")\n",
        "    train_loop(train_dataloader, model, loss_fn, optimizer)\n",
        "    test_loop(test_dataloader, model, loss_fn)\n",
        "print(\"Done!\")"
      ]
    },
    {
      "cell_type": "code",
      "execution_count": 63,
      "metadata": {
        "id": "FcwT6zqT2w4z",
        "colab": {
          "base_uri": "https://localhost:8080/"
        },
        "outputId": "2b064fba-1a8f-4081-c800-9aaee1552870"
      },
      "outputs": [
        {
          "output_type": "stream",
          "name": "stdout",
          "text": [
            "accuracy: 88.029091%\n"
          ]
        }
      ],
      "source": [
        "value = torch.Tensor([0.5])\n",
        "value = value.to(device)\n",
        "i = 0\n",
        "accuracy = 0\n",
        "for X , y in test_dataloader:\n",
        "  X = X.to(device)\n",
        "  y = y.to(device)\n",
        "  pred = model(X)\n",
        "  pred = pred - 0.5\n",
        "  pred = torch.heaviside(pred, value)\n",
        "  i += 1\n",
        "  accuracy += (pred == y).sum() / len(X)\n",
        "accuracy /= i\n",
        "print(f\"accuracy: {accuracy * 100:>2f}%\")"
      ]
    },
    {
      "cell_type": "markdown",
      "source": [
        "#저장/로드"
      ],
      "metadata": {
        "id": "k-lBvIJCBq0a"
      }
    },
    {
      "cell_type": "markdown",
      "source": [
        "설정"
      ],
      "metadata": {
        "id": "JSNMjAvpBvVk"
      }
    },
    {
      "cell_type": "code",
      "source": [
        "from google.colab import drive\n",
        "drive.mount('/content/gdrive/')"
      ],
      "metadata": {
        "colab": {
          "base_uri": "https://localhost:8080/"
        },
        "id": "lop8qFBJUljp",
        "outputId": "2fe9a1bc-8d7d-44fd-f76e-8d8b824ad4b2"
      },
      "execution_count": null,
      "outputs": [
        {
          "output_type": "stream",
          "name": "stdout",
          "text": [
            "Mounted at /content/gdrive/\n"
          ]
        }
      ]
    },
    {
      "cell_type": "markdown",
      "source": [
        "저장"
      ],
      "metadata": {
        "id": "mu_ruqRWBwLJ"
      }
    },
    {
      "cell_type": "code",
      "source": [
        "torch.save(model.state_dict(), '/content/gdrive/MyDrive/second_GRU.pth')"
      ],
      "metadata": {
        "id": "TsG6pcOGTsKZ"
      },
      "execution_count": null,
      "outputs": []
    },
    {
      "cell_type": "markdown",
      "source": [
        "불러오기"
      ],
      "metadata": {
        "id": "hPNH-6ogecJG"
      }
    },
    {
      "cell_type": "code",
      "source": [
        "model = torch.load('/content/gdrive/MyDrive/first_GRU.pth')"
      ],
      "metadata": {
        "id": "o6srjmnbedot"
      },
      "execution_count": null,
      "outputs": []
    },
    {
      "cell_type": "code",
      "source": [
        "value = torch.Tensor([0.5])\n",
        "i = 0\n",
        "accuracy = 0\n",
        "for X , y in test_dataloader:\n",
        "  pred = model(X)\n",
        "  pred = pred - 0.5\n",
        "  pred = torch.heaviside(pred, value)\n",
        "  i += 1\n",
        "  accuracy += (pred == y).sum() / len(X)\n",
        "accuracy /= i\n",
        "print(f\"accuracy: {accuracy * 100:>2f}%\")"
      ],
      "metadata": {
        "colab": {
          "base_uri": "https://localhost:8080/",
          "height": 224
        },
        "id": "e55dvhaHekGf",
        "outputId": "017937e9-883f-436d-dd75-bb35ab1054ec"
      },
      "execution_count": null,
      "outputs": [
        {
          "output_type": "error",
          "ename": "TypeError",
          "evalue": "'collections.OrderedDict' object is not callable",
          "traceback": [
            "\u001b[0;31m---------------------------------------------------------------------------\u001b[0m",
            "\u001b[0;31mTypeError\u001b[0m                                 Traceback (most recent call last)",
            "\u001b[0;32m<ipython-input-17-4aafdb6b200c>\u001b[0m in \u001b[0;36m<cell line: 4>\u001b[0;34m()\u001b[0m\n\u001b[1;32m      3\u001b[0m \u001b[0maccuracy\u001b[0m \u001b[0;34m=\u001b[0m \u001b[0;36m0\u001b[0m\u001b[0;34m\u001b[0m\u001b[0;34m\u001b[0m\u001b[0m\n\u001b[1;32m      4\u001b[0m \u001b[0;32mfor\u001b[0m \u001b[0mX\u001b[0m \u001b[0;34m,\u001b[0m \u001b[0my\u001b[0m \u001b[0;32min\u001b[0m \u001b[0mtest_dataloader\u001b[0m\u001b[0;34m:\u001b[0m\u001b[0;34m\u001b[0m\u001b[0;34m\u001b[0m\u001b[0m\n\u001b[0;32m----> 5\u001b[0;31m   \u001b[0mpred\u001b[0m \u001b[0;34m=\u001b[0m \u001b[0mmodel\u001b[0m\u001b[0;34m(\u001b[0m\u001b[0mX\u001b[0m\u001b[0;34m)\u001b[0m\u001b[0;34m\u001b[0m\u001b[0;34m\u001b[0m\u001b[0m\n\u001b[0m\u001b[1;32m      6\u001b[0m   \u001b[0mpred\u001b[0m \u001b[0;34m=\u001b[0m \u001b[0mpred\u001b[0m \u001b[0;34m-\u001b[0m \u001b[0;36m0.5\u001b[0m\u001b[0;34m\u001b[0m\u001b[0;34m\u001b[0m\u001b[0m\n\u001b[1;32m      7\u001b[0m   \u001b[0mpred\u001b[0m \u001b[0;34m=\u001b[0m \u001b[0mtorch\u001b[0m\u001b[0;34m.\u001b[0m\u001b[0mheaviside\u001b[0m\u001b[0;34m(\u001b[0m\u001b[0mpred\u001b[0m\u001b[0;34m,\u001b[0m \u001b[0mvalue\u001b[0m\u001b[0;34m)\u001b[0m\u001b[0;34m\u001b[0m\u001b[0;34m\u001b[0m\u001b[0m\n",
            "\u001b[0;31mTypeError\u001b[0m: 'collections.OrderedDict' object is not callable"
          ]
        }
      ]
    }
  ],
  "metadata": {
    "colab": {
      "provenance": [],
      "gpuType": "T4"
    },
    "kernelspec": {
      "display_name": "Python 3",
      "name": "python3"
    },
    "language_info": {
      "name": "python"
    },
    "accelerator": "GPU"
  },
  "nbformat": 4,
  "nbformat_minor": 0
}