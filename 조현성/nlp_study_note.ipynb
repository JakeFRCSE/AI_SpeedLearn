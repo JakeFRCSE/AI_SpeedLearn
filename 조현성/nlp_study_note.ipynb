{
  "nbformat": 4,
  "nbformat_minor": 0,
  "metadata": {
    "colab": {
      "provenance": [],
      "toc_visible": true
    },
    "kernelspec": {
      "name": "python3",
      "display_name": "Python 3"
    },
    "language_info": {
      "name": "python"
    }
  },
  "cells": [
    {
      "cell_type": "markdown",
      "source": [
        "5기 조현성"
      ],
      "metadata": {
        "id": "hjj_2Iqf-K9O"
      }
    },
    {
      "cell_type": "markdown",
      "source": [
        "#3장"
      ],
      "metadata": {
        "id": "G9UeT9ihB7k0"
      }
    },
    {
      "cell_type": "markdown",
      "source": [
        "##Languagel Model 은 단어 시컨스(문장)에 확률을 할당하는 모델을 말함.  \n",
        "\n",
        "# 3장에서는 통계의 기반한 전통적 언어 모델(statistical Languagel Model,SLM)에 대헤 학습  \n",
        "{통계 기반 SLM은 자연어에 근사하기에는 한계가 있어 요즘은 인공 신경망을 많이 사용함}\n",
        "\n",
        "-보편적인 유형 이전 단어들이 주어졌을 때 다음 단어를 예측.  \n",
        "-다른 유형은 앞 뒤 단어들이 주어졌을 때 중간의 있는 단어를 예측.  \n",
        "\n",
        "언어 모델링은 주어진 단어들로부터 아직 모르는 단어를 예측하는 작업 언어모델이 다음단어를 예측하게 하는 작업이 언어 모델  \n",
        "\n",
        "언어모델은 확률을 통해 보다 적절한 문장을 판단한다.  \n",
        "\n",
        "\n",
        "조건부 확률이 사용됨.\n",
        "\n",
        "충분한 데이터를 관측하지 못하여 언어를 정확히 모델링하지 못하는 문제를\n",
        " sparsity problem 라고 한다. 이를 해결하기 위해 n-gram 언어 모델이나 스무딩, 백오프같은 일반화 기법이 존재하지만 결국 근본적인 해결책이 되어주지 못해 통계적 언어 모델에서 인공 신경망 언어 모델로 넘어가게 된다.  \n",
        "\n",
        " n-gram LM은 이전과는 달리 n개의 단어만 고려하여 접근 하는 방법이다.  \n",
        "\n",
        " n-gram Laguage MModel의 한계  \n",
        "  1.희소 문제 : 줄어들기는 하지만 사라지진 않는다.  \n",
        "  2.n을 선택하는 것은 trade-off 의 문제.n이 1에서 2로 늘어나는것은 성능을 높이지만 n을 크게 하면 결국 희소 문제는 점점 심해진다.  \n",
        "\n",
        "  4. 적용 Domain에 맞는 코퍼스를 수집  \n",
        "\n",
        "\n",
        "  한국어에서의 언어 모델  \n",
        "  한국어는 정~말 까다롭다  \n",
        "\n",
        "  이유 1. 한국어는 어순이 중요하지 않다.  \n",
        "  이유 2. 한국어는 교착어이다. ->한국어에서는 토큰화를 통해 접사 조사를 분리하는것이 중요한 작업이 되기도 함.  \n",
        "  이유 3. 한국어는 띄어쓰기가 제대로 지켜지지 않음.\n",
        "\n",
        "  perplexity,PPL\n",
        "\n",
        "  ->헷갈리는 정도 (즉 낮을수록 좋은 모델)\n",
        "  필요성:여러개의 모델의 성능을 비교하는것은 너무 오랜 시간이 걸림  \n",
        "  ppl이 10이 나왔다면 다음의 나올 단어를 고민할때 평균 10개정도 사이에서 고민했다고 볼 수 있다.  \n",
        "  ->하지만 이것이 테스트 케이스 상에서 높은 정확도이지 사람이 느끼기에는 아닐수도 있다\n"
      ],
      "metadata": {
        "id": "t4njrPl8khto"
      }
    },
    {
      "cell_type": "markdown",
      "source": [
        "#4장 카운터 기반의 단어 표현"
      ],
      "metadata": {
        "id": "Ijti0mE9B-e7"
      }
    },
    {
      "cell_type": "markdown",
      "source": [
        "**4. 카운트 기반 표현**  \n",
        "\n",
        "단어의 표현 방법:1. Local Representation 2. Distributed Representation  \n",
        "Local은 단어 그 자체만 보고 특정값을 맵핑하여 표현하는 방법  \n",
        "Distributed는 단어를 표현하고자 주변을 참고하여 단어를 표현 하는 방법\n",
        "Local 을 Discrete라고하고 Distributed는 Continuous라고도 한다.\n",
        "\n",
        "학습 할것: bag of Words 라는 Local Representation에 있는 단어의 빈도수 카운트하여 단어를 수치화하는 단어표현법을 익힌다. 그리고 BoW와 그 확장인 DTM에 대해서 학습 그리고 이러한 빈도수 기반 단어 표현에 단어 중요도에 따른 가중치를 줄 수 있는 TF-IDF에 대해 학습"
      ],
      "metadata": {
        "id": "jI45uqe99-nz"
      }
    },
    {
      "cell_type": "markdown",
      "source": [
        "BoW는 순서 고려 x 빈도에만 집중  \n",
        "BoW를 만드는 과정  \n",
        "(1) 각 단어에 고유한 정수 인덱스를 부여  \n",
        "(2) 각 인덱스의 위치에 단어 토큰의 등장 횟수를 기록한 벡터 생성"
      ],
      "metadata": {
        "id": "FGykWGwhCxGk"
      }
    },
    {
      "cell_type": "code",
      "source": [
        "!pip install konlpy\n"
      ],
      "metadata": {
        "id": "vPwHGPiAD7l-"
      },
      "execution_count": null,
      "outputs": []
    },
    {
      "cell_type": "code",
      "source": [
        "from konlpy.tag import Okt\n",
        "\n",
        "okt = Okt()\n",
        "\n",
        "def build_bag_of_words(document):\n",
        "  #온점 제거 및 형태소 분석\n",
        "  document=document.replace('.','')\n",
        "  tokenized_document=okt.morphs(document)#형태소 단위로 문장을 잘라 리스트 생성\n",
        "\n",
        "  word_to_index={}\n",
        "  bow=[]\n",
        "\n",
        "  for word in tokenized_document:\n",
        "    if word not in word_to_index.keys():\n",
        "      word_to_index[word]=len(word_to_index)\n",
        "      bow.insert(len(word_to_index)-1,1)\n",
        "    else:\n",
        "      index=word_to_index.get(word)\n",
        "      bow[index]=bow[index]+1\n",
        "\n",
        "  return word_to_index,bow"
      ],
      "metadata": {
        "id": "MdlNyipHENKX"
      },
      "execution_count": null,
      "outputs": []
    },
    {
      "cell_type": "code",
      "source": [
        "doc1=\"정부가 발표하는 물가상승률과 소비자가 느끼는 물가상승률은 다르다.\"\n",
        "vocab,bow=build_bag_of_words(doc1)\n",
        "print('vocabulary :', vocab)\n",
        "print('bag of words vector :',bow)"
      ],
      "metadata": {
        "colab": {
          "base_uri": "https://localhost:8080/"
        },
        "id": "EXV6iLNyEbmW",
        "outputId": "71b4cad0-1334-4f01-c4ef-55696f7c73d3"
      },
      "execution_count": null,
      "outputs": [
        {
          "output_type": "stream",
          "name": "stdout",
          "text": [
            "vocabulary : {'정부': 0, '가': 1, '발표': 2, '하는': 3, '물가상승률': 4, '과': 5, '소비자': 6, '느끼는': 7, '은': 8, '다르다': 9}\n",
            "bag of words vector : [1, 2, 1, 1, 2, 1, 1, 1, 1, 1]\n"
          ]
        }
      ]
    },
    {
      "cell_type": "code",
      "source": [
        "doc2=\"소비자는 주로 소비하는 상품을 기준으로 물가상승률을 느낀다..\"\n",
        "vocab,bow=build_bag_of_words(doc2)\n",
        "print('vocabulary :', vocab)\n",
        "print('bag of words vector :',bow)"
      ],
      "metadata": {
        "colab": {
          "base_uri": "https://localhost:8080/"
        },
        "id": "KeG0BGEGGcqu",
        "outputId": "0ef8458a-08f0-46d4-d29e-bec214bad9bf"
      },
      "execution_count": null,
      "outputs": [
        {
          "output_type": "stream",
          "name": "stdout",
          "text": [
            "vocabulary : {'소비자': 0, '는': 1, '주로': 2, '소비': 3, '하는': 4, '상품': 5, '을': 6, '기준': 7, '으로': 8, '물가상승률': 9, '느낀다': 10}\n",
            "bag of words vector : [1, 1, 1, 1, 1, 1, 2, 1, 1, 1, 1]\n"
          ]
        }
      ]
    },
    {
      "cell_type": "code",
      "source": [
        "doc3=doc1+' '+doc2\n",
        "vocab,bow=build_bag_of_words(doc3)\n",
        "print('vocabulary :', vocab)\n",
        "print('bag of words vector :',bow)"
      ],
      "metadata": {
        "colab": {
          "base_uri": "https://localhost:8080/"
        },
        "id": "IZ3bZ0cZGy6J",
        "outputId": "57c26936-2b90-47b7-ec01-ca73103575b8"
      },
      "execution_count": null,
      "outputs": [
        {
          "output_type": "stream",
          "name": "stdout",
          "text": [
            "vocabulary : {'정부': 0, '가': 1, '발표': 2, '하는': 3, '물가상승률': 4, '과': 5, '소비자': 6, '느끼는': 7, '은': 8, '다르다': 9, '는': 10, '주로': 11, '소비': 12, '상품': 13, '을': 14, '기준': 15, '으로': 16, '느낀다': 17}\n",
            "bag of words vector : [1, 2, 1, 2, 3, 1, 2, 1, 1, 1, 1, 1, 1, 1, 2, 1, 1, 1]\n"
          ]
        }
      ]
    },
    {
      "cell_type": "markdown",
      "source": [
        "ConutVectorizer 클래스로 bow 만들기"
      ],
      "metadata": {
        "id": "dSQOji5PHU2T"
      }
    },
    {
      "cell_type": "code",
      "source": [
        "from sklearn.feature_extraction.text import CountVectorizer\n",
        "\n",
        "corpus= ['you know I want your love. because I love you.']\n",
        "vector=CountVectorizer()\n",
        "\n",
        "print('bag of wordsd vector :', vector.fit_transform(corpus).toarray())\n",
        "print('vocabulary :',vector.vocabulary_)"
      ],
      "metadata": {
        "colab": {
          "base_uri": "https://localhost:8080/"
        },
        "id": "eAm8B_ySG2hV",
        "outputId": "1bf899c2-01ac-41a0-f331-aa77c4ba06c0"
      },
      "execution_count": null,
      "outputs": [
        {
          "output_type": "stream",
          "name": "stdout",
          "text": [
            "bag of wordsd vector : [[1 1 2 1 2 1]]\n",
            "vocabulary : {'you': 4, 'know': 1, 'want': 3, 'your': 5, 'love': 2, 'because': 0}\n"
          ]
        }
      ]
    },
    {
      "cell_type": "markdown",
      "source": [
        "I가 사라진것을 볼수 있는데 CountVectorizer에서는 길이가 2이상인 문자에 대해서만 토큰으로 인식하기 때문이다.  \n",
        "띄어쓰기를 기준으로 하는 낮은수준에 토큰화를 한다.  \n",
        "->물가상승률과 와 물가상승률은 의 차이를 인식하지 못함"
      ],
      "metadata": {
        "id": "LSpVwRV1IEFm"
      }
    },
    {
      "cell_type": "code",
      "source": [
        "from sklearn.feature_extraction.text import CountVectorizer\n",
        "from nltk.corpus import stopwords\n",
        "\n",
        "#사용자가 직접 정의한 불용어 사용\n",
        "\n",
        "text=[\"Family is not an important thing. it's everything.\"]\n",
        "vect=CountVectorizer(stop_words=[\"the\",\"a\",\"an\",\"not\"])\n",
        "print('bow vector:',vect.fit_transform(text).toarray())\n",
        "print('vocabulary :',vect.vocabulary_)"
      ],
      "metadata": {
        "colab": {
          "base_uri": "https://localhost:8080/"
        },
        "id": "IoGfpGo6Hf1m",
        "outputId": "ac91bbed-c9e4-4cf5-d66a-26989c364fa6"
      },
      "execution_count": null,
      "outputs": [
        {
          "output_type": "stream",
          "name": "stdout",
          "text": [
            "bow vector: [[1 1 1 1 1 1]]\n",
            "vocabulary : {'family': 1, 'is': 3, 'important': 2, 'thing': 5, 'it': 4, 'everything': 0}\n"
          ]
        }
      ]
    },
    {
      "cell_type": "markdown",
      "source": [],
      "metadata": {
        "id": "OkKLOopgLQTi"
      }
    },
    {
      "cell_type": "code",
      "source": [
        "text=[\"Family is not an important thing. it's everything.\"]\n",
        "vect=CountVectorizer(stop_words=\"english\")\n",
        "print('bow vector:',vect.fit_transform(text).toarray())\n",
        "print('vocabulary :',vect.vocabulary_)\n"
      ],
      "metadata": {
        "colab": {
          "base_uri": "https://localhost:8080/"
        },
        "id": "jGBdNqkPLLmY",
        "outputId": "6f593c60-3b63-4d72-fb84-bd84fef48c46"
      },
      "execution_count": null,
      "outputs": [
        {
          "output_type": "stream",
          "name": "stdout",
          "text": [
            "bow vector: [[1 1 1]]\n",
            "vocabulary : {'family': 0, 'important': 1, 'thing': 2}\n"
          ]
        }
      ]
    },
    {
      "cell_type": "code",
      "source": [
        "import nltk\n",
        "nltk.download('stopwords')\n"
      ],
      "metadata": {
        "id": "UjSyN-gxMGiD",
        "outputId": "26b60272-267d-4623-e42a-40e1a54c6372",
        "colab": {
          "base_uri": "https://localhost:8080/"
        }
      },
      "execution_count": null,
      "outputs": [
        {
          "output_type": "stream",
          "name": "stderr",
          "text": [
            "[nltk_data] Downloading package stopwords to /root/nltk_data...\n",
            "[nltk_data]   Unzipping corpora/stopwords.zip.\n"
          ]
        },
        {
          "output_type": "execute_result",
          "data": {
            "text/plain": [
              "True"
            ]
          },
          "metadata": {},
          "execution_count": 12
        }
      ]
    },
    {
      "cell_type": "code",
      "source": [
        "text=[\"Family is not an important thing. it's everything.\"]\n",
        "stop_words=stopwords.words(\"english\")\n",
        "vect=CountVectorizer(stop_words=stop_words)\n",
        "print('bow vector:',vect.fit_transform(text).toarray())\n",
        "print('vocabulary :',vect.vocabulary_)"
      ],
      "metadata": {
        "colab": {
          "base_uri": "https://localhost:8080/"
        },
        "id": "HxJmydqdLmkp",
        "outputId": "4dd58205-7e9e-4274-f21b-7828be66396f"
      },
      "execution_count": null,
      "outputs": [
        {
          "output_type": "stream",
          "name": "stdout",
          "text": [
            "bow vector: [[1 1 1 1]]\n",
            "vocabulary : {'family': 1, 'important': 2, 'thing': 3, 'everything': 0}\n"
          ]
        }
      ]
    },
    {
      "cell_type": "markdown",
      "source": [
        "###4.3 DTM (Document-Term Matrix)"
      ],
      "metadata": {
        "id": "XdBDYs48MkIk"
      }
    },
    {
      "cell_type": "markdown",
      "source": [
        "DTM:서로 다른 문서들의 boW들을 결합한 표현 방법인 문서 단어 행렬  \n",
        "->DTM은 문서들을 서로 비교할 수 있도록 수치화할 수 있다는 점에서 의의를 가짐\n",
        "\n",
        "한계:  \n",
        "1.Sparse representation  \n",
        "->대부분의 값이 0인 표현(sparse vector or sparse matrix) 으로 많은 양의 저장 공간과 높은 계산 복잡도 이에따라 전처리를 통해 단어 집합의 크기를 줄이는 것이 bow표현을 사용하는 모델에선 중요함  \n",
        "2.단순 빈도 수 기반 접근  \n",
        "->단순한 빈도 수를 기반으로 접근했기 때문에 불용어 the 같은 단어는 자주 등장하지만 the만 가지고 문서1 문서2 문서3 이 유사한 문서라고 판단하면 안된다.  \n",
        "stopwords는 빈도수가 높더라도 NPL중에서는 의미를 갖지 못하는데 반대로 중요한 단어에 대헤서는 가중치를 줄 수 있는 방법이 없을까?  \n",
        "->이러한 한계를 개선하기 위해 TF-IDF를 설명한다."
      ],
      "metadata": {
        "id": "SOevK2pKhcnZ"
      }
    },
    {
      "cell_type": "markdown",
      "source": [
        "![image.png](data:image/png;base64,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)"
      ],
      "metadata": {
        "id": "Dq3Va_epMAP-"
      }
    },
    {
      "cell_type": "markdown",
      "source": [
        "###4-4TF-IDF"
      ],
      "metadata": {
        "id": "btfrC1V-Mrhj"
      }
    },
    {
      "cell_type": "markdown",
      "source": [
        "각 단어에 대한 중요도를 계산할 수 있는 TF-IDF 가중치에 대해 알아봄"
      ],
      "metadata": {
        "id": "J1o0r8cwMvf4"
      }
    },
    {
      "cell_type": "markdown",
      "source": [
        "TF-IDF(Term Frequency-Inverse Document Frequency)  \n",
        "TF-IDF는 단어의 빈도와 역 문서 빈도(문서의 빈도에 특정 식을 취한것)을 사용해 DTM 내의 각 단어들마다 중요한 정도를 가중치로 주는 방법.  \n",
        "우선 DTM을 만든 후 , TF-IDF 가중치를 부여  \n",
        "TF-IDF는   \n",
        "1.문서의 유사도를 구하는 작업  \n",
        "2.검색 시스템에 검색 결과 중요도   \n",
        "3.문서 내에서 특정 단어의 중요도를 구하는 작업의 쓰일 수 있음  \n",
        "TF-IDF는 TF와 IDF를 곱한 값\n",
        "\n",
        "\n",
        "문서=d, 단어=t, 문서의 총 개수=n 이라 하면  \n",
        "\n",
        "tf(d,t): 특정 문서 d에서의 특정 단어 t의 등장 횟수.  \n",
        "df(t):특정 단어 t가 등장한 문서의 수.  \n",
        "idf(t):df(t)에 반비례하는 수.  \n",
        "->idf(t)=log(n/1+df(t))  \n",
        "\n",
        "TF-IDF는 자주 등장하는 단어는 중요도 낮다고 판단  \n",
        "책에서는 ln 사용하고 대부분의 패키지에서도 ln을 사용함  \n",
        "\n",
        "그러고 TF와 IDF를 곱해주면 TF-IDF를 구할 수 있게 된다.  \n",
        "\n",
        "즉 각 단어의 중요도를 구하는 IDF에서는 여러 문서들 중에 같은(겹치는) 단어가 적으면 그 단어의 중요도를 높다고 생각하고 가중치를 올려주는 역할을 한다고 볼 수 있다."
      ],
      "metadata": {
        "id": "YoeIPav4NMWb"
      }
    },
    {
      "cell_type": "code",
      "source": [
        "#이제 파이썬과 사이킷런을 이용해 실습\n",
        "\n",
        "import pandas as pd\n",
        "from math import log"
      ],
      "metadata": {
        "id": "2b9bCO3bTZnx"
      },
      "execution_count": null,
      "outputs": []
    },
    {
      "cell_type": "code",
      "source": [
        "docs=['먹고 싶은 사과','먹고 싶은 바나나','길고 노란 바나나 바나나','저는 과일이 좋아요']\n",
        "vocab=list(set(w for doc in docs for w in doc.split()))\n",
        "vocab.sort()"
      ],
      "metadata": {
        "id": "rtXcv0XsrgWq"
      },
      "execution_count": null,
      "outputs": []
    },
    {
      "cell_type": "code",
      "source": [
        "N=len(docs)\n",
        "\n",
        "def tf(t,d):#tf(d,t): 특정 문서 d에서의 특정 단어 t의 등장 횟수.\n",
        "  return d.count(t)\n",
        "\n",
        "def idf(t):  #df(t)에 반비례하는 수\n",
        "  df=0  #특정 단어 t가 등장하는 횟수\n",
        "  for doc in docs:\n",
        "    df+= t in doc #bolean 값 1 or 0 반환\n",
        "    return log(N/(df+1))\n",
        "\n",
        "def tfidf(t,d):\n",
        "  return tf(t,d)*idf(t)"
      ],
      "metadata": {
        "id": "YA54ZwGOrzhR"
      },
      "execution_count": null,
      "outputs": []
    },
    {
      "cell_type": "code",
      "source": [
        "result=[]\n",
        "\n",
        "for i in range(N):\n",
        "  result.append([])\n",
        "  d=docs[i]\n",
        "  for j in range(len(vocab)):\n",
        "    t=vocab[j]\n",
        "    result[-1].append(tf(t,d))\n",
        "\n",
        "tf_=pd.DataFrame(result,columns=vocab)\n"
      ],
      "metadata": {
        "id": "xWXNaYC8sozr"
      },
      "execution_count": null,
      "outputs": []
    },
    {
      "cell_type": "code",
      "source": [
        "tf_"
      ],
      "metadata": {
        "colab": {
          "base_uri": "https://localhost:8080/",
          "height": 174
        },
        "id": "21xlcNzlt2vF",
        "outputId": "54b62e6f-ac7c-41fa-8ff1-ace8bbc7447d"
      },
      "execution_count": null,
      "outputs": [
        {
          "output_type": "execute_result",
          "data": {
            "text/plain": [
              "   과일이  길고  노란  먹고  바나나  사과  싶은  저는  좋아요\n",
              "0    0   0   0   1    0   1   1   0    0\n",
              "1    0   0   0   1    1   0   1   0    0\n",
              "2    0   1   1   0    2   0   0   0    0\n",
              "3    1   0   0   0    0   0   0   1    1"
            ],
            "text/html": [
              "\n",
              "  <div id=\"df-79aa768b-2932-4140-8af4-13fcaf2e66cc\" class=\"colab-df-container\">\n",
              "    <div>\n",
              "<style scoped>\n",
              "    .dataframe tbody tr th:only-of-type {\n",
              "        vertical-align: middle;\n",
              "    }\n",
              "\n",
              "    .dataframe tbody tr th {\n",
              "        vertical-align: top;\n",
              "    }\n",
              "\n",
              "    .dataframe thead th {\n",
              "        text-align: right;\n",
              "    }\n",
              "</style>\n",
              "<table border=\"1\" class=\"dataframe\">\n",
              "  <thead>\n",
              "    <tr style=\"text-align: right;\">\n",
              "      <th></th>\n",
              "      <th>과일이</th>\n",
              "      <th>길고</th>\n",
              "      <th>노란</th>\n",
              "      <th>먹고</th>\n",
              "      <th>바나나</th>\n",
              "      <th>사과</th>\n",
              "      <th>싶은</th>\n",
              "      <th>저는</th>\n",
              "      <th>좋아요</th>\n",
              "    </tr>\n",
              "  </thead>\n",
              "  <tbody>\n",
              "    <tr>\n",
              "      <th>0</th>\n",
              "      <td>0</td>\n",
              "      <td>0</td>\n",
              "      <td>0</td>\n",
              "      <td>1</td>\n",
              "      <td>0</td>\n",
              "      <td>1</td>\n",
              "      <td>1</td>\n",
              "      <td>0</td>\n",
              "      <td>0</td>\n",
              "    </tr>\n",
              "    <tr>\n",
              "      <th>1</th>\n",
              "      <td>0</td>\n",
              "      <td>0</td>\n",
              "      <td>0</td>\n",
              "      <td>1</td>\n",
              "      <td>1</td>\n",
              "      <td>0</td>\n",
              "      <td>1</td>\n",
              "      <td>0</td>\n",
              "      <td>0</td>\n",
              "    </tr>\n",
              "    <tr>\n",
              "      <th>2</th>\n",
              "      <td>0</td>\n",
              "      <td>1</td>\n",
              "      <td>1</td>\n",
              "      <td>0</td>\n",
              "      <td>2</td>\n",
              "      <td>0</td>\n",
              "      <td>0</td>\n",
              "      <td>0</td>\n",
              "      <td>0</td>\n",
              "    </tr>\n",
              "    <tr>\n",
              "      <th>3</th>\n",
              "      <td>1</td>\n",
              "      <td>0</td>\n",
              "      <td>0</td>\n",
              "      <td>0</td>\n",
              "      <td>0</td>\n",
              "      <td>0</td>\n",
              "      <td>0</td>\n",
              "      <td>1</td>\n",
              "      <td>1</td>\n",
              "    </tr>\n",
              "  </tbody>\n",
              "</table>\n",
              "</div>\n",
              "    <div class=\"colab-df-buttons\">\n",
              "\n",
              "  <div class=\"colab-df-container\">\n",
              "    <button class=\"colab-df-convert\" onclick=\"convertToInteractive('df-79aa768b-2932-4140-8af4-13fcaf2e66cc')\"\n",
              "            title=\"Convert this dataframe to an interactive table.\"\n",
              "            style=\"display:none;\">\n",
              "\n",
              "  <svg xmlns=\"http://www.w3.org/2000/svg\" height=\"24px\" viewBox=\"0 -960 960 960\">\n",
              "    <path d=\"M120-120v-720h720v720H120Zm60-500h600v-160H180v160Zm220 220h160v-160H400v160Zm0 220h160v-160H400v160ZM180-400h160v-160H180v160Zm440 0h160v-160H620v160ZM180-180h160v-160H180v160Zm440 0h160v-160H620v160Z\"/>\n",
              "  </svg>\n",
              "    </button>\n",
              "\n",
              "  <style>\n",
              "    .colab-df-container {\n",
              "      display:flex;\n",
              "      gap: 12px;\n",
              "    }\n",
              "\n",
              "    .colab-df-convert {\n",
              "      background-color: #E8F0FE;\n",
              "      border: none;\n",
              "      border-radius: 50%;\n",
              "      cursor: pointer;\n",
              "      display: none;\n",
              "      fill: #1967D2;\n",
              "      height: 32px;\n",
              "      padding: 0 0 0 0;\n",
              "      width: 32px;\n",
              "    }\n",
              "\n",
              "    .colab-df-convert:hover {\n",
              "      background-color: #E2EBFA;\n",
              "      box-shadow: 0px 1px 2px rgba(60, 64, 67, 0.3), 0px 1px 3px 1px rgba(60, 64, 67, 0.15);\n",
              "      fill: #174EA6;\n",
              "    }\n",
              "\n",
              "    .colab-df-buttons div {\n",
              "      margin-bottom: 4px;\n",
              "    }\n",
              "\n",
              "    [theme=dark] .colab-df-convert {\n",
              "      background-color: #3B4455;\n",
              "      fill: #D2E3FC;\n",
              "    }\n",
              "\n",
              "    [theme=dark] .colab-df-convert:hover {\n",
              "      background-color: #434B5C;\n",
              "      box-shadow: 0px 1px 3px 1px rgba(0, 0, 0, 0.15);\n",
              "      filter: drop-shadow(0px 1px 2px rgba(0, 0, 0, 0.3));\n",
              "      fill: #FFFFFF;\n",
              "    }\n",
              "  </style>\n",
              "\n",
              "    <script>\n",
              "      const buttonEl =\n",
              "        document.querySelector('#df-79aa768b-2932-4140-8af4-13fcaf2e66cc button.colab-df-convert');\n",
              "      buttonEl.style.display =\n",
              "        google.colab.kernel.accessAllowed ? 'block' : 'none';\n",
              "\n",
              "      async function convertToInteractive(key) {\n",
              "        const element = document.querySelector('#df-79aa768b-2932-4140-8af4-13fcaf2e66cc');\n",
              "        const dataTable =\n",
              "          await google.colab.kernel.invokeFunction('convertToInteractive',\n",
              "                                                    [key], {});\n",
              "        if (!dataTable) return;\n",
              "\n",
              "        const docLinkHtml = 'Like what you see? Visit the ' +\n",
              "          '<a target=\"_blank\" href=https://colab.research.google.com/notebooks/data_table.ipynb>data table notebook</a>'\n",
              "          + ' to learn more about interactive tables.';\n",
              "        element.innerHTML = '';\n",
              "        dataTable['output_type'] = 'display_data';\n",
              "        await google.colab.output.renderOutput(dataTable, element);\n",
              "        const docLink = document.createElement('div');\n",
              "        docLink.innerHTML = docLinkHtml;\n",
              "        element.appendChild(docLink);\n",
              "      }\n",
              "    </script>\n",
              "  </div>\n",
              "\n",
              "\n",
              "<div id=\"df-024c12f4-76d9-4573-94e8-b89a5531b3cf\">\n",
              "  <button class=\"colab-df-quickchart\" onclick=\"quickchart('df-024c12f4-76d9-4573-94e8-b89a5531b3cf')\"\n",
              "            title=\"Suggest charts\"\n",
              "            style=\"display:none;\">\n",
              "\n",
              "<svg xmlns=\"http://www.w3.org/2000/svg\" height=\"24px\"viewBox=\"0 0 24 24\"\n",
              "     width=\"24px\">\n",
              "    <g>\n",
              "        <path d=\"M19 3H5c-1.1 0-2 .9-2 2v14c0 1.1.9 2 2 2h14c1.1 0 2-.9 2-2V5c0-1.1-.9-2-2-2zM9 17H7v-7h2v7zm4 0h-2V7h2v10zm4 0h-2v-4h2v4z\"/>\n",
              "    </g>\n",
              "</svg>\n",
              "  </button>\n",
              "\n",
              "<style>\n",
              "  .colab-df-quickchart {\n",
              "      --bg-color: #E8F0FE;\n",
              "      --fill-color: #1967D2;\n",
              "      --hover-bg-color: #E2EBFA;\n",
              "      --hover-fill-color: #174EA6;\n",
              "      --disabled-fill-color: #AAA;\n",
              "      --disabled-bg-color: #DDD;\n",
              "  }\n",
              "\n",
              "  [theme=dark] .colab-df-quickchart {\n",
              "      --bg-color: #3B4455;\n",
              "      --fill-color: #D2E3FC;\n",
              "      --hover-bg-color: #434B5C;\n",
              "      --hover-fill-color: #FFFFFF;\n",
              "      --disabled-bg-color: #3B4455;\n",
              "      --disabled-fill-color: #666;\n",
              "  }\n",
              "\n",
              "  .colab-df-quickchart {\n",
              "    background-color: var(--bg-color);\n",
              "    border: none;\n",
              "    border-radius: 50%;\n",
              "    cursor: pointer;\n",
              "    display: none;\n",
              "    fill: var(--fill-color);\n",
              "    height: 32px;\n",
              "    padding: 0;\n",
              "    width: 32px;\n",
              "  }\n",
              "\n",
              "  .colab-df-quickchart:hover {\n",
              "    background-color: var(--hover-bg-color);\n",
              "    box-shadow: 0 1px 2px rgba(60, 64, 67, 0.3), 0 1px 3px 1px rgba(60, 64, 67, 0.15);\n",
              "    fill: var(--button-hover-fill-color);\n",
              "  }\n",
              "\n",
              "  .colab-df-quickchart-complete:disabled,\n",
              "  .colab-df-quickchart-complete:disabled:hover {\n",
              "    background-color: var(--disabled-bg-color);\n",
              "    fill: var(--disabled-fill-color);\n",
              "    box-shadow: none;\n",
              "  }\n",
              "\n",
              "  .colab-df-spinner {\n",
              "    border: 2px solid var(--fill-color);\n",
              "    border-color: transparent;\n",
              "    border-bottom-color: var(--fill-color);\n",
              "    animation:\n",
              "      spin 1s steps(1) infinite;\n",
              "  }\n",
              "\n",
              "  @keyframes spin {\n",
              "    0% {\n",
              "      border-color: transparent;\n",
              "      border-bottom-color: var(--fill-color);\n",
              "      border-left-color: var(--fill-color);\n",
              "    }\n",
              "    20% {\n",
              "      border-color: transparent;\n",
              "      border-left-color: var(--fill-color);\n",
              "      border-top-color: var(--fill-color);\n",
              "    }\n",
              "    30% {\n",
              "      border-color: transparent;\n",
              "      border-left-color: var(--fill-color);\n",
              "      border-top-color: var(--fill-color);\n",
              "      border-right-color: var(--fill-color);\n",
              "    }\n",
              "    40% {\n",
              "      border-color: transparent;\n",
              "      border-right-color: var(--fill-color);\n",
              "      border-top-color: var(--fill-color);\n",
              "    }\n",
              "    60% {\n",
              "      border-color: transparent;\n",
              "      border-right-color: var(--fill-color);\n",
              "    }\n",
              "    80% {\n",
              "      border-color: transparent;\n",
              "      border-right-color: var(--fill-color);\n",
              "      border-bottom-color: var(--fill-color);\n",
              "    }\n",
              "    90% {\n",
              "      border-color: transparent;\n",
              "      border-bottom-color: var(--fill-color);\n",
              "    }\n",
              "  }\n",
              "</style>\n",
              "\n",
              "  <script>\n",
              "    async function quickchart(key) {\n",
              "      const quickchartButtonEl =\n",
              "        document.querySelector('#' + key + ' button');\n",
              "      quickchartButtonEl.disabled = true;  // To prevent multiple clicks.\n",
              "      quickchartButtonEl.classList.add('colab-df-spinner');\n",
              "      try {\n",
              "        const charts = await google.colab.kernel.invokeFunction(\n",
              "            'suggestCharts', [key], {});\n",
              "      } catch (error) {\n",
              "        console.error('Error during call to suggestCharts:', error);\n",
              "      }\n",
              "      quickchartButtonEl.classList.remove('colab-df-spinner');\n",
              "      quickchartButtonEl.classList.add('colab-df-quickchart-complete');\n",
              "    }\n",
              "    (() => {\n",
              "      let quickchartButtonEl =\n",
              "        document.querySelector('#df-024c12f4-76d9-4573-94e8-b89a5531b3cf button');\n",
              "      quickchartButtonEl.style.display =\n",
              "        google.colab.kernel.accessAllowed ? 'block' : 'none';\n",
              "    })();\n",
              "  </script>\n",
              "</div>\n",
              "\n",
              "  <div id=\"id_8981415b-4062-47bf-9ebf-e56c8d1d11ab\">\n",
              "    <style>\n",
              "      .colab-df-generate {\n",
              "        background-color: #E8F0FE;\n",
              "        border: none;\n",
              "        border-radius: 50%;\n",
              "        cursor: pointer;\n",
              "        display: none;\n",
              "        fill: #1967D2;\n",
              "        height: 32px;\n",
              "        padding: 0 0 0 0;\n",
              "        width: 32px;\n",
              "      }\n",
              "\n",
              "      .colab-df-generate:hover {\n",
              "        background-color: #E2EBFA;\n",
              "        box-shadow: 0px 1px 2px rgba(60, 64, 67, 0.3), 0px 1px 3px 1px rgba(60, 64, 67, 0.15);\n",
              "        fill: #174EA6;\n",
              "      }\n",
              "\n",
              "      [theme=dark] .colab-df-generate {\n",
              "        background-color: #3B4455;\n",
              "        fill: #D2E3FC;\n",
              "      }\n",
              "\n",
              "      [theme=dark] .colab-df-generate:hover {\n",
              "        background-color: #434B5C;\n",
              "        box-shadow: 0px 1px 3px 1px rgba(0, 0, 0, 0.15);\n",
              "        filter: drop-shadow(0px 1px 2px rgba(0, 0, 0, 0.3));\n",
              "        fill: #FFFFFF;\n",
              "      }\n",
              "    </style>\n",
              "    <button class=\"colab-df-generate\" onclick=\"generateWithVariable('tf_')\"\n",
              "            title=\"Generate code using this dataframe.\"\n",
              "            style=\"display:none;\">\n",
              "\n",
              "  <svg xmlns=\"http://www.w3.org/2000/svg\" height=\"24px\"viewBox=\"0 0 24 24\"\n",
              "       width=\"24px\">\n",
              "    <path d=\"M7,19H8.4L18.45,9,17,7.55,7,17.6ZM5,21V16.75L18.45,3.32a2,2,0,0,1,2.83,0l1.4,1.43a1.91,1.91,0,0,1,.58,1.4,1.91,1.91,0,0,1-.58,1.4L9.25,21ZM18.45,9,17,7.55Zm-12,3A5.31,5.31,0,0,0,4.9,8.1,5.31,5.31,0,0,0,1,6.5,5.31,5.31,0,0,0,4.9,4.9,5.31,5.31,0,0,0,6.5,1,5.31,5.31,0,0,0,8.1,4.9,5.31,5.31,0,0,0,12,6.5,5.46,5.46,0,0,0,6.5,12Z\"/>\n",
              "  </svg>\n",
              "    </button>\n",
              "    <script>\n",
              "      (() => {\n",
              "      const buttonEl =\n",
              "        document.querySelector('#id_8981415b-4062-47bf-9ebf-e56c8d1d11ab button.colab-df-generate');\n",
              "      buttonEl.style.display =\n",
              "        google.colab.kernel.accessAllowed ? 'block' : 'none';\n",
              "\n",
              "      buttonEl.onclick = () => {\n",
              "        google.colab.notebook.generateWithVariable('tf_');\n",
              "      }\n",
              "      })();\n",
              "    </script>\n",
              "  </div>\n",
              "\n",
              "    </div>\n",
              "  </div>\n"
            ],
            "application/vnd.google.colaboratory.intrinsic+json": {
              "type": "dataframe",
              "variable_name": "tf_",
              "summary": "{\n  \"name\": \"tf_\",\n  \"rows\": 4,\n  \"fields\": [\n    {\n      \"column\": \"\\uacfc\\uc77c\\uc774\",\n      \"properties\": {\n        \"dtype\": \"number\",\n        \"std\": 0,\n        \"min\": 0,\n        \"max\": 1,\n        \"num_unique_values\": 2,\n        \"samples\": [\n          1,\n          0\n        ],\n        \"semantic_type\": \"\",\n        \"description\": \"\"\n      }\n    },\n    {\n      \"column\": \"\\uae38\\uace0\",\n      \"properties\": {\n        \"dtype\": \"number\",\n        \"std\": 0,\n        \"min\": 0,\n        \"max\": 1,\n        \"num_unique_values\": 2,\n        \"samples\": [\n          1,\n          0\n        ],\n        \"semantic_type\": \"\",\n        \"description\": \"\"\n      }\n    },\n    {\n      \"column\": \"\\ub178\\ub780\",\n      \"properties\": {\n        \"dtype\": \"number\",\n        \"std\": 0,\n        \"min\": 0,\n        \"max\": 1,\n        \"num_unique_values\": 2,\n        \"samples\": [\n          1,\n          0\n        ],\n        \"semantic_type\": \"\",\n        \"description\": \"\"\n      }\n    },\n    {\n      \"column\": \"\\uba39\\uace0\",\n      \"properties\": {\n        \"dtype\": \"number\",\n        \"std\": 0,\n        \"min\": 0,\n        \"max\": 1,\n        \"num_unique_values\": 2,\n        \"samples\": [\n          0,\n          1\n        ],\n        \"semantic_type\": \"\",\n        \"description\": \"\"\n      }\n    },\n    {\n      \"column\": \"\\ubc14\\ub098\\ub098\",\n      \"properties\": {\n        \"dtype\": \"number\",\n        \"std\": 0,\n        \"min\": 0,\n        \"max\": 2,\n        \"num_unique_values\": 3,\n        \"samples\": [\n          0,\n          1\n        ],\n        \"semantic_type\": \"\",\n        \"description\": \"\"\n      }\n    },\n    {\n      \"column\": \"\\uc0ac\\uacfc\",\n      \"properties\": {\n        \"dtype\": \"number\",\n        \"std\": 0,\n        \"min\": 0,\n        \"max\": 1,\n        \"num_unique_values\": 2,\n        \"samples\": [\n          0,\n          1\n        ],\n        \"semantic_type\": \"\",\n        \"description\": \"\"\n      }\n    },\n    {\n      \"column\": \"\\uc2f6\\uc740\",\n      \"properties\": {\n        \"dtype\": \"number\",\n        \"std\": 0,\n        \"min\": 0,\n        \"max\": 1,\n        \"num_unique_values\": 2,\n        \"samples\": [\n          0,\n          1\n        ],\n        \"semantic_type\": \"\",\n        \"description\": \"\"\n      }\n    },\n    {\n      \"column\": \"\\uc800\\ub294\",\n      \"properties\": {\n        \"dtype\": \"number\",\n        \"std\": 0,\n        \"min\": 0,\n        \"max\": 1,\n        \"num_unique_values\": 2,\n        \"samples\": [\n          1,\n          0\n        ],\n        \"semantic_type\": \"\",\n        \"description\": \"\"\n      }\n    },\n    {\n      \"column\": \"\\uc88b\\uc544\\uc694\",\n      \"properties\": {\n        \"dtype\": \"number\",\n        \"std\": 0,\n        \"min\": 0,\n        \"max\": 1,\n        \"num_unique_values\": 2,\n        \"samples\": [\n          1,\n          0\n        ],\n        \"semantic_type\": \"\",\n        \"description\": \"\"\n      }\n    }\n  ]\n}"
            }
          },
          "metadata": {},
          "execution_count": 6
        }
      ]
    },
    {
      "cell_type": "code",
      "source": [
        "result=[]\n",
        "for j in range(len(vocab)):\n",
        "  t=vocab[j]\n",
        "  result.append(idf(t))\n",
        "\n",
        "idf_=pd.DataFrame(result,index=vocab,columns=[\"IDF\"])\n",
        "idf_"
      ],
      "metadata": {
        "colab": {
          "base_uri": "https://localhost:8080/",
          "height": 331
        },
        "id": "n_gg4KApt4Wx",
        "outputId": "30f05335-bd96-4f58-e09e-a928a5279d80"
      },
      "execution_count": null,
      "outputs": [
        {
          "output_type": "execute_result",
          "data": {
            "text/plain": [
              "          IDF\n",
              "과일이  1.386294\n",
              "길고   1.386294\n",
              "노란   1.386294\n",
              "먹고   0.693147\n",
              "바나나  1.386294\n",
              "사과   0.693147\n",
              "싶은   0.693147\n",
              "저는   1.386294\n",
              "좋아요  1.386294"
            ],
            "text/html": [
              "\n",
              "  <div id=\"df-7adc5c8e-e2f5-4e40-af5d-82caf8603503\" class=\"colab-df-container\">\n",
              "    <div>\n",
              "<style scoped>\n",
              "    .dataframe tbody tr th:only-of-type {\n",
              "        vertical-align: middle;\n",
              "    }\n",
              "\n",
              "    .dataframe tbody tr th {\n",
              "        vertical-align: top;\n",
              "    }\n",
              "\n",
              "    .dataframe thead th {\n",
              "        text-align: right;\n",
              "    }\n",
              "</style>\n",
              "<table border=\"1\" class=\"dataframe\">\n",
              "  <thead>\n",
              "    <tr style=\"text-align: right;\">\n",
              "      <th></th>\n",
              "      <th>IDF</th>\n",
              "    </tr>\n",
              "  </thead>\n",
              "  <tbody>\n",
              "    <tr>\n",
              "      <th>과일이</th>\n",
              "      <td>1.386294</td>\n",
              "    </tr>\n",
              "    <tr>\n",
              "      <th>길고</th>\n",
              "      <td>1.386294</td>\n",
              "    </tr>\n",
              "    <tr>\n",
              "      <th>노란</th>\n",
              "      <td>1.386294</td>\n",
              "    </tr>\n",
              "    <tr>\n",
              "      <th>먹고</th>\n",
              "      <td>0.693147</td>\n",
              "    </tr>\n",
              "    <tr>\n",
              "      <th>바나나</th>\n",
              "      <td>1.386294</td>\n",
              "    </tr>\n",
              "    <tr>\n",
              "      <th>사과</th>\n",
              "      <td>0.693147</td>\n",
              "    </tr>\n",
              "    <tr>\n",
              "      <th>싶은</th>\n",
              "      <td>0.693147</td>\n",
              "    </tr>\n",
              "    <tr>\n",
              "      <th>저는</th>\n",
              "      <td>1.386294</td>\n",
              "    </tr>\n",
              "    <tr>\n",
              "      <th>좋아요</th>\n",
              "      <td>1.386294</td>\n",
              "    </tr>\n",
              "  </tbody>\n",
              "</table>\n",
              "</div>\n",
              "    <div class=\"colab-df-buttons\">\n",
              "\n",
              "  <div class=\"colab-df-container\">\n",
              "    <button class=\"colab-df-convert\" onclick=\"convertToInteractive('df-7adc5c8e-e2f5-4e40-af5d-82caf8603503')\"\n",
              "            title=\"Convert this dataframe to an interactive table.\"\n",
              "            style=\"display:none;\">\n",
              "\n",
              "  <svg xmlns=\"http://www.w3.org/2000/svg\" height=\"24px\" viewBox=\"0 -960 960 960\">\n",
              "    <path d=\"M120-120v-720h720v720H120Zm60-500h600v-160H180v160Zm220 220h160v-160H400v160Zm0 220h160v-160H400v160ZM180-400h160v-160H180v160Zm440 0h160v-160H620v160ZM180-180h160v-160H180v160Zm440 0h160v-160H620v160Z\"/>\n",
              "  </svg>\n",
              "    </button>\n",
              "\n",
              "  <style>\n",
              "    .colab-df-container {\n",
              "      display:flex;\n",
              "      gap: 12px;\n",
              "    }\n",
              "\n",
              "    .colab-df-convert {\n",
              "      background-color: #E8F0FE;\n",
              "      border: none;\n",
              "      border-radius: 50%;\n",
              "      cursor: pointer;\n",
              "      display: none;\n",
              "      fill: #1967D2;\n",
              "      height: 32px;\n",
              "      padding: 0 0 0 0;\n",
              "      width: 32px;\n",
              "    }\n",
              "\n",
              "    .colab-df-convert:hover {\n",
              "      background-color: #E2EBFA;\n",
              "      box-shadow: 0px 1px 2px rgba(60, 64, 67, 0.3), 0px 1px 3px 1px rgba(60, 64, 67, 0.15);\n",
              "      fill: #174EA6;\n",
              "    }\n",
              "\n",
              "    .colab-df-buttons div {\n",
              "      margin-bottom: 4px;\n",
              "    }\n",
              "\n",
              "    [theme=dark] .colab-df-convert {\n",
              "      background-color: #3B4455;\n",
              "      fill: #D2E3FC;\n",
              "    }\n",
              "\n",
              "    [theme=dark] .colab-df-convert:hover {\n",
              "      background-color: #434B5C;\n",
              "      box-shadow: 0px 1px 3px 1px rgba(0, 0, 0, 0.15);\n",
              "      filter: drop-shadow(0px 1px 2px rgba(0, 0, 0, 0.3));\n",
              "      fill: #FFFFFF;\n",
              "    }\n",
              "  </style>\n",
              "\n",
              "    <script>\n",
              "      const buttonEl =\n",
              "        document.querySelector('#df-7adc5c8e-e2f5-4e40-af5d-82caf8603503 button.colab-df-convert');\n",
              "      buttonEl.style.display =\n",
              "        google.colab.kernel.accessAllowed ? 'block' : 'none';\n",
              "\n",
              "      async function convertToInteractive(key) {\n",
              "        const element = document.querySelector('#df-7adc5c8e-e2f5-4e40-af5d-82caf8603503');\n",
              "        const dataTable =\n",
              "          await google.colab.kernel.invokeFunction('convertToInteractive',\n",
              "                                                    [key], {});\n",
              "        if (!dataTable) return;\n",
              "\n",
              "        const docLinkHtml = 'Like what you see? Visit the ' +\n",
              "          '<a target=\"_blank\" href=https://colab.research.google.com/notebooks/data_table.ipynb>data table notebook</a>'\n",
              "          + ' to learn more about interactive tables.';\n",
              "        element.innerHTML = '';\n",
              "        dataTable['output_type'] = 'display_data';\n",
              "        await google.colab.output.renderOutput(dataTable, element);\n",
              "        const docLink = document.createElement('div');\n",
              "        docLink.innerHTML = docLinkHtml;\n",
              "        element.appendChild(docLink);\n",
              "      }\n",
              "    </script>\n",
              "  </div>\n",
              "\n",
              "\n",
              "<div id=\"df-5cef3b76-524b-4e7c-99e9-b49ce7ed75af\">\n",
              "  <button class=\"colab-df-quickchart\" onclick=\"quickchart('df-5cef3b76-524b-4e7c-99e9-b49ce7ed75af')\"\n",
              "            title=\"Suggest charts\"\n",
              "            style=\"display:none;\">\n",
              "\n",
              "<svg xmlns=\"http://www.w3.org/2000/svg\" height=\"24px\"viewBox=\"0 0 24 24\"\n",
              "     width=\"24px\">\n",
              "    <g>\n",
              "        <path d=\"M19 3H5c-1.1 0-2 .9-2 2v14c0 1.1.9 2 2 2h14c1.1 0 2-.9 2-2V5c0-1.1-.9-2-2-2zM9 17H7v-7h2v7zm4 0h-2V7h2v10zm4 0h-2v-4h2v4z\"/>\n",
              "    </g>\n",
              "</svg>\n",
              "  </button>\n",
              "\n",
              "<style>\n",
              "  .colab-df-quickchart {\n",
              "      --bg-color: #E8F0FE;\n",
              "      --fill-color: #1967D2;\n",
              "      --hover-bg-color: #E2EBFA;\n",
              "      --hover-fill-color: #174EA6;\n",
              "      --disabled-fill-color: #AAA;\n",
              "      --disabled-bg-color: #DDD;\n",
              "  }\n",
              "\n",
              "  [theme=dark] .colab-df-quickchart {\n",
              "      --bg-color: #3B4455;\n",
              "      --fill-color: #D2E3FC;\n",
              "      --hover-bg-color: #434B5C;\n",
              "      --hover-fill-color: #FFFFFF;\n",
              "      --disabled-bg-color: #3B4455;\n",
              "      --disabled-fill-color: #666;\n",
              "  }\n",
              "\n",
              "  .colab-df-quickchart {\n",
              "    background-color: var(--bg-color);\n",
              "    border: none;\n",
              "    border-radius: 50%;\n",
              "    cursor: pointer;\n",
              "    display: none;\n",
              "    fill: var(--fill-color);\n",
              "    height: 32px;\n",
              "    padding: 0;\n",
              "    width: 32px;\n",
              "  }\n",
              "\n",
              "  .colab-df-quickchart:hover {\n",
              "    background-color: var(--hover-bg-color);\n",
              "    box-shadow: 0 1px 2px rgba(60, 64, 67, 0.3), 0 1px 3px 1px rgba(60, 64, 67, 0.15);\n",
              "    fill: var(--button-hover-fill-color);\n",
              "  }\n",
              "\n",
              "  .colab-df-quickchart-complete:disabled,\n",
              "  .colab-df-quickchart-complete:disabled:hover {\n",
              "    background-color: var(--disabled-bg-color);\n",
              "    fill: var(--disabled-fill-color);\n",
              "    box-shadow: none;\n",
              "  }\n",
              "\n",
              "  .colab-df-spinner {\n",
              "    border: 2px solid var(--fill-color);\n",
              "    border-color: transparent;\n",
              "    border-bottom-color: var(--fill-color);\n",
              "    animation:\n",
              "      spin 1s steps(1) infinite;\n",
              "  }\n",
              "\n",
              "  @keyframes spin {\n",
              "    0% {\n",
              "      border-color: transparent;\n",
              "      border-bottom-color: var(--fill-color);\n",
              "      border-left-color: var(--fill-color);\n",
              "    }\n",
              "    20% {\n",
              "      border-color: transparent;\n",
              "      border-left-color: var(--fill-color);\n",
              "      border-top-color: var(--fill-color);\n",
              "    }\n",
              "    30% {\n",
              "      border-color: transparent;\n",
              "      border-left-color: var(--fill-color);\n",
              "      border-top-color: var(--fill-color);\n",
              "      border-right-color: var(--fill-color);\n",
              "    }\n",
              "    40% {\n",
              "      border-color: transparent;\n",
              "      border-right-color: var(--fill-color);\n",
              "      border-top-color: var(--fill-color);\n",
              "    }\n",
              "    60% {\n",
              "      border-color: transparent;\n",
              "      border-right-color: var(--fill-color);\n",
              "    }\n",
              "    80% {\n",
              "      border-color: transparent;\n",
              "      border-right-color: var(--fill-color);\n",
              "      border-bottom-color: var(--fill-color);\n",
              "    }\n",
              "    90% {\n",
              "      border-color: transparent;\n",
              "      border-bottom-color: var(--fill-color);\n",
              "    }\n",
              "  }\n",
              "</style>\n",
              "\n",
              "  <script>\n",
              "    async function quickchart(key) {\n",
              "      const quickchartButtonEl =\n",
              "        document.querySelector('#' + key + ' button');\n",
              "      quickchartButtonEl.disabled = true;  // To prevent multiple clicks.\n",
              "      quickchartButtonEl.classList.add('colab-df-spinner');\n",
              "      try {\n",
              "        const charts = await google.colab.kernel.invokeFunction(\n",
              "            'suggestCharts', [key], {});\n",
              "      } catch (error) {\n",
              "        console.error('Error during call to suggestCharts:', error);\n",
              "      }\n",
              "      quickchartButtonEl.classList.remove('colab-df-spinner');\n",
              "      quickchartButtonEl.classList.add('colab-df-quickchart-complete');\n",
              "    }\n",
              "    (() => {\n",
              "      let quickchartButtonEl =\n",
              "        document.querySelector('#df-5cef3b76-524b-4e7c-99e9-b49ce7ed75af button');\n",
              "      quickchartButtonEl.style.display =\n",
              "        google.colab.kernel.accessAllowed ? 'block' : 'none';\n",
              "    })();\n",
              "  </script>\n",
              "</div>\n",
              "\n",
              "  <div id=\"id_d608d934-06e6-4810-b560-6f41525be0d5\">\n",
              "    <style>\n",
              "      .colab-df-generate {\n",
              "        background-color: #E8F0FE;\n",
              "        border: none;\n",
              "        border-radius: 50%;\n",
              "        cursor: pointer;\n",
              "        display: none;\n",
              "        fill: #1967D2;\n",
              "        height: 32px;\n",
              "        padding: 0 0 0 0;\n",
              "        width: 32px;\n",
              "      }\n",
              "\n",
              "      .colab-df-generate:hover {\n",
              "        background-color: #E2EBFA;\n",
              "        box-shadow: 0px 1px 2px rgba(60, 64, 67, 0.3), 0px 1px 3px 1px rgba(60, 64, 67, 0.15);\n",
              "        fill: #174EA6;\n",
              "      }\n",
              "\n",
              "      [theme=dark] .colab-df-generate {\n",
              "        background-color: #3B4455;\n",
              "        fill: #D2E3FC;\n",
              "      }\n",
              "\n",
              "      [theme=dark] .colab-df-generate:hover {\n",
              "        background-color: #434B5C;\n",
              "        box-shadow: 0px 1px 3px 1px rgba(0, 0, 0, 0.15);\n",
              "        filter: drop-shadow(0px 1px 2px rgba(0, 0, 0, 0.3));\n",
              "        fill: #FFFFFF;\n",
              "      }\n",
              "    </style>\n",
              "    <button class=\"colab-df-generate\" onclick=\"generateWithVariable('idf_')\"\n",
              "            title=\"Generate code using this dataframe.\"\n",
              "            style=\"display:none;\">\n",
              "\n",
              "  <svg xmlns=\"http://www.w3.org/2000/svg\" height=\"24px\"viewBox=\"0 0 24 24\"\n",
              "       width=\"24px\">\n",
              "    <path d=\"M7,19H8.4L18.45,9,17,7.55,7,17.6ZM5,21V16.75L18.45,3.32a2,2,0,0,1,2.83,0l1.4,1.43a1.91,1.91,0,0,1,.58,1.4,1.91,1.91,0,0,1-.58,1.4L9.25,21ZM18.45,9,17,7.55Zm-12,3A5.31,5.31,0,0,0,4.9,8.1,5.31,5.31,0,0,0,1,6.5,5.31,5.31,0,0,0,4.9,4.9,5.31,5.31,0,0,0,6.5,1,5.31,5.31,0,0,0,8.1,4.9,5.31,5.31,0,0,0,12,6.5,5.46,5.46,0,0,0,6.5,12Z\"/>\n",
              "  </svg>\n",
              "    </button>\n",
              "    <script>\n",
              "      (() => {\n",
              "      const buttonEl =\n",
              "        document.querySelector('#id_d608d934-06e6-4810-b560-6f41525be0d5 button.colab-df-generate');\n",
              "      buttonEl.style.display =\n",
              "        google.colab.kernel.accessAllowed ? 'block' : 'none';\n",
              "\n",
              "      buttonEl.onclick = () => {\n",
              "        google.colab.notebook.generateWithVariable('idf_');\n",
              "      }\n",
              "      })();\n",
              "    </script>\n",
              "  </div>\n",
              "\n",
              "    </div>\n",
              "  </div>\n"
            ],
            "application/vnd.google.colaboratory.intrinsic+json": {
              "type": "dataframe",
              "variable_name": "idf_",
              "summary": "{\n  \"name\": \"idf_\",\n  \"rows\": 9,\n  \"fields\": [\n    {\n      \"column\": \"IDF\",\n      \"properties\": {\n        \"dtype\": \"number\",\n        \"std\": 0.34657359027997264,\n        \"min\": 0.6931471805599453,\n        \"max\": 1.3862943611198906,\n        \"num_unique_values\": 2,\n        \"samples\": [\n          0.6931471805599453,\n          1.3862943611198906\n        ],\n        \"semantic_type\": \"\",\n        \"description\": \"\"\n      }\n    }\n  ]\n}"
            }
          },
          "metadata": {},
          "execution_count": 9
        }
      ]
    },
    {
      "cell_type": "code",
      "source": [
        "result=[]\n",
        "for i in range(N):\n",
        "  result.append([])\n",
        "  d=docs[i]\n",
        "  for j in range(len(vocab)):\n",
        "    t=vocab[j]\n",
        "    result[-1].append(tfidf(t,d))\n",
        "\n",
        "  tfidf_=pd.DataFrame(result, columns=vocab)"
      ],
      "metadata": {
        "id": "GFB2yCLPuIzD"
      },
      "execution_count": null,
      "outputs": []
    },
    {
      "cell_type": "code",
      "source": [
        "tfidf_"
      ],
      "metadata": {
        "colab": {
          "base_uri": "https://localhost:8080/",
          "height": 174
        },
        "id": "dwrBDiOgunGK",
        "outputId": "99df333a-980a-45b1-d1ad-535af35f7b65"
      },
      "execution_count": null,
      "outputs": [
        {
          "output_type": "execute_result",
          "data": {
            "text/plain": [
              "        과일이        길고        노란        먹고       바나나        사과        싶은  \\\n",
              "0  0.000000  0.000000  0.000000  0.693147  0.000000  0.693147  0.693147   \n",
              "1  0.000000  0.000000  0.000000  0.693147  1.386294  0.000000  0.693147   \n",
              "2  0.000000  1.386294  1.386294  0.000000  2.772589  0.000000  0.000000   \n",
              "3  1.386294  0.000000  0.000000  0.000000  0.000000  0.000000  0.000000   \n",
              "\n",
              "         저는       좋아요  \n",
              "0  0.000000  0.000000  \n",
              "1  0.000000  0.000000  \n",
              "2  0.000000  0.000000  \n",
              "3  1.386294  1.386294  "
            ],
            "text/html": [
              "\n",
              "  <div id=\"df-76f4a34e-9912-4b9e-9ef5-29ab3fc6a6ba\" class=\"colab-df-container\">\n",
              "    <div>\n",
              "<style scoped>\n",
              "    .dataframe tbody tr th:only-of-type {\n",
              "        vertical-align: middle;\n",
              "    }\n",
              "\n",
              "    .dataframe tbody tr th {\n",
              "        vertical-align: top;\n",
              "    }\n",
              "\n",
              "    .dataframe thead th {\n",
              "        text-align: right;\n",
              "    }\n",
              "</style>\n",
              "<table border=\"1\" class=\"dataframe\">\n",
              "  <thead>\n",
              "    <tr style=\"text-align: right;\">\n",
              "      <th></th>\n",
              "      <th>과일이</th>\n",
              "      <th>길고</th>\n",
              "      <th>노란</th>\n",
              "      <th>먹고</th>\n",
              "      <th>바나나</th>\n",
              "      <th>사과</th>\n",
              "      <th>싶은</th>\n",
              "      <th>저는</th>\n",
              "      <th>좋아요</th>\n",
              "    </tr>\n",
              "  </thead>\n",
              "  <tbody>\n",
              "    <tr>\n",
              "      <th>0</th>\n",
              "      <td>0.000000</td>\n",
              "      <td>0.000000</td>\n",
              "      <td>0.000000</td>\n",
              "      <td>0.693147</td>\n",
              "      <td>0.000000</td>\n",
              "      <td>0.693147</td>\n",
              "      <td>0.693147</td>\n",
              "      <td>0.000000</td>\n",
              "      <td>0.000000</td>\n",
              "    </tr>\n",
              "    <tr>\n",
              "      <th>1</th>\n",
              "      <td>0.000000</td>\n",
              "      <td>0.000000</td>\n",
              "      <td>0.000000</td>\n",
              "      <td>0.693147</td>\n",
              "      <td>1.386294</td>\n",
              "      <td>0.000000</td>\n",
              "      <td>0.693147</td>\n",
              "      <td>0.000000</td>\n",
              "      <td>0.000000</td>\n",
              "    </tr>\n",
              "    <tr>\n",
              "      <th>2</th>\n",
              "      <td>0.000000</td>\n",
              "      <td>1.386294</td>\n",
              "      <td>1.386294</td>\n",
              "      <td>0.000000</td>\n",
              "      <td>2.772589</td>\n",
              "      <td>0.000000</td>\n",
              "      <td>0.000000</td>\n",
              "      <td>0.000000</td>\n",
              "      <td>0.000000</td>\n",
              "    </tr>\n",
              "    <tr>\n",
              "      <th>3</th>\n",
              "      <td>1.386294</td>\n",
              "      <td>0.000000</td>\n",
              "      <td>0.000000</td>\n",
              "      <td>0.000000</td>\n",
              "      <td>0.000000</td>\n",
              "      <td>0.000000</td>\n",
              "      <td>0.000000</td>\n",
              "      <td>1.386294</td>\n",
              "      <td>1.386294</td>\n",
              "    </tr>\n",
              "  </tbody>\n",
              "</table>\n",
              "</div>\n",
              "    <div class=\"colab-df-buttons\">\n",
              "\n",
              "  <div class=\"colab-df-container\">\n",
              "    <button class=\"colab-df-convert\" onclick=\"convertToInteractive('df-76f4a34e-9912-4b9e-9ef5-29ab3fc6a6ba')\"\n",
              "            title=\"Convert this dataframe to an interactive table.\"\n",
              "            style=\"display:none;\">\n",
              "\n",
              "  <svg xmlns=\"http://www.w3.org/2000/svg\" height=\"24px\" viewBox=\"0 -960 960 960\">\n",
              "    <path d=\"M120-120v-720h720v720H120Zm60-500h600v-160H180v160Zm220 220h160v-160H400v160Zm0 220h160v-160H400v160ZM180-400h160v-160H180v160Zm440 0h160v-160H620v160ZM180-180h160v-160H180v160Zm440 0h160v-160H620v160Z\"/>\n",
              "  </svg>\n",
              "    </button>\n",
              "\n",
              "  <style>\n",
              "    .colab-df-container {\n",
              "      display:flex;\n",
              "      gap: 12px;\n",
              "    }\n",
              "\n",
              "    .colab-df-convert {\n",
              "      background-color: #E8F0FE;\n",
              "      border: none;\n",
              "      border-radius: 50%;\n",
              "      cursor: pointer;\n",
              "      display: none;\n",
              "      fill: #1967D2;\n",
              "      height: 32px;\n",
              "      padding: 0 0 0 0;\n",
              "      width: 32px;\n",
              "    }\n",
              "\n",
              "    .colab-df-convert:hover {\n",
              "      background-color: #E2EBFA;\n",
              "      box-shadow: 0px 1px 2px rgba(60, 64, 67, 0.3), 0px 1px 3px 1px rgba(60, 64, 67, 0.15);\n",
              "      fill: #174EA6;\n",
              "    }\n",
              "\n",
              "    .colab-df-buttons div {\n",
              "      margin-bottom: 4px;\n",
              "    }\n",
              "\n",
              "    [theme=dark] .colab-df-convert {\n",
              "      background-color: #3B4455;\n",
              "      fill: #D2E3FC;\n",
              "    }\n",
              "\n",
              "    [theme=dark] .colab-df-convert:hover {\n",
              "      background-color: #434B5C;\n",
              "      box-shadow: 0px 1px 3px 1px rgba(0, 0, 0, 0.15);\n",
              "      filter: drop-shadow(0px 1px 2px rgba(0, 0, 0, 0.3));\n",
              "      fill: #FFFFFF;\n",
              "    }\n",
              "  </style>\n",
              "\n",
              "    <script>\n",
              "      const buttonEl =\n",
              "        document.querySelector('#df-76f4a34e-9912-4b9e-9ef5-29ab3fc6a6ba button.colab-df-convert');\n",
              "      buttonEl.style.display =\n",
              "        google.colab.kernel.accessAllowed ? 'block' : 'none';\n",
              "\n",
              "      async function convertToInteractive(key) {\n",
              "        const element = document.querySelector('#df-76f4a34e-9912-4b9e-9ef5-29ab3fc6a6ba');\n",
              "        const dataTable =\n",
              "          await google.colab.kernel.invokeFunction('convertToInteractive',\n",
              "                                                    [key], {});\n",
              "        if (!dataTable) return;\n",
              "\n",
              "        const docLinkHtml = 'Like what you see? Visit the ' +\n",
              "          '<a target=\"_blank\" href=https://colab.research.google.com/notebooks/data_table.ipynb>data table notebook</a>'\n",
              "          + ' to learn more about interactive tables.';\n",
              "        element.innerHTML = '';\n",
              "        dataTable['output_type'] = 'display_data';\n",
              "        await google.colab.output.renderOutput(dataTable, element);\n",
              "        const docLink = document.createElement('div');\n",
              "        docLink.innerHTML = docLinkHtml;\n",
              "        element.appendChild(docLink);\n",
              "      }\n",
              "    </script>\n",
              "  </div>\n",
              "\n",
              "\n",
              "<div id=\"df-5bac0ab8-aa1a-4ed9-8526-3bd60b6d5ab7\">\n",
              "  <button class=\"colab-df-quickchart\" onclick=\"quickchart('df-5bac0ab8-aa1a-4ed9-8526-3bd60b6d5ab7')\"\n",
              "            title=\"Suggest charts\"\n",
              "            style=\"display:none;\">\n",
              "\n",
              "<svg xmlns=\"http://www.w3.org/2000/svg\" height=\"24px\"viewBox=\"0 0 24 24\"\n",
              "     width=\"24px\">\n",
              "    <g>\n",
              "        <path d=\"M19 3H5c-1.1 0-2 .9-2 2v14c0 1.1.9 2 2 2h14c1.1 0 2-.9 2-2V5c0-1.1-.9-2-2-2zM9 17H7v-7h2v7zm4 0h-2V7h2v10zm4 0h-2v-4h2v4z\"/>\n",
              "    </g>\n",
              "</svg>\n",
              "  </button>\n",
              "\n",
              "<style>\n",
              "  .colab-df-quickchart {\n",
              "      --bg-color: #E8F0FE;\n",
              "      --fill-color: #1967D2;\n",
              "      --hover-bg-color: #E2EBFA;\n",
              "      --hover-fill-color: #174EA6;\n",
              "      --disabled-fill-color: #AAA;\n",
              "      --disabled-bg-color: #DDD;\n",
              "  }\n",
              "\n",
              "  [theme=dark] .colab-df-quickchart {\n",
              "      --bg-color: #3B4455;\n",
              "      --fill-color: #D2E3FC;\n",
              "      --hover-bg-color: #434B5C;\n",
              "      --hover-fill-color: #FFFFFF;\n",
              "      --disabled-bg-color: #3B4455;\n",
              "      --disabled-fill-color: #666;\n",
              "  }\n",
              "\n",
              "  .colab-df-quickchart {\n",
              "    background-color: var(--bg-color);\n",
              "    border: none;\n",
              "    border-radius: 50%;\n",
              "    cursor: pointer;\n",
              "    display: none;\n",
              "    fill: var(--fill-color);\n",
              "    height: 32px;\n",
              "    padding: 0;\n",
              "    width: 32px;\n",
              "  }\n",
              "\n",
              "  .colab-df-quickchart:hover {\n",
              "    background-color: var(--hover-bg-color);\n",
              "    box-shadow: 0 1px 2px rgba(60, 64, 67, 0.3), 0 1px 3px 1px rgba(60, 64, 67, 0.15);\n",
              "    fill: var(--button-hover-fill-color);\n",
              "  }\n",
              "\n",
              "  .colab-df-quickchart-complete:disabled,\n",
              "  .colab-df-quickchart-complete:disabled:hover {\n",
              "    background-color: var(--disabled-bg-color);\n",
              "    fill: var(--disabled-fill-color);\n",
              "    box-shadow: none;\n",
              "  }\n",
              "\n",
              "  .colab-df-spinner {\n",
              "    border: 2px solid var(--fill-color);\n",
              "    border-color: transparent;\n",
              "    border-bottom-color: var(--fill-color);\n",
              "    animation:\n",
              "      spin 1s steps(1) infinite;\n",
              "  }\n",
              "\n",
              "  @keyframes spin {\n",
              "    0% {\n",
              "      border-color: transparent;\n",
              "      border-bottom-color: var(--fill-color);\n",
              "      border-left-color: var(--fill-color);\n",
              "    }\n",
              "    20% {\n",
              "      border-color: transparent;\n",
              "      border-left-color: var(--fill-color);\n",
              "      border-top-color: var(--fill-color);\n",
              "    }\n",
              "    30% {\n",
              "      border-color: transparent;\n",
              "      border-left-color: var(--fill-color);\n",
              "      border-top-color: var(--fill-color);\n",
              "      border-right-color: var(--fill-color);\n",
              "    }\n",
              "    40% {\n",
              "      border-color: transparent;\n",
              "      border-right-color: var(--fill-color);\n",
              "      border-top-color: var(--fill-color);\n",
              "    }\n",
              "    60% {\n",
              "      border-color: transparent;\n",
              "      border-right-color: var(--fill-color);\n",
              "    }\n",
              "    80% {\n",
              "      border-color: transparent;\n",
              "      border-right-color: var(--fill-color);\n",
              "      border-bottom-color: var(--fill-color);\n",
              "    }\n",
              "    90% {\n",
              "      border-color: transparent;\n",
              "      border-bottom-color: var(--fill-color);\n",
              "    }\n",
              "  }\n",
              "</style>\n",
              "\n",
              "  <script>\n",
              "    async function quickchart(key) {\n",
              "      const quickchartButtonEl =\n",
              "        document.querySelector('#' + key + ' button');\n",
              "      quickchartButtonEl.disabled = true;  // To prevent multiple clicks.\n",
              "      quickchartButtonEl.classList.add('colab-df-spinner');\n",
              "      try {\n",
              "        const charts = await google.colab.kernel.invokeFunction(\n",
              "            'suggestCharts', [key], {});\n",
              "      } catch (error) {\n",
              "        console.error('Error during call to suggestCharts:', error);\n",
              "      }\n",
              "      quickchartButtonEl.classList.remove('colab-df-spinner');\n",
              "      quickchartButtonEl.classList.add('colab-df-quickchart-complete');\n",
              "    }\n",
              "    (() => {\n",
              "      let quickchartButtonEl =\n",
              "        document.querySelector('#df-5bac0ab8-aa1a-4ed9-8526-3bd60b6d5ab7 button');\n",
              "      quickchartButtonEl.style.display =\n",
              "        google.colab.kernel.accessAllowed ? 'block' : 'none';\n",
              "    })();\n",
              "  </script>\n",
              "</div>\n",
              "\n",
              "  <div id=\"id_ec907142-f24b-4f15-878b-8609c3040fb4\">\n",
              "    <style>\n",
              "      .colab-df-generate {\n",
              "        background-color: #E8F0FE;\n",
              "        border: none;\n",
              "        border-radius: 50%;\n",
              "        cursor: pointer;\n",
              "        display: none;\n",
              "        fill: #1967D2;\n",
              "        height: 32px;\n",
              "        padding: 0 0 0 0;\n",
              "        width: 32px;\n",
              "      }\n",
              "\n",
              "      .colab-df-generate:hover {\n",
              "        background-color: #E2EBFA;\n",
              "        box-shadow: 0px 1px 2px rgba(60, 64, 67, 0.3), 0px 1px 3px 1px rgba(60, 64, 67, 0.15);\n",
              "        fill: #174EA6;\n",
              "      }\n",
              "\n",
              "      [theme=dark] .colab-df-generate {\n",
              "        background-color: #3B4455;\n",
              "        fill: #D2E3FC;\n",
              "      }\n",
              "\n",
              "      [theme=dark] .colab-df-generate:hover {\n",
              "        background-color: #434B5C;\n",
              "        box-shadow: 0px 1px 3px 1px rgba(0, 0, 0, 0.15);\n",
              "        filter: drop-shadow(0px 1px 2px rgba(0, 0, 0, 0.3));\n",
              "        fill: #FFFFFF;\n",
              "      }\n",
              "    </style>\n",
              "    <button class=\"colab-df-generate\" onclick=\"generateWithVariable('tfidf_')\"\n",
              "            title=\"Generate code using this dataframe.\"\n",
              "            style=\"display:none;\">\n",
              "\n",
              "  <svg xmlns=\"http://www.w3.org/2000/svg\" height=\"24px\"viewBox=\"0 0 24 24\"\n",
              "       width=\"24px\">\n",
              "    <path d=\"M7,19H8.4L18.45,9,17,7.55,7,17.6ZM5,21V16.75L18.45,3.32a2,2,0,0,1,2.83,0l1.4,1.43a1.91,1.91,0,0,1,.58,1.4,1.91,1.91,0,0,1-.58,1.4L9.25,21ZM18.45,9,17,7.55Zm-12,3A5.31,5.31,0,0,0,4.9,8.1,5.31,5.31,0,0,0,1,6.5,5.31,5.31,0,0,0,4.9,4.9,5.31,5.31,0,0,0,6.5,1,5.31,5.31,0,0,0,8.1,4.9,5.31,5.31,0,0,0,12,6.5,5.46,5.46,0,0,0,6.5,12Z\"/>\n",
              "  </svg>\n",
              "    </button>\n",
              "    <script>\n",
              "      (() => {\n",
              "      const buttonEl =\n",
              "        document.querySelector('#id_ec907142-f24b-4f15-878b-8609c3040fb4 button.colab-df-generate');\n",
              "      buttonEl.style.display =\n",
              "        google.colab.kernel.accessAllowed ? 'block' : 'none';\n",
              "\n",
              "      buttonEl.onclick = () => {\n",
              "        google.colab.notebook.generateWithVariable('tfidf_');\n",
              "      }\n",
              "      })();\n",
              "    </script>\n",
              "  </div>\n",
              "\n",
              "    </div>\n",
              "  </div>\n"
            ],
            "application/vnd.google.colaboratory.intrinsic+json": {
              "type": "dataframe",
              "variable_name": "tfidf_",
              "summary": "{\n  \"name\": \"tfidf_\",\n  \"rows\": 4,\n  \"fields\": [\n    {\n      \"column\": \"\\uacfc\\uc77c\\uc774\",\n      \"properties\": {\n        \"dtype\": \"number\",\n        \"std\": 0.6931471805599453,\n        \"min\": 0.0,\n        \"max\": 1.3862943611198906,\n        \"num_unique_values\": 2,\n        \"samples\": [\n          1.3862943611198906,\n          0.0\n        ],\n        \"semantic_type\": \"\",\n        \"description\": \"\"\n      }\n    },\n    {\n      \"column\": \"\\uae38\\uace0\",\n      \"properties\": {\n        \"dtype\": \"number\",\n        \"std\": 0.6931471805599453,\n        \"min\": 0.0,\n        \"max\": 1.3862943611198906,\n        \"num_unique_values\": 2,\n        \"samples\": [\n          1.3862943611198906,\n          0.0\n        ],\n        \"semantic_type\": \"\",\n        \"description\": \"\"\n      }\n    },\n    {\n      \"column\": \"\\ub178\\ub780\",\n      \"properties\": {\n        \"dtype\": \"number\",\n        \"std\": 0.6931471805599453,\n        \"min\": 0.0,\n        \"max\": 1.3862943611198906,\n        \"num_unique_values\": 2,\n        \"samples\": [\n          1.3862943611198906,\n          0.0\n        ],\n        \"semantic_type\": \"\",\n        \"description\": \"\"\n      }\n    },\n    {\n      \"column\": \"\\uba39\\uace0\",\n      \"properties\": {\n        \"dtype\": \"number\",\n        \"std\": 0.40018871128431455,\n        \"min\": 0.0,\n        \"max\": 0.6931471805599453,\n        \"num_unique_values\": 2,\n        \"samples\": [\n          0.0,\n          0.6931471805599453\n        ],\n        \"semantic_type\": \"\",\n        \"description\": \"\"\n      }\n    },\n    {\n      \"column\": \"\\ubc14\\ub098\\ub098\",\n      \"properties\": {\n        \"dtype\": \"number\",\n        \"std\": 1.3272758006659373,\n        \"min\": 0.0,\n        \"max\": 2.772588722239781,\n        \"num_unique_values\": 3,\n        \"samples\": [\n          0.0,\n          1.3862943611198906\n        ],\n        \"semantic_type\": \"\",\n        \"description\": \"\"\n      }\n    },\n    {\n      \"column\": \"\\uc0ac\\uacfc\",\n      \"properties\": {\n        \"dtype\": \"number\",\n        \"std\": 0.34657359027997264,\n        \"min\": 0.0,\n        \"max\": 0.6931471805599453,\n        \"num_unique_values\": 2,\n        \"samples\": [\n          0.0,\n          0.6931471805599453\n        ],\n        \"semantic_type\": \"\",\n        \"description\": \"\"\n      }\n    },\n    {\n      \"column\": \"\\uc2f6\\uc740\",\n      \"properties\": {\n        \"dtype\": \"number\",\n        \"std\": 0.40018871128431455,\n        \"min\": 0.0,\n        \"max\": 0.6931471805599453,\n        \"num_unique_values\": 2,\n        \"samples\": [\n          0.0,\n          0.6931471805599453\n        ],\n        \"semantic_type\": \"\",\n        \"description\": \"\"\n      }\n    },\n    {\n      \"column\": \"\\uc800\\ub294\",\n      \"properties\": {\n        \"dtype\": \"number\",\n        \"std\": 0.6931471805599453,\n        \"min\": 0.0,\n        \"max\": 1.3862943611198906,\n        \"num_unique_values\": 2,\n        \"samples\": [\n          1.3862943611198906,\n          0.0\n        ],\n        \"semantic_type\": \"\",\n        \"description\": \"\"\n      }\n    },\n    {\n      \"column\": \"\\uc88b\\uc544\\uc694\",\n      \"properties\": {\n        \"dtype\": \"number\",\n        \"std\": 0.6931471805599453,\n        \"min\": 0.0,\n        \"max\": 1.3862943611198906,\n        \"num_unique_values\": 2,\n        \"samples\": [\n          1.3862943611198906,\n          0.0\n        ],\n        \"semantic_type\": \"\",\n        \"description\": \"\"\n      }\n    }\n  ]\n}"
            }
          },
          "metadata": {},
          "execution_count": 13
        }
      ]
    },
    {
      "cell_type": "markdown",
      "source": [
        "TF-IDF를 보면 문서 2에서의 바나나가 문서 1에서의 바나나 보다 값이 높은데 이는 바나나가 이 문서에서 더 중요하게 쓰였다고 볼 수 있다. 왜냐하면 문서 1에서는 바나나가 1번 쓰이지만 2에서는 2번 쓰였기에 더 중요한 단어라고 생각할 수 있다.\n",
        "TF-IDF를 파이썬과 pandas로 구현 해봄 하지만 이렇게 짠 코드는 조금의 문제가 있는데 1.ex)n=4인데 df(t)가 3이면 log(n/df(t)+1)=log(4/4)=log(1)=0 이 되는데 즉 idf=0이 된다.IDF의 값이 0이라면 가중치의 역할을 수행하지 못한다."
      ],
      "metadata": {
        "id": "r2G_UAAzu2nD"
      }
    },
    {
      "cell_type": "code",
      "source": [],
      "metadata": {
        "id": "iUz6c1mzuqaM"
      },
      "execution_count": null,
      "outputs": []
    },
    {
      "cell_type": "markdown",
      "source": [],
      "metadata": {
        "id": "80G53H2lvdHc"
      }
    },
    {
      "cell_type": "markdown",
      "source": [
        "#5장 벡터의 유사도(Vector Similarity)"
      ],
      "metadata": {
        "id": "hwzXSD7OvgZ7"
      }
    },
    {
      "cell_type": "markdown",
      "source": [
        "이번 장을 배우는 이유는 문서들의 유사도를 평가하기 위함이다. 기계가 계산하는 문서의 유사도의 성능은 단어들을 어떤 방법으로 수치화하였는지(DTM,Word2Vec),문서 간의 단어들의 차이를 어떤방법(유클리드 거리,코사인 유사도)로 알수 있다."
      ],
      "metadata": {
        "id": "af4QlG2hv0x5"
      }
    },
    {
      "cell_type": "markdown",
      "source": [],
      "metadata": {
        "id": "9u0-I1_tvijk"
      }
    },
    {
      "cell_type": "markdown",
      "source": [
        "#6장 머신러닝(ML, Machine Learning)"
      ],
      "metadata": {
        "id": "pwqrYTl90CPY"
      }
    },
    {
      "cell_type": "markdown",
      "source": [
        "##6.1 What is Machine Learning?"
      ],
      "metadata": {
        "id": "Mm1OAhmH0QY7"
      }
    },
    {
      "cell_type": "markdown",
      "source": [
        "기존:data->progaming->해답  \n",
        "\n",
        "머신러닝:(data,answer)->Learning->규칙성  \n",
        "\n",
        "머신 러닝은 기존의 프로그래밍과는 접근 방식이 다르다. 머신러닝은 주어진 데이터로 부터 규칙성을 찾는것에 집중한다 이를 training or learning이라고 한다."
      ],
      "metadata": {
        "id": "eVteRplE0e2w"
      }
    },
    {
      "cell_type": "markdown",
      "source": [
        "##6.2 머신 러닝 훓어보기"
      ],
      "metadata": {
        "id": "eJ9WzICT2DP5"
      }
    },
    {
      "cell_type": "markdown",
      "source": [
        "1.머신 러닝 모델의 평가\n",
        "\n",
        "일반적으로 데이터를 훈련용,검증용,테스트용으로 분리한다  \n",
        "Q:검증용이 무엇인가?  \n",
        "A:모델이 훈련 데이터에 과적합이 되고 있는지 판단 or 하이퍼 파라미터의 조정을 위한 용도  ->모델의 성능을 조정하기 위한 데이터  \n",
        "\n",
        "1.하이퍼파라미터(초매개변수): 모델의 성능에 영향을 주는 사람이 값을 지정하는 변수  ((ex)learning mate)\n",
        "2.매개변수: 가중치와 편향. 학습을 하는 동안 값이 계속해서 변하는 수.  \n",
        "\n",
        "2.Classification and Regression  \n",
        "1.Binary Classification  \n",
        "->주어진 입력에 대헤 2개의 선택지 중 하나를 고르는 경우  \n",
        "2.Multi-class Classfication  \n",
        "->주어진 입력에 대헤 여러가지 선택지 중 하나를 고르는 경우  \n",
        "3.Regression  \n",
        "->1,2 상황과는 달리 정해진 선택지가 아닌 어떠한 연속적인 값의 범위 내에서의 예측값이 나오는 경우이디ㅏ.  \n",
        "\n",
        "3.SL,UL  \n",
        "머신러닝은 크게 지도 학습, 비지도 학습, 강화 학습이 있다.  \n",
        "1.지도 학습:lable(정답)과 함께 학습하는 것  \n",
        "->자연어 처리는 대부분 지도 학습에 속함  \n",
        "2.비지도 학습:데이터에 Label 없이 학습하는 것  \n",
        "3.자기지도 학습(Self-Supervised Learning,SSL): Label이 없이 주어졌지만 스스로 Label을 만들어서 학습하는 경우를 자기지도 학습이라고 한다  \n",
        "\n",
        "4.Sample and Feature  \n",
        "많은 머신 러닝 문제가 1개 이상의 독립 변수 x를 가지고 종속 변수 y를 예측하는 문제이다.  \n",
        "머신 러닝 모델 중 특히 인공 신경망은 독립 변수,종속 변수, 가중치, 편향 등을 행렬 연산을 통해 연산하는 경우가 많음.  \n",
        "Sample:머신러닝 기준으로는 데이터, 행렬 기준으로는 하나의 행을 이라고 한다.  \n",
        "feature:종속 변수 y를 예측하기 위한 각각의 독립 변수 x를 이라고 부른다. 행렬 기준으로는 각 열에 해당"
      ],
      "metadata": {
        "id": "rTYeKOIW2Hxp"
      }
    },
    {
      "cell_type": "code",
      "source": [
        "import pandas as pd\n",
        "data=[['TP','FN'],['FP','TN']]\n",
        "df=pd.DataFrame(data,columns=['예측 참','예측 거짓'],index=['실제 참','실제 거짓'])\n",
        "df"
      ],
      "metadata": {
        "colab": {
          "base_uri": "https://localhost:8080/",
          "height": 125
        },
        "id": "Msmb0Adf7w6M",
        "outputId": "9dedbc7c-e77f-493d-8d68-a5be5a993018"
      },
      "execution_count": null,
      "outputs": [
        {
          "output_type": "execute_result",
          "data": {
            "text/plain": [
              "      예측 참 예측 거짓\n",
              "실제 참    TP    FN\n",
              "실제 거짓   FP    TN"
            ],
            "text/html": [
              "\n",
              "  <div id=\"df-9901f2d3-d40e-4c57-92dc-17d1f53b54ec\" class=\"colab-df-container\">\n",
              "    <div>\n",
              "<style scoped>\n",
              "    .dataframe tbody tr th:only-of-type {\n",
              "        vertical-align: middle;\n",
              "    }\n",
              "\n",
              "    .dataframe tbody tr th {\n",
              "        vertical-align: top;\n",
              "    }\n",
              "\n",
              "    .dataframe thead th {\n",
              "        text-align: right;\n",
              "    }\n",
              "</style>\n",
              "<table border=\"1\" class=\"dataframe\">\n",
              "  <thead>\n",
              "    <tr style=\"text-align: right;\">\n",
              "      <th></th>\n",
              "      <th>예측 참</th>\n",
              "      <th>예측 거짓</th>\n",
              "    </tr>\n",
              "  </thead>\n",
              "  <tbody>\n",
              "    <tr>\n",
              "      <th>실제 참</th>\n",
              "      <td>TP</td>\n",
              "      <td>FN</td>\n",
              "    </tr>\n",
              "    <tr>\n",
              "      <th>실제 거짓</th>\n",
              "      <td>FP</td>\n",
              "      <td>TN</td>\n",
              "    </tr>\n",
              "  </tbody>\n",
              "</table>\n",
              "</div>\n",
              "    <div class=\"colab-df-buttons\">\n",
              "\n",
              "  <div class=\"colab-df-container\">\n",
              "    <button class=\"colab-df-convert\" onclick=\"convertToInteractive('df-9901f2d3-d40e-4c57-92dc-17d1f53b54ec')\"\n",
              "            title=\"Convert this dataframe to an interactive table.\"\n",
              "            style=\"display:none;\">\n",
              "\n",
              "  <svg xmlns=\"http://www.w3.org/2000/svg\" height=\"24px\" viewBox=\"0 -960 960 960\">\n",
              "    <path d=\"M120-120v-720h720v720H120Zm60-500h600v-160H180v160Zm220 220h160v-160H400v160Zm0 220h160v-160H400v160ZM180-400h160v-160H180v160Zm440 0h160v-160H620v160ZM180-180h160v-160H180v160Zm440 0h160v-160H620v160Z\"/>\n",
              "  </svg>\n",
              "    </button>\n",
              "\n",
              "  <style>\n",
              "    .colab-df-container {\n",
              "      display:flex;\n",
              "      gap: 12px;\n",
              "    }\n",
              "\n",
              "    .colab-df-convert {\n",
              "      background-color: #E8F0FE;\n",
              "      border: none;\n",
              "      border-radius: 50%;\n",
              "      cursor: pointer;\n",
              "      display: none;\n",
              "      fill: #1967D2;\n",
              "      height: 32px;\n",
              "      padding: 0 0 0 0;\n",
              "      width: 32px;\n",
              "    }\n",
              "\n",
              "    .colab-df-convert:hover {\n",
              "      background-color: #E2EBFA;\n",
              "      box-shadow: 0px 1px 2px rgba(60, 64, 67, 0.3), 0px 1px 3px 1px rgba(60, 64, 67, 0.15);\n",
              "      fill: #174EA6;\n",
              "    }\n",
              "\n",
              "    .colab-df-buttons div {\n",
              "      margin-bottom: 4px;\n",
              "    }\n",
              "\n",
              "    [theme=dark] .colab-df-convert {\n",
              "      background-color: #3B4455;\n",
              "      fill: #D2E3FC;\n",
              "    }\n",
              "\n",
              "    [theme=dark] .colab-df-convert:hover {\n",
              "      background-color: #434B5C;\n",
              "      box-shadow: 0px 1px 3px 1px rgba(0, 0, 0, 0.15);\n",
              "      filter: drop-shadow(0px 1px 2px rgba(0, 0, 0, 0.3));\n",
              "      fill: #FFFFFF;\n",
              "    }\n",
              "  </style>\n",
              "\n",
              "    <script>\n",
              "      const buttonEl =\n",
              "        document.querySelector('#df-9901f2d3-d40e-4c57-92dc-17d1f53b54ec button.colab-df-convert');\n",
              "      buttonEl.style.display =\n",
              "        google.colab.kernel.accessAllowed ? 'block' : 'none';\n",
              "\n",
              "      async function convertToInteractive(key) {\n",
              "        const element = document.querySelector('#df-9901f2d3-d40e-4c57-92dc-17d1f53b54ec');\n",
              "        const dataTable =\n",
              "          await google.colab.kernel.invokeFunction('convertToInteractive',\n",
              "                                                    [key], {});\n",
              "        if (!dataTable) return;\n",
              "\n",
              "        const docLinkHtml = 'Like what you see? Visit the ' +\n",
              "          '<a target=\"_blank\" href=https://colab.research.google.com/notebooks/data_table.ipynb>data table notebook</a>'\n",
              "          + ' to learn more about interactive tables.';\n",
              "        element.innerHTML = '';\n",
              "        dataTable['output_type'] = 'display_data';\n",
              "        await google.colab.output.renderOutput(dataTable, element);\n",
              "        const docLink = document.createElement('div');\n",
              "        docLink.innerHTML = docLinkHtml;\n",
              "        element.appendChild(docLink);\n",
              "      }\n",
              "    </script>\n",
              "  </div>\n",
              "\n",
              "\n",
              "<div id=\"df-55f8a890-2e26-4e23-b8c2-11ae0617750b\">\n",
              "  <button class=\"colab-df-quickchart\" onclick=\"quickchart('df-55f8a890-2e26-4e23-b8c2-11ae0617750b')\"\n",
              "            title=\"Suggest charts\"\n",
              "            style=\"display:none;\">\n",
              "\n",
              "<svg xmlns=\"http://www.w3.org/2000/svg\" height=\"24px\"viewBox=\"0 0 24 24\"\n",
              "     width=\"24px\">\n",
              "    <g>\n",
              "        <path d=\"M19 3H5c-1.1 0-2 .9-2 2v14c0 1.1.9 2 2 2h14c1.1 0 2-.9 2-2V5c0-1.1-.9-2-2-2zM9 17H7v-7h2v7zm4 0h-2V7h2v10zm4 0h-2v-4h2v4z\"/>\n",
              "    </g>\n",
              "</svg>\n",
              "  </button>\n",
              "\n",
              "<style>\n",
              "  .colab-df-quickchart {\n",
              "      --bg-color: #E8F0FE;\n",
              "      --fill-color: #1967D2;\n",
              "      --hover-bg-color: #E2EBFA;\n",
              "      --hover-fill-color: #174EA6;\n",
              "      --disabled-fill-color: #AAA;\n",
              "      --disabled-bg-color: #DDD;\n",
              "  }\n",
              "\n",
              "  [theme=dark] .colab-df-quickchart {\n",
              "      --bg-color: #3B4455;\n",
              "      --fill-color: #D2E3FC;\n",
              "      --hover-bg-color: #434B5C;\n",
              "      --hover-fill-color: #FFFFFF;\n",
              "      --disabled-bg-color: #3B4455;\n",
              "      --disabled-fill-color: #666;\n",
              "  }\n",
              "\n",
              "  .colab-df-quickchart {\n",
              "    background-color: var(--bg-color);\n",
              "    border: none;\n",
              "    border-radius: 50%;\n",
              "    cursor: pointer;\n",
              "    display: none;\n",
              "    fill: var(--fill-color);\n",
              "    height: 32px;\n",
              "    padding: 0;\n",
              "    width: 32px;\n",
              "  }\n",
              "\n",
              "  .colab-df-quickchart:hover {\n",
              "    background-color: var(--hover-bg-color);\n",
              "    box-shadow: 0 1px 2px rgba(60, 64, 67, 0.3), 0 1px 3px 1px rgba(60, 64, 67, 0.15);\n",
              "    fill: var(--button-hover-fill-color);\n",
              "  }\n",
              "\n",
              "  .colab-df-quickchart-complete:disabled,\n",
              "  .colab-df-quickchart-complete:disabled:hover {\n",
              "    background-color: var(--disabled-bg-color);\n",
              "    fill: var(--disabled-fill-color);\n",
              "    box-shadow: none;\n",
              "  }\n",
              "\n",
              "  .colab-df-spinner {\n",
              "    border: 2px solid var(--fill-color);\n",
              "    border-color: transparent;\n",
              "    border-bottom-color: var(--fill-color);\n",
              "    animation:\n",
              "      spin 1s steps(1) infinite;\n",
              "  }\n",
              "\n",
              "  @keyframes spin {\n",
              "    0% {\n",
              "      border-color: transparent;\n",
              "      border-bottom-color: var(--fill-color);\n",
              "      border-left-color: var(--fill-color);\n",
              "    }\n",
              "    20% {\n",
              "      border-color: transparent;\n",
              "      border-left-color: var(--fill-color);\n",
              "      border-top-color: var(--fill-color);\n",
              "    }\n",
              "    30% {\n",
              "      border-color: transparent;\n",
              "      border-left-color: var(--fill-color);\n",
              "      border-top-color: var(--fill-color);\n",
              "      border-right-color: var(--fill-color);\n",
              "    }\n",
              "    40% {\n",
              "      border-color: transparent;\n",
              "      border-right-color: var(--fill-color);\n",
              "      border-top-color: var(--fill-color);\n",
              "    }\n",
              "    60% {\n",
              "      border-color: transparent;\n",
              "      border-right-color: var(--fill-color);\n",
              "    }\n",
              "    80% {\n",
              "      border-color: transparent;\n",
              "      border-right-color: var(--fill-color);\n",
              "      border-bottom-color: var(--fill-color);\n",
              "    }\n",
              "    90% {\n",
              "      border-color: transparent;\n",
              "      border-bottom-color: var(--fill-color);\n",
              "    }\n",
              "  }\n",
              "</style>\n",
              "\n",
              "  <script>\n",
              "    async function quickchart(key) {\n",
              "      const quickchartButtonEl =\n",
              "        document.querySelector('#' + key + ' button');\n",
              "      quickchartButtonEl.disabled = true;  // To prevent multiple clicks.\n",
              "      quickchartButtonEl.classList.add('colab-df-spinner');\n",
              "      try {\n",
              "        const charts = await google.colab.kernel.invokeFunction(\n",
              "            'suggestCharts', [key], {});\n",
              "      } catch (error) {\n",
              "        console.error('Error during call to suggestCharts:', error);\n",
              "      }\n",
              "      quickchartButtonEl.classList.remove('colab-df-spinner');\n",
              "      quickchartButtonEl.classList.add('colab-df-quickchart-complete');\n",
              "    }\n",
              "    (() => {\n",
              "      let quickchartButtonEl =\n",
              "        document.querySelector('#df-55f8a890-2e26-4e23-b8c2-11ae0617750b button');\n",
              "      quickchartButtonEl.style.display =\n",
              "        google.colab.kernel.accessAllowed ? 'block' : 'none';\n",
              "    })();\n",
              "  </script>\n",
              "</div>\n",
              "\n",
              "  <div id=\"id_6cb5a85b-d081-462a-ac35-3a8ca7c9fb52\">\n",
              "    <style>\n",
              "      .colab-df-generate {\n",
              "        background-color: #E8F0FE;\n",
              "        border: none;\n",
              "        border-radius: 50%;\n",
              "        cursor: pointer;\n",
              "        display: none;\n",
              "        fill: #1967D2;\n",
              "        height: 32px;\n",
              "        padding: 0 0 0 0;\n",
              "        width: 32px;\n",
              "      }\n",
              "\n",
              "      .colab-df-generate:hover {\n",
              "        background-color: #E2EBFA;\n",
              "        box-shadow: 0px 1px 2px rgba(60, 64, 67, 0.3), 0px 1px 3px 1px rgba(60, 64, 67, 0.15);\n",
              "        fill: #174EA6;\n",
              "      }\n",
              "\n",
              "      [theme=dark] .colab-df-generate {\n",
              "        background-color: #3B4455;\n",
              "        fill: #D2E3FC;\n",
              "      }\n",
              "\n",
              "      [theme=dark] .colab-df-generate:hover {\n",
              "        background-color: #434B5C;\n",
              "        box-shadow: 0px 1px 3px 1px rgba(0, 0, 0, 0.15);\n",
              "        filter: drop-shadow(0px 1px 2px rgba(0, 0, 0, 0.3));\n",
              "        fill: #FFFFFF;\n",
              "      }\n",
              "    </style>\n",
              "    <button class=\"colab-df-generate\" onclick=\"generateWithVariable('df')\"\n",
              "            title=\"Generate code using this dataframe.\"\n",
              "            style=\"display:none;\">\n",
              "\n",
              "  <svg xmlns=\"http://www.w3.org/2000/svg\" height=\"24px\"viewBox=\"0 0 24 24\"\n",
              "       width=\"24px\">\n",
              "    <path d=\"M7,19H8.4L18.45,9,17,7.55,7,17.6ZM5,21V16.75L18.45,3.32a2,2,0,0,1,2.83,0l1.4,1.43a1.91,1.91,0,0,1,.58,1.4,1.91,1.91,0,0,1-.58,1.4L9.25,21ZM18.45,9,17,7.55Zm-12,3A5.31,5.31,0,0,0,4.9,8.1,5.31,5.31,0,0,0,1,6.5,5.31,5.31,0,0,0,4.9,4.9,5.31,5.31,0,0,0,6.5,1,5.31,5.31,0,0,0,8.1,4.9,5.31,5.31,0,0,0,12,6.5,5.46,5.46,0,0,0,6.5,12Z\"/>\n",
              "  </svg>\n",
              "    </button>\n",
              "    <script>\n",
              "      (() => {\n",
              "      const buttonEl =\n",
              "        document.querySelector('#id_6cb5a85b-d081-462a-ac35-3a8ca7c9fb52 button.colab-df-generate');\n",
              "      buttonEl.style.display =\n",
              "        google.colab.kernel.accessAllowed ? 'block' : 'none';\n",
              "\n",
              "      buttonEl.onclick = () => {\n",
              "        google.colab.notebook.generateWithVariable('df');\n",
              "      }\n",
              "      })();\n",
              "    </script>\n",
              "  </div>\n",
              "\n",
              "    </div>\n",
              "  </div>\n"
            ],
            "application/vnd.google.colaboratory.intrinsic+json": {
              "type": "dataframe",
              "variable_name": "df",
              "summary": "{\n  \"name\": \"df\",\n  \"rows\": 2,\n  \"fields\": [\n    {\n      \"column\": \"\\uc608\\uce21 \\ucc38\",\n      \"properties\": {\n        \"dtype\": \"string\",\n        \"num_unique_values\": 2,\n        \"samples\": [\n          \"FP\",\n          \"TP\"\n        ],\n        \"semantic_type\": \"\",\n        \"description\": \"\"\n      }\n    },\n    {\n      \"column\": \"\\uc608\\uce21 \\uac70\\uc9d3\",\n      \"properties\": {\n        \"dtype\": \"string\",\n        \"num_unique_values\": 2,\n        \"samples\": [\n          \"TN\",\n          \"FN\"\n        ],\n        \"semantic_type\": \"\",\n        \"description\": \"\"\n      }\n    }\n  ]\n}"
            }
          },
          "metadata": {},
          "execution_count": 9
        }
      ]
    },
    {
      "cell_type": "markdown",
      "source": [
        "5.혼돈 행렬  \n",
        "TP와 TN은 정답이고 FP와FN은 틀렸다.(T가 True이고 F는 False임)  \n",
        "1.정밀도(Precision) : True라고 분류한 것중 실제 True인 정도  \n",
        "   TP/(TP+FP)  \n",
        "2.재현율(Recall) : 재현율이란 실제 True인 것 중 모델이 True라고 예측한 정도  \n",
        "TP/TP+FN  \n",
        "3.정확도(Accuracy):전체 예측 결과 중에서 맞춘 경우의 수:\n",
        "TP+TN/TP+FN+FP+TN  \n",
        "= 예측 성공/예측 한 횟수  \n"
      ],
      "metadata": {
        "id": "XiA2MzQ07iLc"
      }
    },
    {
      "cell_type": "markdown",
      "source": [
        "\n",
        "6.Overfitting and Underfitting  \n",
        "Overfitting:훈련 데이터를 과하게 학습하여 테스트 데이터나 실제 서비스에서 정확도가 높지 않은 상태  \n",
        "Underfitting:훈련 데이터 조차 학습이 제대로 되지 않은 상황 훈련 자체가 부족한 상태이다.  \n",
        "딥러닝을 할 때는 Overfitting을 막을 수 있는 Dropout,Early Stopping이 있다.  \n",
        "\n",
        "테스트 데이터를 두 가지 용도로 분리하여 사용하는 것이 바람직하다.  \n",
        "과적합 모니터링 and 하이퍼파라미터 튜닝을 위한 검증 데이터와 오직 성능 테스트를 위한 테스트 데이터로 나뉜다.  \n",
        "\n",
        "딥러닝 과정\n",
        "->  \n",
        "Step 1. 주어진 데이터를 훈련 데이터, 검증 데이터, 테스트 데이터로 나눈다. 가령, 6:2:2 비율로 나눌 수 있다.  \n",
        "Step 2. 훈련 데이터로 모델을 학습한다. (에포크 +1)  \n",
        "Step 3. 검증 데이터로 모델을 평가하여 검증 데이터에 대한 정확도와 오차(loss)를 계산한다.  \n",
        "Step 4. 검증 데이터의 오차가 증가하였다면 과적합 징후이므로 학습 종료 후 Step 5로 이동, 아니라면 Step 2.로 재이동한다.  \n",
        "Step 5. 모델의 학습이 종료되었으니 테스트 데이터로 모델을 평가한다.\n",
        "\n",
        "\n"
      ],
      "metadata": {
        "id": "zSqG0SLO-qx6"
      }
    },
    {
      "cell_type": "markdown",
      "source": [
        "## 6.3 Linear Regression"
      ],
      "metadata": {
        "id": "6lZrtmKXBUEy"
      }
    },
    {
      "cell_type": "markdown",
      "source": [
        "알아야 하는 개념:Linear Regression,Logsitic Regression,Hypothesis,LossFunction,Gradient Descent  \n"
      ],
      "metadata": {
        "id": "whz8ebVvBdIP"
      }
    },
    {
      "cell_type": "markdown",
      "source": [
        "y=wx + b  \n",
        "x는 독립 변수 y는 종속 변수  y는 x값에 따라 값이 변하기 때문  \n",
        "Linear Regression은 한 개 이상의 독립 변수 x와y의 선형 관계를 모델링한다.  \n",
        "\n",
        "단순 선형 회귀\n",
        "w는 weight의 약자로 가중치를 의미함\n",
        "b는 bias의 약자로 편향을 의미함  \n",
        "y=wx +b 로 x는 데이터 w,b를 우리가 컨트롤 하게 된다.\n",
        "\n",
        "다중 선형 회귀  \n",
        "y=w1x1+w2x2+....wnxn+b  \n",
        "로 표현 되는데 w1,w2,wn은 각각 여러가지 특성들을 의미하게 되고 x1,x2,xn은 특성들의 data를 의미한다.  \n",
        "\n",
        "선형 회귀에서 Hypothesis를 세운다. 어떤 w,b를 선택하느냐에 따라 그래프의 모양이 천차만별로 달라진다.  \n",
        "그러므로 선형 회귀에서 해야할 일은 적절한 w,b를 찾아내야하는것이다.  \n",
        "\n",
        "3.비용 함수(Cost function) : 평균 제곱 오차(MSE)  \n",
        "Objective function,Cost function,Loss function->실제값과 예측값에 대한 오차  \n",
        "Objective function은 함수의 값을 최소화 or 최대화하는 목적을 가진 함수\n",
        "Cost function,Loss function->최소화하는데에 쓰이는 function  \n",
        "\n",
        "비용함수는 단순히 오차를 표현하는 것이 아니라 예측값의 오차를 줄이는데에 최적화되어야 한다. 각각의 러닝들에는 다양한 문제들이 있고 적합한 비용 함수들을 사용되어야 한다. 회귀 문제의 경우에는 주로 MSE(평균 제곱 오차)가 사용된다.\n",
        "\n",
        "수식적으로 단순히'오차=실제값-예측값'이라고 정의하면 오차가 음수일수도 양수 일수도 있어 오차가 누적되진 않는다. 그래서 모든 오차를 제곱하여 더하는 방식을 사용한다.\n",
        "\n",
        "Optimizer:Gradient Descent  \n",
        "optimizer:cost function을 최소화하는 w,b를 찾기 위한 작업을 수행하기 위한 알고리즘  \n",
        "![image.png](data:image/png;base64,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)\n",
        "![image.png](data:image/png;base64,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)  \n",
        "\n",
        "점점 접선의 기울기가 0인쪽으로 가게 되어서 결국 cost의 값이 가장 적은곳으로 수렴하게 된다.\n",
        "\n",
        "![image.png](data:image/png;base64,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)\n",
        "learning mate=a\n",
        "a가 너무 커지면 기울기가 0으로 수렴하지 못하는 경우가 생길수 있고 a가 너무 작아지면 수렴하는곳으로 가는데 너무 오래 걸\n",
        "\n"
      ],
      "metadata": {
        "id": "7tb-iN9jCXij"
      }
    },
    {
      "cell_type": "markdown",
      "source": [
        "##6.4 자동 미분"
      ],
      "metadata": {
        "id": "CXle1HcWmicf"
      }
    },
    {
      "cell_type": "markdown",
      "source": [
        "1.자동미분"
      ],
      "metadata": {
        "id": "Xs-EVgfhbLlQ"
      }
    },
    {
      "cell_type": "code",
      "source": [
        "import tensorflow as tf"
      ],
      "metadata": {
        "id": "n0DuSXFtClvm"
      },
      "execution_count": null,
      "outputs": []
    },
    {
      "cell_type": "markdown",
      "source": [
        "임의로 2w^2+5라는 식을 세우고 w에 대헤 미분"
      ],
      "metadata": {
        "id": "0q6dLmnkbt7-"
      }
    },
    {
      "cell_type": "code",
      "source": [
        "w=tf.Variable(2.)\n",
        "\n",
        "def f(w):\n",
        "  y=w**2\n",
        "  z=2*y+5\n",
        "  return z"
      ],
      "metadata": {
        "id": "Z3XOKfj7bSK8"
      },
      "execution_count": null,
      "outputs": []
    },
    {
      "cell_type": "code",
      "source": [
        "with tf.GradientTape() as tape:\n",
        "  z=f(w)\n",
        "\n",
        "gradients=tape.gradient(z,[w])\n",
        "print(gradients)"
      ],
      "metadata": {
        "colab": {
          "base_uri": "https://localhost:8080/"
        },
        "id": "uOEOC1G1bmvj",
        "outputId": "ffb9af82-41e1-4142-c0d8-020f6710d586"
      },
      "execution_count": null,
      "outputs": [
        {
          "output_type": "stream",
          "name": "stdout",
          "text": [
            "[<tf.Tensor: shape=(), dtype=float32, numpy=8.0>]\n"
          ]
        }
      ]
    },
    {
      "cell_type": "markdown",
      "source": [
        "미분값이 8임을 알 수 있다.  \n",
        "이제 자동 미분을 이용한 선형 회귀 구현"
      ],
      "metadata": {
        "id": "etN9MocOdHtH"
      }
    },
    {
      "cell_type": "code",
      "source": [
        "w=tf.Variable(4.0)\n",
        "b=tf.Variable(1.0)"
      ],
      "metadata": {
        "id": "BHe2CxMDb_tx"
      },
      "execution_count": null,
      "outputs": []
    },
    {
      "cell_type": "code",
      "source": [
        "@tf.function\n",
        "def hypothesis(x):\n",
        "  return w*x+b\n",
        "\n",
        "x_test=[3.5,5,5.5,6]\n",
        "print(hypothesis(x_test).numpy())"
      ],
      "metadata": {
        "colab": {
          "base_uri": "https://localhost:8080/"
        },
        "id": "GA0GpTLgdX7a",
        "outputId": "cd549de3-03a3-426d-9083-639485b147c6"
      },
      "execution_count": null,
      "outputs": [
        {
          "output_type": "stream",
          "name": "stdout",
          "text": [
            "[15. 21. 23. 25.]\n"
          ]
        }
      ]
    },
    {
      "cell_type": "code",
      "source": [
        "@tf.function\n",
        "def mse_loss(y_pred, y):\n",
        "  return tf.reduce_mean(tf.square(y_pred - y))#두개의 차이값을 제곱을 해서 평균을 취한다\n",
        "\n",
        "x=[1,2,3,4,5,6,7,8,9]#공부하는 시간\n",
        "y=[11,22,33,44,53,66,77,87,95]#공부 시간당 성적"
      ],
      "metadata": {
        "id": "kipkuhDXduc2"
      },
      "execution_count": null,
      "outputs": []
    },
    {
      "cell_type": "code",
      "source": [
        "optimizer=tf.optimizers.SGD(0.01)"
      ],
      "metadata": {
        "id": "QqCzhxEgeb5g"
      },
      "execution_count": null,
      "outputs": []
    },
    {
      "cell_type": "code",
      "source": [
        "for i in range(301):\n",
        "  with tf.GradientTape() as tape:\n",
        "    y_pred=hypothesis(x)\n",
        "    cost=mse_loss(y_pred,y)\n",
        "\n",
        "  gradients=tape.gradient(cost,[w,b])\n",
        "\n",
        "  optimizer.apply_gradients(zip(gradients,[w,b]))\n",
        "\n",
        "  if i%10 == 0:\n",
        "    print(\"epoch : {:3} | w의 값 : {:5.4f} | b의 값 : {:5.4f} | cost : {:5.6f}\".format(i, w.numpy(),b.numpy(),cost))"
      ],
      "metadata": {
        "colab": {
          "base_uri": "https://localhost:8080/"
        },
        "id": "tK_ZlAxUef3a",
        "outputId": "9acca7f0-e725-4076-d5e4-a0e4672fde10"
      },
      "execution_count": null,
      "outputs": [
        {
          "output_type": "stream",
          "name": "stdout",
          "text": [
            "epoch :   0 | w의 값 : 8.2133 | b의 값 : 1.6644 | cost : 1402.555542\n",
            "epoch :  10 | w의 값 : 10.4971 | b의 값 : 1.9769 | cost : 1.351182\n",
            "epoch :  20 | w의 값 : 10.5047 | b의 값 : 1.9297 | cost : 1.328165\n",
            "epoch :  30 | w의 값 : 10.5119 | b의 값 : 1.8844 | cost : 1.306967\n",
            "epoch :  40 | w의 값 : 10.5188 | b의 값 : 1.8409 | cost : 1.287436\n",
            "epoch :  50 | w의 값 : 10.5254 | b의 값 : 1.7991 | cost : 1.269459\n",
            "epoch :  60 | w의 값 : 10.5318 | b의 값 : 1.7591 | cost : 1.252898\n",
            "epoch :  70 | w의 값 : 10.5379 | b의 값 : 1.7206 | cost : 1.237644\n",
            "epoch :  80 | w의 값 : 10.5438 | b의 값 : 1.6837 | cost : 1.223598\n",
            "epoch :  90 | w의 값 : 10.5494 | b의 값 : 1.6483 | cost : 1.210658\n",
            "epoch : 100 | w의 값 : 10.5548 | b의 값 : 1.6143 | cost : 1.198740\n",
            "epoch : 110 | w의 값 : 10.5600 | b의 값 : 1.5817 | cost : 1.187767\n",
            "epoch : 120 | w의 값 : 10.5650 | b의 값 : 1.5504 | cost : 1.177665\n",
            "epoch : 130 | w의 값 : 10.5697 | b의 값 : 1.5204 | cost : 1.168354\n",
            "epoch : 140 | w의 값 : 10.5743 | b의 값 : 1.4916 | cost : 1.159782\n",
            "epoch : 150 | w의 값 : 10.5787 | b의 값 : 1.4639 | cost : 1.151890\n",
            "epoch : 160 | w의 값 : 10.5829 | b의 값 : 1.4373 | cost : 1.144619\n",
            "epoch : 170 | w의 값 : 10.5870 | b의 값 : 1.4119 | cost : 1.137924\n",
            "epoch : 180 | w의 값 : 10.5909 | b의 값 : 1.3874 | cost : 1.131752\n",
            "epoch : 190 | w의 값 : 10.5946 | b의 값 : 1.3640 | cost : 1.126073\n",
            "epoch : 200 | w의 값 : 10.5982 | b의 값 : 1.3414 | cost : 1.120843\n",
            "epoch : 210 | w의 값 : 10.6016 | b의 값 : 1.3198 | cost : 1.116026\n",
            "epoch : 220 | w의 값 : 10.6049 | b의 값 : 1.2991 | cost : 1.111589\n",
            "epoch : 230 | w의 값 : 10.6081 | b의 값 : 1.2792 | cost : 1.107504\n",
            "epoch : 240 | w의 값 : 10.6111 | b의 값 : 1.2601 | cost : 1.103736\n",
            "epoch : 250 | w의 값 : 10.6140 | b의 값 : 1.2418 | cost : 1.100273\n",
            "epoch : 260 | w의 값 : 10.6168 | b의 값 : 1.2242 | cost : 1.097082\n",
            "epoch : 270 | w의 값 : 10.6195 | b의 값 : 1.2073 | cost : 1.094143\n",
            "epoch : 280 | w의 값 : 10.6221 | b의 값 : 1.1911 | cost : 1.091434\n",
            "epoch : 290 | w의 값 : 10.6245 | b의 값 : 1.1755 | cost : 1.088940\n",
            "epoch : 300 | w의 값 : 10.6269 | b의 값 : 1.1606 | cost : 1.086645\n"
          ]
        }
      ]
    },
    {
      "cell_type": "markdown",
      "source": [
        "epoch의 횟수가 늘어남에 따라 cost가 줄어드는 것을 확인 할 수 있다.\n",
        "\n",
        "케라스로 구현하는 방법"
      ],
      "metadata": {
        "id": "vLLs-TI4f-lR"
      }
    },
    {
      "cell_type": "code",
      "source": [
        "from tensorflow.keras.models import Sequential\n",
        "from tensorflow.keras.layers import Dense\n",
        "from tensorflow.keras import optimizers\n",
        "\n",
        "model=Sequential()\n",
        "\n",
        "model.add(Dense(1,input_dim=1,activation='linear'))\n",
        "\n",
        "sgd=optimizers.SGD(lr=0.01)\n",
        "\n",
        "model.compile(optimizer=sgd,loss='mse',metrics=['mse'])\n",
        "\n",
        "model.fit(x,y,epochs=300)"
      ],
      "metadata": {
        "id": "C49KSGqEfz8Z"
      },
      "execution_count": null,
      "outputs": []
    },
    {
      "cell_type": "code",
      "source": [
        "import matplotlib.pyplot as plt\n",
        "\n",
        "plt.plot(x,model.predict(x),'b',x,y,'k.')"
      ],
      "metadata": {
        "colab": {
          "base_uri": "https://localhost:8080/",
          "height": 487
        },
        "id": "2NS8nOCuhEV4",
        "outputId": "a52d49ee-04ad-4af5-e5c5-07fb2b38f625"
      },
      "execution_count": null,
      "outputs": [
        {
          "output_type": "stream",
          "name": "stdout",
          "text": [
            "1/1 [==============================] - 0s 286ms/step\n"
          ]
        },
        {
          "output_type": "execute_result",
          "data": {
            "text/plain": [
              "[<matplotlib.lines.Line2D at 0x7c2539486d40>,\n",
              " <matplotlib.lines.Line2D at 0x7c2539298af0>]"
            ]
          },
          "metadata": {},
          "execution_count": 15
        },
        {
          "output_type": "display_data",
          "data": {
            "text/plain": [
              "<Figure size 640x480 with 1 Axes>"
            ],
            "image/png": "[encoded data removed]"
          },
          "metadata": {}
        }
      ]
    },
    {
      "cell_type": "markdown",
      "source": [
        "점은 실제값이고, 선은 w와b를 SGD를 통해 추측한 값이다."
      ],
      "metadata": {
        "id": "UboIPtZbiQKy"
      }
    },
    {
      "cell_type": "code",
      "source": [
        "print(model.predict([9.5]))"
      ],
      "metadata": {
        "colab": {
          "base_uri": "https://localhost:8080/"
        },
        "id": "3xsPvVyOiBwq",
        "outputId": "8f07f8e5-8e96-41cc-9c97-ab75c8f29dde"
      },
      "execution_count": null,
      "outputs": [
        {
          "output_type": "stream",
          "name": "stdout",
          "text": [
            "1/1 [==============================] - 0s 146ms/step\n",
            "[[102.159134]]\n"
          ]
        }
      ]
    },
    {
      "cell_type": "markdown",
      "source": [
        "9.5시간을 공부하면 102점을 얻는다고 추측.."
      ],
      "metadata": {
        "id": "ehYNEk9MicQj"
      }
    },
    {
      "cell_type": "code",
      "source": [],
      "metadata": {
        "id": "1SEQGWZtiawV"
      },
      "execution_count": null,
      "outputs": []
    },
    {
      "cell_type": "markdown",
      "source": [
        "##6.5로지스틱 회귀"
      ],
      "metadata": {
        "id": "eGCplo3Ui6w6"
      }
    },
    {
      "cell_type": "markdown",
      "source": [
        "이진 분류 상황에서는 x,y의 형태가 알파벳의 s자 형태로 표현되는데, 이러한 x,y의 관계를 표현하기에는 s자 형태에 함수가 필요하다.\n",
        "만약 y=wx+b의 직선을 사용할 경우, y값이 음의 무한대부터 양의 무한대와 같은 큰 수들도 가질 수 있는데 이는 적합하지 않다."
      ],
      "metadata": {
        "id": "QEK6OYKojInA"
      }
    },
    {
      "cell_type": "markdown",
      "source": [
        "![image.png](data:image/png;base64,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)"
      ],
      "metadata": {
        "id": "wjBeP6yfqNpH"
      }
    },
    {
      "cell_type": "markdown",
      "source": [
        "![image.png](data:image/png;base64,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)"
      ],
      "metadata": {
        "id": "hNnjj6suqN3K"
      }
    },
    {
      "cell_type": "markdown",
      "source": [
        "결국 w,b를 사용해서 그래프를 조정하는게 중요한것이다. y값이 0.5가 넘는 지점의 x값을 찾는것이 중요한것.  \n",
        "대칭이동이라고 생각하면 b가 커지면 그래프가 왼쪽으로 이동하고 b가 작아지면 그래프가 오른쪽으로 이동함 w가 커지면 기울기 변화량이 커지므로 파란색 점선 처럼 되고 w가 작아지면 빨간색 점선처럼 기울기 변화량이 작아진다.\n",
        "\n"
      ],
      "metadata": {
        "id": "_qFxdNYqqQ_K"
      }
    },
    {
      "cell_type": "markdown",
      "source": [
        "3. 비용함수 : 크로스 엔트로피\n"
      ],
      "metadata": {
        "id": "ixYovk4OrqQM"
      }
    },
    {
      "cell_type": "markdown",
      "source": [
        "![image.png](data:image/png;base64,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)"
      ],
      "metadata": {
        "id": "GSYLjzulryeB"
      }
    },
    {
      "cell_type": "markdown",
      "source": [
        "우리가 찾아야하는건 오차가 가장적은 최소값인데 SGD의 특성상 극솟값에서 갇혀버릴수도 있다.MSE는 로지스틱 회귀에서는 로컬 미니멈에 빠질 가능성이 높으므로 다른 cost function을 찾아야한다.  \n",
        "로지스틱 회귀에서는 cost function으로는 cross-entropy를 사용한다.  \n"
      ],
      "metadata": {
        "id": "0iNdUpfLr0yJ"
      }
    },
    {
      "cell_type": "markdown",
      "source": [
        "##6.6 로지스틱 회귀 실습"
      ],
      "metadata": {
        "id": "2frLQrw5J17U"
      }
    },
    {
      "cell_type": "code",
      "source": [
        "import numpy as np\n",
        "import matplotlib.pyplot as plt\n",
        "from tensorflow.keras.models import Sequential\n",
        "from tensorflow.keras.layers import Dense\n",
        "from tensorflow.keras import optimizers\n",
        "\n",
        "x = np.array([-50, -40, -30, -20, -10, -5, 0, 5, 10, 20, 30, 40, 50])\n",
        "y = np.array([0, 0, 0, 0, 0, 0, 0, 0, 1, 1, 1, 1, 1]) # 숫자 10부터 1\n",
        "\n",
        "model = Sequential()\n",
        "model.add(Dense(1, input_dim=1, activation='sigmoid'))\n",
        "\n",
        "sgd = optimizers.SGD(lr=0.01)\n",
        "model.compile(optimizer=sgd, loss='binary_crossentropy', metrics=['binary_accuracy'])\n",
        "\n",
        "model.fit(x, y, epochs=200)\n"
      ],
      "metadata": {
        "id": "-k-NMYkOKVlx"
      },
      "execution_count": null,
      "outputs": []
    },
    {
      "cell_type": "code",
      "source": [
        "plt.plot(x, model.predict(x), 'b', x,y, 'k.')\n"
      ],
      "metadata": {
        "colab": {
          "base_uri": "https://localhost:8080/",
          "height": 486
        },
        "id": "kKpqt1nKKXIf",
        "outputId": "a45cb03b-1789-4003-a845-5851f93b78d6"
      },
      "execution_count": null,
      "outputs": [
        {
          "output_type": "stream",
          "name": "stdout",
          "text": [
            "1/1 [==============================] - 0s 73ms/step\n"
          ]
        },
        {
          "output_type": "execute_result",
          "data": {
            "text/plain": [
              "[<matplotlib.lines.Line2D at 0x7fcc0a815e40>,\n",
              " <matplotlib.lines.Line2D at 0x7fcb777ebfd0>]"
            ]
          },
          "metadata": {},
          "execution_count": 3
        },
        {
          "output_type": "display_data",
          "data": {
            "text/plain": [
              "<Figure size 640x480 with 1 Axes>"
            ],
            "image/png": "[encoded data removed]"
          },
          "metadata": {}
        }
      ]
    },
    {
      "cell_type": "markdown",
      "source": [
        "y값이 0.5이상인 지점의 x값이 들어오면 1을 반환 0.5 보다 작으면 0을 반환하게 된다."
      ],
      "metadata": {
        "id": "S9mpnOauKnJ5"
      }
    },
    {
      "cell_type": "markdown",
      "source": [
        "##6.7 다중 입력에 대한 실습"
      ],
      "metadata": {
        "id": "ggqIHA9vc8i-"
      }
    },
    {
      "cell_type": "code",
      "source": [
        "import numpy as np\n",
        "from tensorflow.keras.models import Sequential\n",
        "from tensorflow.keras.layers import Dense\n",
        "from tensorflow.keras import optimizers\n"
      ],
      "metadata": {
        "id": "NvMxaKg-dBl0"
      },
      "execution_count": null,
      "outputs": []
    },
    {
      "cell_type": "markdown",
      "source": [
        "1. 다중 선형 회귀  \n",
        "y를 결정하는데 독립 변수가 3개인 선형 회귀는  \n",
        "H(X)=w1x1+w2x2+w3x3+b 로 표현된다.\n",
        "X는 [x1,x2,x3]의 특성을 가진 벡터이다."
      ],
      "metadata": {
        "id": "yVSJ9-QTdYdx"
      }
    },
    {
      "cell_type": "code",
      "source": [
        "# 중간 고사, 기말 고사, 가산점 점수\n",
        "X = np.array([[70,85,11], [71,89,18], [50,80,20], [99,20,10], [50,10,10]])\n",
        "y = np.array([73, 82 ,72, 57, 34]) # 최종 성적\n",
        "\n",
        "model=Sequential()\n",
        "model.add(Dense(1,input_dim=3,activation='linear'))\n",
        "\n",
        "sgd=optimizers.SGD(learning_rate=0.0001)\n",
        "model.compile(optimizer=sgd,loss='mse',metrics=['mse'])\n",
        "model.fit(X,y,epochs=2000)"
      ],
      "metadata": {
        "id": "Xx7Pg-EVeJyj"
      },
      "execution_count": null,
      "outputs": []
    },
    {
      "cell_type": "code",
      "source": [
        "print(model.predict(X))"
      ],
      "metadata": {
        "colab": {
          "base_uri": "https://localhost:8080/"
        },
        "id": "jCCYmkcdeqWo",
        "outputId": "dab7f534-5649-4451-b986-3c0bf6866a0b"
      },
      "execution_count": null,
      "outputs": [
        {
          "output_type": "stream",
          "name": "stdout",
          "text": [
            "1/1 [==============================] - 0s 22ms/step\n",
            "[[72.93918]\n",
            " [81.97356]\n",
            " [72.08982]\n",
            " [57.11455]\n",
            " [33.80629]]\n"
          ]
        }
      ]
    },
    {
      "cell_type": "code",
      "source": [
        "X_test = np.array([[20,99,10], [40,50,20]])\n",
        "print(model.predict(X_test))"
      ],
      "metadata": {
        "colab": {
          "base_uri": "https://localhost:8080/"
        },
        "id": "amvNBpcEeuE3",
        "outputId": "51d30a66-f45f-40f9-9599-895bd15c6ff7"
      },
      "execution_count": null,
      "outputs": [
        {
          "output_type": "stream",
          "name": "stdout",
          "text": [
            "1/1 [==============================] - 0s 33ms/step\n",
            "[[57.91768]\n",
            " [56.05155]]\n"
          ]
        }
      ]
    },
    {
      "cell_type": "markdown",
      "source": [
        "2.다중 로지스틱 회귀  \n",
        "input_dimension=2 이다 그러면 H(X) 이렇게 표현된다\n",
        "H(X)=sigmoid(w1x1+w2x2+b)\n"
      ],
      "metadata": {
        "id": "xqCIMQqxfffq"
      }
    },
    {
      "cell_type": "code",
      "source": [
        "X=np.array([[0,0],[0,1],[1,0],[0,2],[1,1],[2,0]])\n",
        "y=np.array([0,0,0,1,1,1])\n",
        "\n",
        "model=Sequential()\n",
        "model.add(Dense(1,input_dim=2,activation='sigmoid'))\n",
        "model.compile(optimizer='sgd',loss='binary_crossentropy',metrics=['binary_accuracy'])\n",
        "\n",
        "model.fit(X,y,epochs=2000)"
      ],
      "metadata": {
        "id": "YsvAs5VQfMY6"
      },
      "execution_count": null,
      "outputs": []
    },
    {
      "cell_type": "code",
      "source": [],
      "metadata": {
        "id": "J7IPibo2ir83"
      },
      "execution_count": null,
      "outputs": []
    },
    {
      "cell_type": "markdown",
      "source": [
        "##6.8 벡터와 행렬 연산"
      ],
      "metadata": {
        "id": "F0WU4Tiyk71b"
      }
    },
    {
      "cell_type": "markdown",
      "source": [
        "벡터=크기와 방향을 가진 양  \n",
        "파이썬에서는  \n",
        "1차원, 배열 or 리스트  \n",
        "2차원:2차원 배열 (가로줄은 행,세로줄은 열)  \n",
        "3차원이상: 텐서(Tensor)  \n",
        "\n"
      ],
      "metadata": {
        "id": "qGoYtrdhlCYm"
      }
    },
    {
      "cell_type": "code",
      "source": [
        "d=np.array(5)\n",
        "print('텐서의 차원 :',d.ndim)\n",
        "print('텐서의 크기(shape) :',d.shape)"
      ],
      "metadata": {
        "colab": {
          "base_uri": "https://localhost:8080/"
        },
        "id": "2oKgrQxvl1L1",
        "outputId": "0c252b1e-9d68-42a5-e3cd-0fbb2e223b7a"
      },
      "execution_count": null,
      "outputs": [
        {
          "output_type": "stream",
          "name": "stdout",
          "text": [
            "텐서의 차원 : 0\n",
            "텐서의 크기(shape) : ()\n"
          ]
        }
      ]
    },
    {
      "cell_type": "markdown",
      "source": [
        "array안에 들어 있는 5 는 단순 스칼라 이므로 차원이 0이다."
      ],
      "metadata": {
        "id": "Ii8pbp_HmBXW"
      }
    },
    {
      "cell_type": "code",
      "source": [
        "d=np.array([1,2,3,4])\n",
        "print('텐서의 차원:',d.ndim)\n",
        "print('텐서의 크기(shape) :',d.shape)"
      ],
      "metadata": {
        "colab": {
          "base_uri": "https://localhost:8080/"
        },
        "id": "KX71esmXl850",
        "outputId": "641db432-4399-4e95-aab7-847bf595b036"
      },
      "execution_count": null,
      "outputs": [
        {
          "output_type": "stream",
          "name": "stdout",
          "text": [
            "텐서의 차원: 1\n",
            "텐서의 크기(shape) : (4,)\n"
          ]
        }
      ]
    },
    {
      "cell_type": "markdown",
      "source": [
        "1차원 텐서(벡터), 벡터에서는 4차원이지만 텐서에서는 1차원, 1D 텐서이다.\n",
        "벡텅에서의 차원은 하나의 축에 놓인 원소의 개수, 텐서에서는 차원의 축의 개수"
      ],
      "metadata": {
        "id": "yIcYO0GamVBM"
      }
    },
    {
      "cell_type": "code",
      "source": [
        "d=np.array([[1,2,3,4],[5,6,7,8],[9,10,11,12]])\n",
        "print('텐서의 차원:',d.ndim)\n",
        "print('텐서의 크기(shape) :',d.shape)"
      ],
      "metadata": {
        "colab": {
          "base_uri": "https://localhost:8080/"
        },
        "id": "eriSMfW6mTPD",
        "outputId": "6017ff25-02be-44f4-a6cd-1b540e5b187a"
      },
      "execution_count": null,
      "outputs": [
        {
          "output_type": "stream",
          "name": "stdout",
          "text": [
            "텐서의 차원: 2\n",
            "텐서의 크기(shape) : (3, 4)\n"
          ]
        }
      ]
    },
    {
      "cell_type": "markdown",
      "source": [
        "2차원 텐서(행렬)  \n",
        "3개의 커다란 데이터,-> 커다란 데이터에는 4개의 작은 데이터"
      ],
      "metadata": {
        "id": "ucKNxzWJnObi"
      }
    },
    {
      "cell_type": "code",
      "source": [
        "d = np.array([\n",
        "            [[1, 2, 3, 4, 5], [6, 7, 8, 9, 10], [10, 11, 12, 13, 14]],\n",
        "            [[15, 16, 17, 18, 19], [19, 20, 21, 22, 23], [23, 24, 25, 26, 27]]\n",
        "            ])\n",
        "print('텐서의 차원 :',d.ndim)\n",
        "print('텐서의 크기(shape) :',d.shape)\n"
      ],
      "metadata": {
        "colab": {
          "base_uri": "https://localhost:8080/"
        },
        "id": "dxZGNmOenGxF",
        "outputId": "4773a7cd-c5ba-48df-ff16-2f98e19fe651"
      },
      "execution_count": null,
      "outputs": [
        {
          "output_type": "stream",
          "name": "stdout",
          "text": [
            "텐서의 차원 : 3\n",
            "텐서의 크기(shape) : (2, 3, 5)\n"
          ]
        }
      ]
    },
    {
      "cell_type": "markdown",
      "source": [],
      "metadata": {
        "id": "EhhPzes3ntDZ"
      }
    },
    {
      "cell_type": "code",
      "source": [],
      "metadata": {
        "id": "iZkY4I88nrTU"
      },
      "execution_count": null,
      "outputs": []
    },
    {
      "cell_type": "markdown",
      "source": [
        "##7. Deep Learning의 개요"
      ],
      "metadata": {
        "id": "agDFw-kqZvbl"
      }
    },
    {
      "cell_type": "markdown",
      "source": [
        "Perceptron은 초기 형태의 인공 신경망으로 다수의 입력으로부터 하나의 결과를 내보내는 알고리즘."
      ],
      "metadata": {
        "id": "s26nm3SqZ600"
      }
    },
    {
      "cell_type": "markdown",
      "source": [
        "![image.png](data:image/png;base64,iVBORw0KGgoAAAANSUhEUgAAATkAAAEOCAYAAADynmDkAAAAAXNSR0IArs4c6QAAAARnQU1BAACxjwv8YQUAAAAJcEhZcwAADsMAAA7DAcdvqGQAAEdvSURBVHhe7d0H1F1llT7wl/ReCaGFUEINLZRIEZCOCCKjgiBYQFHHUcc147jGpTN/p+DYu4IuG6KogPRepQrSJbTQQgsJIb03/uf3khdvYiCFfLd9+1kc7v1uy7333POcZ+9n7/2u90qFFAgEAm2KLssuA4FAoC0RJBcIBNoaQXKBQKCtESQXCATaGkFygUCgrREkFwgE2hpBcoFAoK0RJBcIBNoaQXKBQKCtESQXCATaGkFygUCgrREkFwgE2hpBcoFAoK0RJBcIBNoaQXKBQKCtESQXCATaGkFygUCgrREkFwgE2hpBcoFAoK0RJBcIBNoaQXKBQKCtESQXCATaGkFygUCgrREkFwgE2hpBcoFAoK1R9xX058+fn5555pn0wAMPpEcffTTfNnr06LTrrrumjTfeOPXo0SPNnj07/fWvf03jxo1LU6dOTXvssUfadttt0yabbJIfHwgEAquLuiq5JUuWpJkzZ2aCu+GGG9IFF1yQfvzjH6fzzz8/Pfjgg2nevHmZ4J599tl09913p+uvvz5dc801mQxnzJix7FUCgUBg9VFXJYfgnnzyyXT55Zdn1TZo0KD0rW99K6u3t771rem0005LEyZMSH/5y19Sv3790uabb563gQMHpr59+6ZevXote6VAIBBYPdRVySGzDTbYIO27777pLW95S9phhx3Sdtttl+bOnZtuv/32dN9996Xx48dn1SY83WmnndKWW26Zhg4dGgQXCATWCnUlOURFwR1wwAFp++23zwoNma233no5hL3lllvS5MmT04YbbphvHzZs2LJnBgKBwNqhoe5qz549s1JDZnJxN954Yw5T3/3ud+dQNhAIBN4sGkpy3bt3z8qOohPKbrbZZmnEiBFpyJAhqVu3bsse9fdgUDz33HPp2muvTRdddFE2MWbNmrXs3kAgEPgbGkpyPA+OKwhlkdzgwYPz3yti6dKlacGCBenll1/O5gVz4rzzzksXX3xxuuOOO9KcOXOWPTIQCAT+hoaSHPVFjT3xxBOpS5cu+fKll15adu/yWLhwYXrxxRfz488555z0q1/9Kl122WX5Nsqva9euyx4ZCAQCf0PDSO7555/PtXHU3EYbbZQ35SOTJk1a9ojlsWjRoqzkhLFMi4MPPjiNHDky9e/fP9/GvAgEAoEVUXeSKwXBjz32WHrkkUdyDm7nnXfO9XAIbuLEiVnhTZ8+PYem06ZNy89BhnJ4Hr/ffvuld77znblT4vXC20AgEIC6k5yauHvvvTe3bSEzRcBIi8sq74bktHP9+c9/Tn/6059y/RznleuqrUvtHNUXCAQCq4O6kJxQU3jKKDj99NNzXo0qUxCsJm6rrbZKY8aMycYDgvvZz36WiVCeDvkpNXGdA9u7d+/83EAgEFgd1IXkhJtU20MPPZSVmY4GhDZ27NjcrqVObpdddsmKjmJ76qmnsqqj3HRERLdDIBBYW9Sld9U/wR2Vi1PqgbSQWZ8+fbJCK/fLwzEX/I38bJTbysCkoAo9f88998w5uvXXX3/ZvYFAIPAq6j5qaV1hTUjOaCe1dUyM4cOHpy222CI/NsLeQKD90bASkjcD4S/FZ2NkMCbk/YS4KwNyM65Jb+zNN9+cTQ3Gx9NPP50dXCry9Z4bCARaG13/X4Vl11sG8nuU2RVXXJEb+tXJ7bjjjrk9bGXtYMJj9XRlGKfn6ZOl8JCbMhSPeaNWskAg0JpoqXBVHd1vfvOb14qGKTJqzvim3XbbLY0aNSobFQcddNBy9XNUXhnGidhc6qygAqlCIa8eWi6v11CigjADgUDro6VIjnr7whe+kC9Xhk033TTn5z70oQ+9YS2dBn8O7j333JMnECtKZnIoSNZNIWeH9AYMGJAVYDFIoqsiEGg9tBTJUWTCU5crAyNB2Pl6YWuBjywPRwVye60j8fDDD2fSU5/ndmUthnvutddeebhnIbpAINBaaFl3dV1BTg7hCX+FsjZEqpavGBJl7t3WW28dzmwg0GLo9CS3MiC5xx9/PN15553p/vvvTy+88ELumd1mm20y0ZWZdyWcRXih8gKB5kSQ3ErAjKDiLJ+ogNk4J2Qnf2ewgFBYh8Y+++yTdt9992x8vF7RciAQaCyC5FaBxYsXZxfWJOLizE6ZMiXfVsJZBcbCWUqPYUHlNSvUDF533XVZqSrF8X733nvv7E4XqB1UZoPMfS7TXhgzq/PcQKDZ0JJ1cvWEMFROjhGhvEQ9Xlnk2sQU/bgutaQxMTi3jAsE6PyBKLiyzeLMep/WsjVRGZEppTGXz7grQNoI/dvf/nYuoPb+LSqE5MpzL7zwwnTllVdmA0iOkiMdCDQrguTWECYQy8UpN7Gy/9ve9rZMeghAgbEFscsQAlNT1Os1U84OYSMmRgtHmYki5C4kh6B1gpx99tmZADnVpsW4LM+laE1xPuaYY/KQhRh9FWhmRLZ8DUGRIS2Gg1wcskMSRxxxRPrABz6Qjj322EwYCILi+frXv55+8YtfZAIU6lJ4jYT3jpSoN+S8okvsfatDVDxdq0jBZ5d7pOqE5D63aTKBQDMjSO5NwEFPrSlCVk93/PHHpxNOOCETHgKRw7rrrrtyz6yNwlOHJ6fFwWVsCA/rCe+ZIkNSQnAhZy3xcpJLcbRJMbWQn0SCQljdIXKQMfkl0OyIcHUdQzEyhSd3JymvA4Na4srKZxkYSikhjNIzu6KaqgcQmQW9vRfvlVMMt956a7rpppsySZduD3P+rIPLbHC/vKM8HSWHDAOBZkYouXUMOTvEhRS4j3ppkcQ//MM/pJNOOikdfvjhmdyUpPzwhz/M2/nnn58HB+i8qBfk2JAxNWmj5hgOFCYC5hhTedrfhK2uc10pUeoVgQfBBVoBQXIdCGEdk4L7eOihh+ZQ9r3vfW9WQEJGyXvrx5Zw1nUrmEnsMzKQTUdV+CAoZKsm0EadIVq5OHk2IbhQWviK4ITecorU3NChQzN5l9pA79F79RimBVdWmU0g0AyIcLWOoPKEgJL+asuKM8uJRXJq0FwqQBbCUltUU0c4swiLu4rYhNT6c014oUAPOeSQrPKE2MpjELM1OuQXkZv37n2X94UM1Q26/9JLL82lKd53lJYEmgFBcnWEpD+iQwBUEMKrdWm1iyEZaqqshyFnRtV5rvwYdbguQHUhLl0clBvS8m9qW6M0ha/uE65aUY1Cc/2AAw7IBcJFxSFLobftjjvuyKTptZFhKUsJBBqJILkGAWlRQkgOwVA9yINbSRUJWSkpeTrKDvEJKW1CQ2Tp+Wur8hQua1djJHgtBGpDTJxT/6bwGfFZUU2YKtd44IEHZle2AMl5n3J5JacnfPU6QXKBZkCQXBOhdFYIHSX2FeG6TckJZ1YYWJxZoSw1RRWuDZAWJWdtW7lBf5944omZmPyb8nBIzrj48ePHZ2Ump6jGrlZNImvErChY/hEJey2kHSQXaAaE8dBEoKgQDLLgbgodzbR797vfnQeBWqwHCSr9+MEPfpC+973vpd///vd5Dt6aJvrl/PxbSEqYLC8nbFUb530wF5gT1J1hBDaPW7HcxXtFfEwMz6X2vGYg0CwIJdekEIZSaVSSMJYyYlggGaUcHEytWfJfQtnSN6scpPTMeo3XIxxKTVhMzcnBKW1BqtRh+beFzF6vtG8piVkxPPbveKzbha5UoZA1lFygWRBTSFoEdlMZAVVCQkSnbk1YSclRUfvvv38u7KW8qKzXMyo4ol5L7s1jkBtlV0ti/g1ESM2tTtGy/N7VV1+dy2C0t6kLDAQajSC5FkQhPMRGiUn4K/XwNwJEXkJOys/kFEYCcwOJdSSC5ALNiAhXWxDFmZUDK10ViIwLiuSQnrBRKFucWeEsVSZM9dzizq5L+DfHjRuXw1XmCTUZCDQaoeTaBMJPrqsWLERH1QlljXCnrBCcPJlQVt0bZad8ZV3ij3/8Y/rd736XVaWJLB/96EeX3RMINA5Bcm0IhMcwQDZUnU1NnM6Koua4tAqQNdpzVf29NspOSQu3V7cDl1fNXCFUZTBm7jEgmCeBQCMQ4WobQjjLJDBOCZEJZw275IIKYRETZ5ZLK5Qt4ezqOrO1QKCUou4MoTF16N9FtP7WzSGkVhITCDQCoeQ6Aezi4qYKZxGaUUvatrRiUXkIUBhr05uq7u31nNlalNcUIvs3aoEoi2vr9QOBRiBIrpOhEB4VZ8KI2jaXzALkh7CQm8JfdXPcWRNJosg30KqoO8nJBzmgJMbVYQmruII2Z3tvhypQGiGHBEItNV+hBjoGQlhkJ69233335SJg37cSFK5tydkJQw0QQHjc2UCgFVB3kkNuF1xwQR7JI1Ht4NEzaXOdQyhn9LOf/Szddttt+Tlf+tKXcsW9+wPrHpSd770UGlN5yA7plWGejATDP4WzlN26dmYDgY5CXUmO26eWigMn8T1hwoR01VVXpYMOOij3Zo4ZMyYfVH/+859fK1x1MCl70B+p8j7QsUB4QlZ5OmraZr9R1QiQOaHVjMrjzLpcW2c2EKgH6kpy5pHZwBQNqu5f//Vfs/t29NFH55IDCkJSXFO6hVKESIHGQXrBfjJyifI2Nw4R2i9CWSSn5o5RYStphcjfBZoFdSU5IZENnPmpus985jO51EDeB9k5YCS7hUYOpFAIjYWfB1JDdhSeGjijnxQaKxuh9MBqZfpm1cWZYLKqPtdAoF6oe06uFhLcX/3qV3ODuVCIkhO6uhSehtHQXCiEx6gQztY6s6WZn4LjzDpRcWcpPWUkoewCjUJDi4Hld8pkWYpA7o0isETeytw7KtABJkdkHLdhjkwKBalyRg7CUuoQB9W6h++UspYbVeSLxISsFLiBAfKs9gujwv6wIT/FxkwNz+2IntlA4I3QUCXnYGA8nH322TkP97//+785TBWyrgzCWr2YwiTmhGZwtV3MCe6rZf/MRSuDHwMdD8rOhsSctDizZb0HIa18HoOCK2vhHmkJ+dhAoF5omJJzUFBkl19+eT4YkNWuu+6ayxNWtio7QkRq55xzTs4PmWSLEDmyckBlOT2uLGVB0QU6HkXdycH57k0TVktnPzKOKD0nISvvOzExlphPQltFxx4fqjvQkWgYycnlIC3L4snNISgKTg7H2X5FCHs8R5+kg+fII4/Mi6qMHj06h0/XX399Do/KuO6o46o/kBWyQ3LycvaTxnxEZv8qGaL0ygiosiE8ahDpUeBBeoF1iYaRnAVUbrjhhhzGCHPk1qgvCWuFpytC8po6YExw8Kg9BxRSoySUN4i8qToLwChlCDQW9guCc/KiuC2wLY8nf0e9S1VceeWVWeUhOCUo0U0RWNeoO8lRW1QXw6Gs8lR7li+1VzfeeGPO53BYhUEOApuDwG0OIGd8rqxk9/nnn59fz7qgBjZG4XDjYf/Y7Df7zIkK6Ske1qpH6VHtVJxR7iYLq8dDem7zWM8NZRd4M6gLycmhcd7UV0lKaxeitEy7cGZXf4XghK4OBApNKIvclJL4sa94dqfaKAK1dl7PQSKnZ/V3Y32iTqv5gKzsXyQnjHVCE9baj4jNia82lLWotjSF34fn+g2EygusKerirjINrBlqcqycmu4Gm5IRZ2rlI/pUv/KVr2Qy9MM//vjjc2i60047vabaauHAoAAZEUIeJgQVh+gir9Ma8NOj2EqhMYKrdWaRHrUnpWH/IkbpiEBgTVAXkpNzE1JSXQhP3k24YvIICDmRm/lmztxCTYMe5eBW1tZVnNmLL744P48qRIgOgmgDe2Mwb37605/m7485I38pX0ZVge8WuZx11ln5NmUfZULMqp77ZuBn6N+m6Pw7Nie/UnPHfZezE97K2drXVH6c0AKrQl3CVWpNvsxZuSxSrJatoDhycmmUGMdUyCm0qYUDgYKTv0OI1J8fOpfVc6P+atVAItZhuPbaa3M5B+KwP4qjLUxUjvO1r30tn3wQmMJfqQOdDb/5zW/yav7SCYhG/rScrN4MEJXfiRNWae2z+Z1wXxV8y9EiPSfCUmzsPr+JEsoG4QVWRMPc1bWB0MYZnYK78MILc60cgkOMDsL4ga8aTigITQ6Uo239BcqokBwFhfwYPxQ1AkR0riMh+TTPtX3wgx/sMJNHioLJpOax5Frlb8H748yqsUTa9ruT5Mpyt4FAS5Gcszhyc3BSegcffPBrB6CQWLHpzTffnJVA7YFH+blP7s4BIhyT1PYccOA7qDoDfE6hptyXBWhWJDnupu9QToyCo6p1LPg+5c2QoBSBv62sj4SQX0cAeSEtoTLC8296T/a592T9Cic+hhZVT4F6b5Sdx9qvceILtAzJMRn0uP7iF7/IOSFnbuEp4pPr467edNNNuT1Mrsj9BX74HiPEcl2C20YFaDQvB67XEq4J0yTDwUHSTgTosyAAyX0hfy1hIAfDEnyPQkMqTm60kJx94DnITk6VcVSvFIH9IH0h7eHf9r69PykM+9I+dCmUtQ9ddynP5zOXcDbQ+dDQ3tU1gfISq7N/97vfzQlp6qH2TO1jMCr23Xff9IUvfCHnigoclPI3FB0VaNNlIc+DMKm6ohAc7GVzMAnP2rF74v/+7//SD3/4w1zGI+ykypAYw4FjTTkJD50w3vnOd2Zy8Z3J1VFvxfkWIjYC9jcVVyYa24dOYhQ7oqbW5fT8HoyACme286JlSM6Z2Q9XCYq83MpQktZyOLXGRjkYHMS19Vdlc5vQ1cFCwVFy/nbp7F8KWB3oLm1I0UFTCpNbDWeeeWb6+c9/nj/DySefnI466qhMDsJUISuTAdFRch//+MezinI740HHCVKkljsqVF0T+Anbb/KETlpOgi4pc/va/vVenQR9HuSHqO3bCGfbHy1Dch0FBIjQSugqbC3lC7YyI01YVjaOpIPGJoyzIQFk6LL87SBqVgI0+cUGJ5xwQs5v/va3v83v1wkC2SE6ZE4ZIwskiDyoI0oOkIvvyPdXwkVhr+8CgTrplO+iXvDvIzapCzlYn8UJy3sqTjLCc9LyHu1HhN7MJ6tFS15J8xctTQsWL83XFy99JS2ptqUuqyM4X/q7ut61y3rVVl3mVMuy69Vlt2rr2a1L6tm92qrL6s9OgU5PcuArsCG8sjlQXDqAHbxldLt6P2Gu0BcJIDRlLMJb4Z2wyHUHkjCX0mtG1JKcUfOcaiGsgaWHHXZY7itmTgCSM95KOx5CNO+PmgXkJ/xX7H3LLbdkpe07Uy6kxu4DH/hA/j4QXT1hf5ZJ1BS6nCzCY6rI33qPZZqxS2TMoW9WTJ2zKE2cvjC9MGNhmjZ3UZo1f0mau3BJmr9waZpXkZ9tzoIlaeGSpalfj66pT7X17tEl9aoIrXd1vW/PLmlAr25p+IAeaaOBr249KqLrDAiSWwUcJCWnRx3YSojrkkIo4a3HOaBcOogc2IqTOcFUg8116kFo3chwyWppOlAoMA6qME46QA4OiSEtjiUSe9/73pdDP+GgThQqqBCCQQs235PPitipYarPa3/kIx/J3QrynY2Cn7j9x0yhzil1qr0YTdSo/eIkxWn2XqnZRig7SmxRRVTT5ixOU2YvTJNnLaouF+W/Z8xbnIltQUVoC5epucXVJQX32vXqs3avpBvVZqPiunVdL9/WvbpEfv16dk2D+nRLQ/t1S8P69UjDBnRPQ/p2T/2r2ym/dhN4LVVC0gj4oVNjDl4k5YxPrTkYkIMDQjFsIS0HO/JzoDuwXJcLpAYd9NSfkM/mQEMcDjSkWBzdepCfA52RQJHKcfo3d99991z3JqyjWIV7VBqSENIhP06r+wvcjxx9D9qv1C3KeVFOJsP4rqhaardR8F0KR5EwVem9ek/2LRK3L8p+sM/c5tKJy3N9N7aOBJKaOW9JmjRrYZrw8vz0xOR56dEX56WHJs5JD70wJz05ZV6aWKm4qRXZzaxUHNU2r1JxwtdCeNV/GUhPSOs+Ie7c6nGUH5JEmC/OWJBemL4gvVxdn17dNnvZ681f5DVeqcLYiiArQmwXsgsl9ybh66sNc2u3ohyEt0ijhLwOKqRGPXBwEYFckUt/1yqljoKJH5Sc7gcELrT8t3/7t0wCiFno+ctf/jLXFiKtT3ziE+nDH/5wNhpqCRgxI3aE4T5k4LP/5Cc/ya/PmfXaCLJZYJ/ZSiiL0NTYCclNnrav7AslMkibwivheUfAETi7IplHKkK799nZmdTmVIqNMkNciMdj1iXsQftRXo56612FtcP6d097jByQRm/SJ40cIkfZHjQXJNeBEMZSScXVLUrB30jO/eVSiFvCXflAyrC4uciwhLwUVa2SWls4mC+66KJcdygfJ3fGTGCqeH/ycWeccUa67rrr0imnnJLJylisVcH7R+LKUNTiffazn82lJl63GeHnX5xZyrqEs05QFB3CdxKg4KlchOcktKLaVrpC+SJFyn51TlLU1kuVcntqSqXcXpqX1dXkmVVoOrc6cVTsVs8jkzEhf4foNhrYM40Y3DNtPbxPzt0JbVsZEa52INTxMSYQE5ISIknIC3OFuw4WB39x9pCcA0tIixCRDVIU6jrokIcD0FbcTI8RVlFPJbSqPfheD8jVv0fNSL5rm/JePN+Bj2gd4Mj2uOOOyzm7VZkHXs/7NPrKZ/CZDcrsSBX0ZlG+M0QmpBbKUq4+N8L2OUo+suwPf7vuuwMnMi1ml1xyST4BeS373GuvuC/wlnBSjm3C1PnpkRfnpvsq9fbX5+ZkU4GiK2FnPYFQke70ua+GtFPmLHrNxRW49ujaJef3Vue31WwIJdcg+NptJbQt1x04lJ2cXsmZlVDXdSQIDsYS3goxXQp55Z1Wp3YNifm3qBiPr633K+/FfR5HlawOeSIEYZ8QuNTSMVmQfSvB5/e5y3ck78iZFeIrOHYCYtAY7UWlIj6K2OBWJ69TTz01nXTSSfl7K99pgdBTjuzOp2am256YmZ6fNj//3REh6drCXrarqbth/XukbSpFd+gOg9OGlapTetJqCJJrMpQDjNKiFhxQFFW5tFEOpVjZZdkckAgFsahvo6BKyEulUBkdQTgl3BOyIQGE6+BnUtR2pbQqfPe1SlpYS0U74djsJ6UzlsikALnJwnsF1r778vk5o5NmLkx3PT0rPTZpXnpu2oJ8G2XXrBDCCle3XL932nnTfmmHjfukAb27Zee2VRAk12IQQjmo5I4cdDYHnUsHopBRiCz0dMCVrZR3IDphp8e47tJWVMeaEpJ/D8FROnqLEa2lIR3crpecVrPm5NYUTiy+Z4pVH69SGZdus29ANwWn+mMf+1hum9tg+IZpTqXWnlsWnt7+xIwcEgoHWwH4jIIbvUnftNtm/dNWG/TOJSfMilZAkFwLwi5bMcx16SCTLyrFymUT7gq5EBiykxsU6pb8k3BXsnxtqv5rQ1QGxrve9a5MaN6HENt9VJ2C23aA79lGbSNw3RSf/vSns+lgP4Dv0PcsnGXoHHrEUenxyfPS7U/OSPdMmJULd5tZva0MTn3q7ISv+28zKO20ad+02ZDWWPYzSK6N4CCjrISzxbgooa7N7cXNLZvHC3X9DCTLhbcl1HVpc8C+HgHqglAqYv6cljehqhyf10WqjBbmg1awdgNiM0D0m9/8Zs6f1h5KcpyMl0OOODrtfegxaWqvkWnS3K7p5TmLqv1UEeWyx7USiHyKTm5u9MZ9c/i65bDeTa/oguQ6ERBeKZUoLq3rNslzB6ZK/9o+XZtw0+222nDXJg+nzIRSRJa1QJpKKtSbKb9oNwhTkZwpy74/+UdbNn7W65IWLKmU88gd0tBRe6TFQ7dLr3RvnxXkNh3cM+1Yha/7jhpYkV7Ppia6ILlOBLu6bLXhro2qK26uTcira6EULyM746uEuMJb16k29WOMjvJataDkSoGwrd1Q5hhSyU4QJfeZW8K6904vzuuW7pgwN9373NxMetX/Xn1iG0CeTl7ukO0Hp51H9Gvq0DVILpAhx1TCW5c2By+F4jYkSKm5LGGvkNTzEFlxcYW3wjSXbkOOWdm0IUoqwHcglEd0DJyFS7ukybOXpJufmJPGT56XHdV2hNB140E90z5bDUhjtxyQBjap6xokF3hD+HlwSUuRcukIoO78LfxFeMLY2hCXqnFZQt0V3VwbQmgnAnQgMRSenjI/PfDc7HTz+Om517TVTIY1gT7XXSolt3dFcjts3Df171Wp9iYjuiC5wGrBz8RWwtJySc1Re3JyJdQtPbrIkPKj6ri5nNxSwGxzOxJsF5RC3+senpaueWhqbnzXMdDuMNlk5NBe6T27D0ubVZfNlp8Lkgu8KSA7pSvCttowVyhXQt8S3npcCXdtVBySK+GtcFeIq5zF9doujFbAzPmL0x1Pzkp3PT0zPTZpbt37TxsFyk2oOmazfuktW7yq6JoJQXKBDgMCRG7CWuGtVjWXNmEvwmNOlPAW4dm4smrtasPbcr1cIshmIkAjjZ6ftiBdeN+U3Gw/c96rfa2dBWrohvbrng7cdnCuo+vTQ69rc4StQXKBDoWf14pbCXUpPgQo1C1ObnF4DSBAeNzbMgNOqFvCXaRI6TULzHob9/ycdOkDU/Kcts54UKmj23vLgenA7QanLdbvlVvCmgFBcoGGQc8rNVdcyhLe2sptlGDpzXV7CXuZGUpXSvGyEFfYWxzd1Rko8EYohLw6alEu7i9PzUo3PTY9PTZ5bh5m2Vmhfk6R8GGjh6ShffUtL7ujgQiSCzQlEGCZpGxTsFycXX8jMEXJwleqTohbwt5SuGxb0dH1HMS1KgKkJv07lKPXfL3BBvJuJu5e//C0dP0j07Lx0M5u6qpAvY0Y0iu9Z7dhafNKzfXt2fj6yCC5QNPCT3PFTairpAUBCm1LmKs/14YIKT5N8txcm17d4uia4VeI7o3wq1/9KncynHbaaXmq8esNGDA2fNwLc9It42eke5+Z1SnD1BUxuE+3HLKO2ax/DlsbjSC5QMvBT7aEr7UubglxbdzbEuYWd7cYHVRfbW9uCXd1K8jzGS7wgx/8IK8xa8Dp4YcfnoeKyg3q4S0g2Ez2veT+l/NaDJPbtOh3TVHU3EHbDUr7bDWwOqE0dr2IILlOBkRgcq9LxbiUjVlzDnBQva/uzegkt1E/wj45rlU9txlA5RVHt/TllrV0XSJAoafPVEJblyXU9bk85rzzzsvj4ZGe4QJHHnlkXqhH+CrvhyxNE5kwZX76zR2T0nPT5rfM6KSOBlNVN8Sho4ekw6vN6mCNdFqD5DoZrIJvaq1LCsY6qsYjWW8VqB0EZ9V845FcGn4pn7Wq5zYLyk/aZe1WCFBfbglxhbvcXX8jb48TmpoPhyABwTM1jj322Dwrzwgl4e5LsxalcZWCu+jeKXk+XGB5vHXUwHTw9oOzqmuk0xprPHQyOIipE2qN2pFvsn6DvBW47YEHHsirdEnaC9HcJ0wrpR+eKwR8z3vek2fFCf+aCVRW2ZCRDVGpraPifC5qzOcyrtyAS+tc2HwfQl/tamXUvM/M0UV81KCpwJ4/ZX6X9Oik+emZqQvy8n+B5dGvZ7fUv1e3ho9Nb45ClkDdICx7+9vfnslpZUByjz/++Gu5LAc0BQTUHEJABNaTMCvOwd4qQHpIzncg1EbuBn1apcy48ne/+905/yb8rjUmGBVCWSTv+0B02tlenr0wjzBfGAS3Ukyduyg9K4xf3NhgMUiuk0HOqeSVVgbdCMJRJLciHORul6S3UA2ik9NqF1CrVF4xLQqQnpPCO97xjhyuHnzwwfn7qziuIrmFkYt7HVj56/nq+7H4dSMRJNcJQdEIWYVvSE1YhsDkq+ShqDlhqjxULdzPeKCGJOHbieAKfC/CWGrXYtvf//7307e+9a30hS98IY8yNwR0i622TvNeqUL+eUvTvEWWEAySWxmQ/6z5i/OoKSv4NwpBcp0UFIuwTX5NDkrOSSLe38JSxoI8lvCM48qQUJumDk3otuuuu+bHtRt8L5YbPProo9Pxxx//mrlCvQnVtZcNHDwkTV+wXpphykh1IAfHrRyKonV/vEpyjevlDZLrpBCCyUshMN0FiM6K964XAqPoLLMndJN01wUgV6VsRGmJ0LfdwFkVkiK5MWPG5O+JuqsFYps0c1Ga2UB10ipYVBGd+sFGflfhrnZSWEXLBhLwckwXX3xx7gcdO3ZsVnbITWhqHVGLtljPwYG/yy675GJaEN4qObF6vBW7zjrrrLywjduoQGpRrosqbBXUurO2FUGdjJ80Nz07dUGaNrf+CmXhvFlp1qQJ6dl7rk1P33FZdXlNmvPyC6lL1+6p98BX9wssmD0tPX3n5emp2y+ptovz41TlDtxoq2WP6HiYTjK4T/c8QZjL2gjUXclxpdQm3XzzzbnY8qqrrsoHkHBIXqgUo1rqzSIhV199dS7k9LzAugPiMeUD+VBs9onvXx5u6623ztM/uIqS8OrKbHJyxVkt0Fp12223pfvvv/+1liqvRxVeeumleS1WxbXtBDm4OQuXNKxsZO7LE9PLE8al+RWJzX7p2TR5/N3p2XuvS9OefSQtWbggl7zAK46nBfPS1OqxE+66Mk0cd2v1+OfyffVCo78rqDvJIbDLL788/cd//Ec68cQT0yc+8Yl07rnn5rokpQoUhLDoxz/+cfrUpz6VNwdMqVkKrBsIy5AVpYaI7rnnnpxz4iLKSwlL7QuEdeut1cFRkZeaMuRXazgIZ++8887suH7yk5/MrVDf/e53s4NruUKvq+SinaCdi5prlKs67fnH0ktP3Js22fmAtPlbjkqDRmybpj/7aJr+3KNpwZzpFbm9qi579huUNt/r6LT+ljunrt17pv4bbl4pvfqW/DT6u4K6ktyzzz6bxo0blxWEZC6CA3VZDjRqzQFz2WWX5ZDpi1/8YvrGN76Ra5mEPYF1B+QmFPPdU9JOMlQaZ5G6U+ArXLUa1U033ZQfz1m072qh5emf//mf03vf+95MgtSfXF8pEJa3a6d1HIBQokzk5hqBDUaNSaP2e2/qt351wqm2QVX42aV7j0xwc6dOTEsXv9p9sd56XVL3Xn1Sl249U/fefdNGO+xThapb5vvqBSTXyO8K6kpyZLSDxWQIB8wRRxyRnTplDMJTG7KjGiS/jzrqqJwAdtDUNkYH3jzsB+SD3MDUDsrOycTtSAoJanViQtgH1NmKZoNSE+UkpfNBaCq09RrCXqRpH7cThGAmAUuqNwJ9h26S1t9ip9Sjz4DUa8DQiug2TV27dU8L585Kc6dNSkuXvKrkXnmleo/zZqf1KlXed/BGWdH1Hbpxvq9ecMw38ruCupKcg8iZ3+agsHYnp04oSi2cffbZeQKE+x0gzdYu1E5Ack4cwtKdd945n0zK912UHFXGXVRKQU2vCk5OlOHvf//7nGN1klKOYR+3Eyi5fOA2UJ0UdO/VL/XqP7Qism5pUUVy82a89JqSW7JoQZo58cnq2itp0KbbZMOhZ7+Vj4zqKOC2Rn9XdSW5WsfK5iDTGgQUHFALHLx2rMFqJviehZg/+tGP0kc+8pGca0N8QK0pEdGc/53vfCcT1RudcKi9G2+8Mefi/vM//zNfpxC9jpBXbq+dsKRiubkLlzRFO1e3nr0rNTckK7qlSxZVSu7F15TcovlzsinRpSJAoWr33vUv3qZ6G/1d1d14qIX6o1JvxZCQvBb+OPOXA66A60oplEQ35/XCCy9M559/fi59kBzn9KnzKu5S4PVBocnBHXPMMblFqzit4JIxIS9Kjb1RugCJITnfO1XItPB4r1GmfSglaTc0yy+sSxWmIq/egzbI7vicqRXJVUpuycL5uYRkbqXsevQdmIZsPjp169E5Uz4NJzm5ICqBcpOHqy1PqAU1oJREWcK3v/3t9C//8i957M9xxx2XPvjBD6bTTz89/elPf8olD3Z2oD5wckJy8nJf+tKX8kRdhpFSlOuuuy6XlyC7doIFla012qNrI0dB/g2Iru+QDfP1OYyHStFlgqsIr1vPPjkPJ2/XpVv969Sa4btqGMmV8oTbb789n+1L6Yic3MogoW3uFyJTwsCZ/clPfpJ7Cz/0oQ/lA0lej8pDdIH6wFgmRcBqHqUcGA5yeUWJU9WtpKwpUgXOpZ93ZTD/0QLK3bs2VCO8BkXAfQYPz0qNgmM4zJj4ZJry1ANp2FZj0qBNRi17ZP3huzJLrpHfVcP+ZaT04IMP5hDHQeEHpXdS+9DKIPxBbpxZOSIjcYzGoeT0FSpUVaLiB+qHGqgPfNd6Wik2KvuCCy7I9XH2IzUn19dK7irDxO/SCfOGG27IJTQIr5aoqZNXD9xmUnIbpR69+6eFc2emKU/cn2ZNnpDW69I1l4z0HrjBskfWHzn33uDvqmFtXUIZPyKzvOR15NqEr1zVHXbYYdmj/gbhrHKEQw89NO222245p0Q1uN2B5uDSkqSgFREizkB9IF96yy235Bzpr3/967xf/bj32WeffDKy31bMsTYrkLPR53K9um2K04ywi2Fm7PkTk+ell+csygvZNBpZLS9dkmY8Pz5NefKBNGvSU6lX/yFpox32TQM22Cx1bWAuLi863bd7GrVB77TZkMa8j7qTnCS0jgdV8PJvShPkdKgwt3H9HBTavYSzTAlJ75IULz80xObxFATC9Le8kOmu+jARYKDjYf+YWKIMxWIvjAwN7kYVMS6YEE44FHsrwG/ROKmHH344l8NIpVB2NmkQJ+KeffqlCVMX5JHnzdCkLzxdWv3+pz49rgpTH0+DNt46Dd9ubA5VFQOrk2sUenRbLw0f2CNtOax32mRwYwY61GWNB50MTANEJiT141EjR5FZP0AeTVP3FVdckQ8M4acCYSsl+VszeK0SMNRRA7gwSbW+nkmvRzUoMl7xoPI4/7YQOXpgG49mztE5CTvBKkz3WwVpEgaZ36KT8pbb7Zym9tgkjZ+6XnpqauPLY7ip86a/lB678Zz03P03pJF7vj23fA3dfMdlj2gcLGJjsel9Rw1Mu4xozPzBupCcEECZhwS1yRfvf//786Igin6BIjPh4r/+67/yD0sJyamnnppDU2UOK+LLX/5y3kCpgxlfiNHkVmpuRajb0h8rDEF4gcAb4Y0OCTnGHcfsmd7+/k+laT02To9PbbyTr+jXFJJn7roqTXvukTT67aflXFwjw9SCAb27pb22HJDGbjEgbbdhY2pf66bkKDNqSsmBcNSPRQ4N5OS4qhQaA0F4qn5OHmRlSWuPs4GiU8R4991351zeYYcdlsmzttcVsVFxoeQCq4LfISVnsEBRcqIIOWCRhzzjbnvulQZssm26Z+LSdOeExjr5VJxWrmfuvip3PQzYcPPcvqXli/HQaMjHHbnT0LTTpn3zuKVGoGWWJCzDHZWayIuU4lRuqnBX7ZzbKTkV/O3WShSoD6Q+TMCxWhln1e/ISVlnjqJpRLfV1tukuYu7pmsenpaurTYTcOtxFOlkUP+2eP7cnIfTzjV3+uSch1MyMnjTbdMGW+9REVy/piA4a62aIXfC2OFpq2G9U/9ejXlPrZENrkCBsfJ1NdSOXdIlYYgjV5YhQa0hwkDgzcAJ02/LEInPfe5z6atf/WouOlew3r9vnzR8YM80pFIp6uWUlNQDauCmPftweuHBm9Lz992QZ8lNevSO9MJfb0rDttw1Ddtq19Sz38CmIDjgrPbv2TUNH9CjYQQHLUNyXC8O1/e+971cqsDIoOzk+5gPzAyilGPrBxoIrA20pTEX/vEf/zF9/etfTx/+8Iczsa3MIR7Up1vapArB6lUDtmTxwjTrpefSpMfuTs/cc016+i9X5ELgzfd8Rxq4yajUvXf/ZY9sDvh+Nh3cs+GdIS0z/px9L5RQLsIBk9szzZaRYUYd80JOTriqDOX1ei0DgTeCaMBvR3jK9JI71teL4NxXi9kLluTtxRkL04I6rC2qXWvh7On5sluPnqnPkA3zdJEhI3dIvfoNykXBzYQRQ3qmHTbumzYb2quhi0u3TE5OJbpE8B/+8IdcbKqdCPExJririoo1k0sMBwL1gFWoHnphTrrovim5Zi6wPJSNHLz94FwErOuhUWgp44HzKufGLaXkjEvnfAkxFKTKoRTHNhDoaBjr/fTL89Nv75iUnrNSfBPMl2sG6FftUSm3w0YPSYdXm1o5JkSj0DIkFwg0GwyEfGnWwnRxpeQenjg3Ta6uB1IOTYWqB203OKu5LhXBNTIr1zLGQ6A+cM4zLMEW5783BnFSKvob1bLUjOjTo0v+TkZUYSoF10iCgyC5wHJQsM3cOeOMM2I+32qgZ/cuufmcclEm0ciwrBkg97Z+v+5pm+F90rD+zWGEBMkFloOcZ1kTV9W/0h350MDK0a0itcF9u+Xk+ubr984N6Z0ZQyuCG7VBn1wE3LdHc9TrBckFloMOEs3p2uQMKTWsNEjujaEYeOTQXmm3zfo1zYHdCKB3ZD9mZL8cxtepRnqVCOMhsBwUWZcJzcYkKc8xs69VRiU1Clakem7agnThvVPSk1PmpZnzXl1MprNAQbQOkAO3G5wO2GZQzss1S+geJBcIrCMgtj8/OTPdNWFWemzS3Lr1tDYayGxg725p1xH90lu2HJBGb9x32T3NgTg9B/4OzntlC6w++vXqmvYZNTBtv1GfHLbWq6e10dC2xWRQLmI4ZrMhSC6wHAxCUGjNgHAZWH3klrDuXbKSOWDbQWlQpW7a3WxF5FsP75P2r0LUDQZ0b5oVzGoRJBdYDkpItM0ZMPqXv/wljIc1gMOb22pumjqxbTbsnfNU7QpdDRrwKVdb/57dmrKEJkgusBzuv//+9LOf/Sz9z//8T572EqufvT5KSF+Kp50MbJWAS5sM7J7GjuyXNhvSwwOXPaN9IBLnoO5efcbRm/RNG/Tvkbo1oYqDMB4Cy0HpiDo5a6jutddeed0MU3FbZbWtesI0HJOpDY+YPXt27q0uWLhoSZo0dUaaMH1pen5+rzS/72Zpadf26YrYaGCPSr31TfttMzAr12YunQmSCywHyk0+TgmJxVvK2KooIfl7qCM0Dce4L3MNkV0BZefvjbfYNm28zW5pTv+t0ksLuqWpcxa1rLCj04Socm8IbqdKwW27YZ+8Qn4zI0guEFhL6Ai55JJL0k9/+tNcX1h7KDEhDG/96Ec/mk457R/TvJ7rp7ufW5DufWZ2WrykCm9b8KiTbxzSr3t666iBacxm/dIW67fG2sZxeg4E1hIWWzKk1XKYli2shQWprR633377pS1Hbpq223hgLpI1ekj+qpEryq8peAnGvFuM5sidhqQ9Nu+fR5q3CoLkAsvB+hnjx49Pt99+ew7HrJcRYn95+D6YMfp65eX8XTs1GOEhQOtDjBkzJg0c0L9SQD3yYi67j+xfkcSAXE/WCg39SmKGVaTMLd5j5IB8ufHAnk0fotYiSC6wHMoUEiEYA0IyPaaQ/A2+C8SvhlCJzeWXX57zl4XobJbStKqXtYC1xRX07dm1CvF6ZTW091YD00YVWSARtWbNRnU4GwEP7tM9593esfPQNHbLAU3tor4eWmaNh0B9oDnfuqMW+2Y8lEVcunbtvI3ngMRMon744YfzcoVnnXVWVrymUb/rXe/K4WlZuNyi6CeddFIaNWpU6tmz53IqD53JbWmDMm9teP/umUzmLFzaNG1giHd4RWYWhN6rImPqc4MqPDUMsxW7OILkAstB+MUVtHaGUGu77bbr1O4qcqPULJp0xx13ZLNBGG9BdLk4a7HKyyEzIawx/IccckhWcWUBnFrgCJNyqTqFwlaYd11Du9l0YIx6vbkO0fbp3jWXg5iPp2tj5xH90qgqrDY2qUfX1iQ4CHc1EFgJinITmioRufHGG3NxtHwbYjv22GPzil6DBw/Ojze5BfnJaW677bZ55bjVhSNw9oJKJU6cm+55ZnZeHGfOgiVZ2XFhUV5HHKUVr2WVibsYC3JvTIUdK4LbfKgTW2uS2ooIkgsEVgLLX1rqErlZ7rJbt26ZuCxivvnmm+eV9RFeKZKmfk1RpubcTsWtCRZX6s3yhtPmLs4rf02euTBNnLGg2hbmVcGQ3rpaKAd3CT0NuNywCkM3qtQbt1ST/dCsLrum3j26Nl2ecG0RJBcILAOTpYSmtqeeeirn2YTuiqL33XfftNlmm6WBAwcue8a6B+W2aPHSTHYWxrFNmbW4+ntRmjFvcZq7cGlaUN2P8BAjtbe42ly6bWl1OHevQmTmgBC0ijJzDlDJSvfqj95VWKwdy8LPCA2xITihM7e30YvOdASC5AKdGn7+pe+UervvvvvycAJdH0LRE044IY0dOzaXhDQSL89ZlCZOX5hemL4gE+Cs+a8SnmUR5y1yuSTNqbaFi195LcenzIOJ4LrbBvTqlglt40GVepNnq9RcZ0CQXKBTQ62bshmL9nBOGS/CUXk1mxX0OaemIzcSCyuVtqAiMxOIFy1Zuky9pazgXs3dUXSU4CtZuWUVt956lTJ71VRwm02YiviYHNWfnQJBcoFOB3kzDfXMgscffzwbBnp2KTrDCPbcc880evToHJoGWh9Bcp0IdrWwjGPogFbeoL9SDVyp5Sqhm8dIqrsfVue5zQ6fgWOqkFe+7bLLLku33XZbniTyzne+Mx122GFp9913z5+7VT5TYNUIkutEkERXDvHrX/86O4Yq808++eS00047pWHDhuXHaDRXEPyHP/whH/Tvf//78+2r89xmBnJDZmrd7rzzzqze1LQp2OWYqnnzmZgKMXGlvRB7sxPBwUuhqOUyHFMeSrK9dkTQ5MmTc/Jda5dLxIAgyoGP7JRWuE/Y18yE4PytaJdq81mtJYvgTDvWzaHYWQP9AQcc8FrNWxBc+yH2aCfC0KFD084775yOOeaYtOOOOy67dXkgMSrHWg8ITt5KiOq5nqNlSUg3YsSI3Jfp9mZDCUuRN9V56623pl/+8pfpjDPOSM8880wuBfn3f//3rFJ32WWXmJfX5og928kgj8Y9fD1y4jQKV2un3BbIxbldOcWBBx64xgWv9QJyM8zSGPcvf/nL6frrr89h6ec///n0qU99Kqs3772z9+N2FjQdyckJGcFtcz2wbqFyn4PYt2/fbCQI3YR0JWeFxFZ28LufI1nqx9SOeY1mgfdHhfrdXHrppenqq6/OBb16SvXfUm+I2cABoSqyD3Ohc6DpSE6+53e/+13eXA+sWwjLTBXhIMqpycEhOuGpqRruVx8mhBP2IcKS2zLiW37LfUJXr9NoUJfCaXlGdW5//OMf049+9KN0zTXXpPXXXz9P5v2nf/qn3DTPaIi1Kjofmo7knH2dhcuZOLBu4SCnZBS4Ii+hHbJDdNdee23uvzQLjUqj7J5++ulMIsjtoYceygpOXs/9jc5jed/q26644or0zW9+M5Ob4t7jjjsuffGLX0zve9/7ct6Qmgt0XjQdybHy3/a2t+XN9cC6BWJCUA78otQQXFnARmW/shDfPUJUU+Z+ZgTCM4GD0hP2NiLco9yoSkW8cm0XXHBBuuuuu3KY7T0r5OWWWmlMHk5JSOTeOjeajuTe/va3p+9+97t5cz3QMUBQ5eAXspb8lTYm5RQmbgjvqDgEyJXU8kTFNeLkUxxTZOb9mFrMMf35z3+eJk6cmIntc5/7XHZMdSs0QygdaA5EMXAnxfe///109tlnp4MOOigTmZzc/vvvn8tDqLTTTz89qzykRz0xK4R+HiPUrSeKepOjNbFYQS9C5hIjNJdC8LI+bBgKgVo0Hck52Bx0wAGLfErHgAI666yzMmEhBmR2yimn5BBPLu7b3/52DlH9PJCH9AF30rhv+0Uur4wj4rqWMelyYo8++mhWXEYUCR8ZAGu6H/27yI1jSkV6TYXLZX1To48U86pzE5Ii5kBgZWi6cJVL5uCyuR7oGCAqSu2GG27IZgMFh+jk5BCGOjphoQ4BQyCpJQ3rnod87BsDJaUVvvSlL2U302Plyb7+9a/nmrT//u//zurL668JvC/Kzb/x4IMP5om83/nOd9Itt9ySQ+hPfvKT6eMf/3hWod5nEFzgjdB0azz4QVMRnD4JcjmgwLrHI488kksukIl8lgZ1PagIw20UmlwXUtOjSjGV4l/qSg0jBcjIQHr+psAR4dFHH52vMwf22WefHEquSeGwfxuBUprq3uQOjzzyyHTUUUe99npUY6Pd3UBroCl/JUKVJoui2w7ya0gDgVFEm266aSY0QCBOLu4//vjjcyha2yGBCIWiDApjwJEdU0DYqPBWiIqIKDJh6uooLQ4uUlQOYkNuXpPJ8Za3vCW/R+UrwlTKMhzTwOqi6XJyGr9t4OCyBZoTfjpnnnlmOuecc3JpCQVn5Sph5te+9rW8Jqn1W0u+bkVQgIiQ6pOesI4pJV/KQd7znvdkBYkwA4G1RdORnDO65DUIcSiGQPMBQSGjb3zjG3lc+Gc/+9lsThhXpG/03HPPTY899li+n+JbmfKyngJyk5pgYgiTla5QgwwQJof9H+ZT4M2g6cJVP2oJcFsQXPOitISpnVOyIYyU0+OOCzudO+XnEFlxRYWf7jcZ5Pbbb889ptSefB6Xl1uqREXercypC4ILvFk0Hck5eJQIlHajQHNCiGkME+dUw76Q0knJ7SaZIDmlJ8wNDqnbqHQEZ/gm9cdYoOKoNrnBz3zmM5ngqMFAYF2h6UjOASHHY3M90JygyLigTIXS0A/+Rm5q2xgIQlZwP9XGOTfXjTNqJayvfOUr2dk1vsltUcgbWNdouhISE1z1I8rVUAdrshJ5oH5gGMjJKfRFcvJozAUKDlFxXP2t7q4sGiPv5nlSEYwKLqywlBIUlgbBBToCTWc8fO9730s/+MEPcpmAgs/TTjtt2T2BVoCfkzQDApRrM0b9pptuyiSnaf6II47IeTfkF3VugXqg6UjOwSDU4cZJXKvfCrQG/JQ449xVxKYUiKFgoZjtt98+l4WoqytrKYRyC9QDTUdygdYDs6GsDSEkdZLS/+qnJd2gTk44GyPHA41AkFxgreBnUwp5lYlYF4JTes8992TjwYI3hx9+eFbjUQYSaCSC5AJrBe6qIZvq3Yw/ouSEo9rBtIwxF5gSsRJWoNEIkgusNig39YsmBFsPQniqIFingt5WLVhCU3m30gcbCDQaQXKBVUILl7BUKQjH1HgmU0KoN03zHFPOaXSoBJoRQXKBNwT1htxMBbFIM+eUY6o2To2bnJsZbzG4MtCsCJIL/B38JMpKWEJSU3nNltOWpexDw32tYxo5t0AzI0gusBxK77DGe6tgqXdjLmjAN9PtsMMOyzm3cEwDrYIguUCGn4HcG9XGLUVupoYgNKPROaba7JSHILhQb4FWQZBcINe5KQcxEl0hb3FMlYHoVEBya7MYTSDQDAiS66RgKJTQFLlRb6aGMA923HHHdOyxx2ZzgXILBFoZQXKdFEwFK2ldffXV2VQwNYRbSrkJTQ2s1ETv9kCglREk14lAtZnQa8abYl6hqYZ6JSGWHNxtt91y10Kot0A7IUiuzWH3MhDk2BTymtQrLNW1oOXKYjF77713ns4bCLQjguTaHMaTW2PBXDejj3QpmAwi76bOzahxSm5lq2kFAu2AILk2BFNBGKqQt/SYClOVfegxtWAMghsxYkSUggTaHkFybQTkZjrIjBkzcr5Nj6m1TKk3q+Qr5LVQMzMhBlYGOguC5NoECE6Xwh133JELeeXe1LmNHj06byYsc0w10Yd6C3QmBMm1OMpcN2Gp9U6VhsjDGXWE3Mx3M35czi3ILdAZESTXgrDLSiGvUFQhr1XOqDeEdsghh+TV7E0HiTq3QGdHkFwLArlRbsLSO++8M896K5NBFPJuuOGG2TGl5iL3FujsCJJrEah1M+rIQjGa6NW5TZ8+Pas6uTdhqbIQ7mmot0DgbwiSa2LYNSaDKOTlmFqxnmNq9BGj4a1vfWteLEbdW9++fZc9KxAI1CJIrokh72ZCiJD0lltuyY30Rh9RbfpMOaamg+gxjaX+AoGVI0iuyUC5Ibdnn30295giNmuYclG1YWmgR3KGWCK3yLkFAm+MILkmgd2AyJR/6E6g3m6++eb017/+NYejCnk5pnJusZZCILD6CJJrAtgFjAW9pYhNzk1dG6fUZBATQjimFouJboVAYM0QJNdACE3VuXFK1bgp6pWDgy222CK7pXJvykFCvQUCa4cguQZAzo1jaqm/Bx98MCs365gOHjw4jxp/xzvekUku1jENBN48guQagAkTJqR77rknXXXVVbk0RBi6xx575Mkg1jGVd2MyhGMaCLx5BMnVCQp5J02alMNSBb0GWOpU0Hol92b8kdWwrGMaCATWHYLkOhClHIRjKu92//33p2uvvTZPCzERxFRe5KbeLRAIdAyC5DoQ1JsuBePGH3rooUx23FJ1bnpNFfL269cvlvoLBDoQQXLrGJSbnlJFvEYfGV4p76YkRLeCJnrrKSgJCQQCHY8guXUAX6Fe0rlz5+buBDk3ayrIvynwLaOPEJyZblHnFgjUD0Fy6wAMBKvO33rrrbmYl4LjlO6yyy55cCUFpzxEE30QXCBQXwTJrSV8bea6ybkZfYTYFPLqXJBnQ3DasXQrxFy3QKBxCJJbQ3BMhaBWw7Ly/G233ZYn88q96U4Qmu633365FCS6FAKBxiNIbg2hS+GBBx7Ic90U9DIUkJtOBUv8lcViFPKGegsEGo+6kpzpGsI7JIEsqB3koMpfzgp0A3AmjRlSHCunJeTTAdAocEy99zL6SI8pk0GzvJFHSkLk4Hye6FIIBJoLdSE5/wT3sSigyy67LBfHSsSfeuqp6dBDD80kgfj0cWp3sn6BmrJjjz027bvvvrn1qZ7wnuXXimOK3CwWQ71Ravvvv38OTZFcrD4fCDQv6kJylJCkPPdx3LhxmbxU/ttU/B9//PFp7733zuQm10URUXfDhw/PfZwl/KsnOKZar0zk5ZjKv2mapzxNB+GYIl4KM5b6CwSaF3UhOSqOSnvyySezKhLeXXLJJenss8/OXQHvete70sEHH5yuv/76TG5WeR85cmTdQ1Tvs9YxFZ6WxWKGDBmS3VIEpw0ruhQCgdZAw4wHqu23v/1tDl2pOAuy6Om0OMuBBx647FH1AccUuelMoN6sQm+Te1PAayov4qXcQrUFAq2FhpGc3Nall16azjzzzJybO+CAA9JHPvKRnJurZ/6tENzdd9+dc27GjhtSyfBAbGX0kdq3KAkJBFoPDZMliIR7yqGUg5PjUoJRD4LD60JTi8UYVvnzn/885weFzkJpLVhIV+5QHi4m8wYCrYuGkZywD3EwFBgMW2+9dV3yXAp5hcXc3bvuuiuHzeedd17uN+WUnnLKKenEE0/MIXSEp4FA66Nh4eqVV16ZzjnnnKykrACvjORjH/tYVncdAR9TaDp+/PjcoYDcqDnqcc8998wky1BAbNqwgtwCgfZA3UnO2gbcS0SjJk79mZyY6binn356VlO1QERq1bidpnqYrmsWmy4D7isF5nYuqJB32223/bsV5d3HRLC8HwWnsNfHRmpygBxTnQpR7xYItB+6/r8Ky653OMq0Dv2eiKusIfriiy/mOjoupvyckBIZaosquTM1dspOzj333Dx8UoeE10CWbufSKlFBXkwDr1Pw/PPPp3vvvTdddNFFuceUWlNkrGyFe+pvucFAINB+qCvJUXBcVcqLctPJgPiQk2JbiX7FwEJKm3yd0FGXRJnsIZ+G+KgzxGgApZITq8kjM/8GsjR1t0BtnvIQTiliO/LII7OhEG1YgUD7o8NJjmOpqFZyX6IfOSn0FSIiHUpOKCnsRGCIC/EIJeXnhJ1IzWMpLirQawgtx44dm4mPcYHcKELPtaQflVhA3SFBrykcFtYyOYLgAoH2R4dn10unwx//+MccWkr+cy4pMDk1OTStUhL/Wr6QFfWGBBkSFJzHy50hJiQolNWBQAl6vlATmWr/8veKnRJUndvl8mrJLxAItD863HgQjsqhUVkcSyEigiqDJJEeBSek9FgKTV3airVpSEzB7qc//elMeCeffHJukvc4KvDzn/98VmZmuR133HF5qb9AIBDocCWHzJgE22+/fVZTQtDS1I7kEFNRWhxTCs/fKxbfFocUYVoERtGuELQQKHPCvyXXFn2lgUCgoGWKwSg9RIYc5dTKWPFCfspCqEAhLuITJlOJgUCgc6NlSA6JcU8ptdrl/LixaueMcxIKU4nXXHNNdnGRHdMiEAh0XrQMySEyU4MRnJxeAfUmHBa6Kk25/PLLc24P2TEkYgR5INC50TIkxx+Ra+OQ1io5BKfmjhtLuSn6VSqiXavk/gKBQOdFw3pX1xRyclxYik2piNISEI5qC2M+GFcuT6dMxOOiiyEQCLQMyQUCgcDaIGK5QCDQ1giSCwQCbY0guUAg0NYIkgsEAm2NILlAINDWCJILBAJtjSC5QCDQ1giSCwQCbY0guUAg0NYIkgsEAm2NILlAINDWCJILBAJtjSC5QCDQ1giSCwQCbYyU/j/0Cp0vngRC7wAAAABJRU5ErkJggg==)"
      ],
      "metadata": {
        "id": "Azr1_mgxZ2Wz"
      }
    },
    {
      "cell_type": "markdown",
      "source": [
        "x는 입력 값 w는 가중치 y는 출력값이다, 그림안의 원은 인공 뉴런  \n",
        "각각의 인공 뉴런에서 보내진 입력값 x는 각각의 가중치 w와 함께 종착지인 인공 뉴런에 전달 됨  \n",
        "각각의 입력값에는 각각의 가중치가 존재하는데 가중치가 크면 클수록 해당 값이 중요한것을 의미.  \n",
        "각각의 입력값과 그에 해당되는 가중치의 곱의 전체 합을 임계치라고 한다. Activation Function은 step Function을 사용한다.  \n",
        "로지스틱 회귀 모델에서와의 차이는 활성화 함수밖에 없다."
      ],
      "metadata": {
        "id": "DxiCLwOzaiWn"
      }
    },
    {
      "cell_type": "markdown",
      "source": [
        "단층 퍼셉트론(Single-Layer Perceptron)  \n",
        "단층은 input layer 와 output layer 두개로 나누어져있다.  \n",
        "초기의 단층 퍼셉트론은 간단한 XOR 게이트도 구현할 수 없는 부족한 인공신경망이라는 지적을 받음"
      ],
      "metadata": {
        "id": "6vBy7lovczSM"
      }
    },
    {
      "cell_type": "markdown",
      "source": [
        "##7.11 다층 퍼셉트론"
      ],
      "metadata": {
        "id": "WXkp_FZMWhLU"
      }
    },
    {
      "cell_type": "code",
      "source": [
        "import numpy as np\n",
        "from tensorflow.keras.preprocessing.text import Tokenizer"
      ],
      "metadata": {
        "id": "rzUqz12EWnrO"
      },
      "execution_count": null,
      "outputs": []
    },
    {
      "cell_type": "code",
      "source": [
        "texts=['먹고 싶은 사과','먹고 싶은 바나나','길고 노란 바나나','저는 과일이 좋아요']"
      ],
      "metadata": {
        "id": "HgULACMHWtDx"
      },
      "execution_count": null,
      "outputs": []
    },
    {
      "cell_type": "code",
      "source": [
        "tokenizer=Tokenizer()\n",
        "tokenizer.fit_on_texts(texts)\n",
        "print(tokenizer.word_index)"
      ],
      "metadata": {
        "colab": {
          "base_uri": "https://localhost:8080/"
        },
        "id": "-L1oK7zYW1R4",
        "outputId": "789f60ce-2696-479a-8338-d728e90bdb86"
      },
      "execution_count": null,
      "outputs": [
        {
          "output_type": "stream",
          "name": "stdout",
          "text": [
            "{'먹고': 1, '싶은': 2, '바나나': 3, '사과': 4, '길고': 5, '노란': 6, '저는': 7, '과일이': 8, '좋아요': 9}\n"
          ]
        }
      ]
    },
    {
      "cell_type": "code",
      "source": [
        "print(tokenizer.texts_to_matrix(texts, mode='count'))"
      ],
      "metadata": {
        "colab": {
          "base_uri": "https://localhost:8080/"
        },
        "id": "6mXF0u1aW_Uk",
        "outputId": "f1f30890-5cb8-408c-ebf3-de642b1c45c6"
      },
      "execution_count": null,
      "outputs": [
        {
          "output_type": "stream",
          "name": "stdout",
          "text": [
            "[[0. 1. 1. 0. 1. 0. 0. 0. 0. 0.]\n",
            " [0. 1. 1. 1. 0. 0. 0. 0. 0. 0.]\n",
            " [0. 0. 0. 1. 0. 1. 1. 0. 0. 0.]\n",
            " [0. 0. 0. 0. 0. 0. 0. 1. 1. 1.]]\n"
          ]
        }
      ]
    },
    {
      "cell_type": "code",
      "source": [],
      "metadata": {
        "id": "1tmkpY7tXLXq"
      },
      "execution_count": null,
      "outputs": []
    },
    {
      "cell_type": "markdown",
      "source": [
        "DATASET and DATALOADER"
      ],
      "metadata": {
        "id": "tjCaq6eXAVEA"
      }
    },
    {
      "cell_type": "markdown",
      "source": [],
      "metadata": {
        "id": "Dv-ljzzFAZjk"
      }
    },
    {
      "cell_type": "markdown",
      "source": [],
      "metadata": {
        "id": "f6FG8UfAAbWD"
      }
    }
  ]
}
